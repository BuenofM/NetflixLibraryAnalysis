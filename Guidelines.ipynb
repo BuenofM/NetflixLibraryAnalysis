{
 "cells": [
  {
   "cell_type": "markdown",
   "metadata": {},
   "source": [
    "# PROJECT W5/6\n",
    "**The 2 Weeks Project.**"
   ]
  },
  {
   "cell_type": "markdown",
   "metadata": {},
   "source": [
    "<font color=green>Guidelines:</font>  \n",
    "- We will work on the project during week 5 and week 6, and finish by Friday of week 6.  \n",
    "- Dataset should be related to you. *If you have understanding of the problem, it is much easier to come up with useful and interesting insides.*  \n",
    "- Create a story. *Where do you work? Why this project? What is the objective of study, what are the goals, workflow, results, conclusions and recommendations. Last one is the most interesting.*  \n",
    "- Features (columns) should describe the topic. *Don't keep useless data.* \n",
    "- At least 10 features; 4 of them being categorical.    \n",
    "- At least 1 column should be scraped; this column should be related to your dataset, but it is not reauired to be related to the main topic. *Video games example: for column country of origin, GDP per capita for this country can be scraped because it can show you some insights on the value of money.*\n",
    "- At least 500 rows."
   ]
  },
  {
   "cell_type": "markdown",
   "metadata": {},
   "source": [
    "<font color=green>List of alumni's repos for reference:</font>    \n",
    "https://www.notion.so/76fd9ca16de94d649bfefe581aaa9b34?v=bc2df0ce88c74e139a7f728c138e3a11"
   ]
  },
  {
   "cell_type": "markdown",
   "metadata": {},
   "source": [
    "***"
   ]
  },
  {
   "cell_type": "markdown",
   "metadata": {},
   "source": [
    "# Check List\n",
    "\n",
    "  \n",
    "## Part 1\n",
    "1. Preparing the project\n",
    "    - [x] Define topic and find Dataset + Website\n",
    "    - [x] Send Dataset to teacher for approval\n",
    "    - [ ] Define details of story  \n",
    "    \n",
    "    \n",
    "2. Preparing the data  \n",
    "    - [ ] Scrape additional information\n",
    "    - [ ] Clean Dataset\n",
    "    \n",
    "    \n",
    "## Part 2 \n",
    "\n",
    "1. Exploratory analisis     \n",
    "    - [ ] Data visualisations\n",
    "    - [ ] Statistical overview of the Dataset\n",
    "        - [ ] Descriptive stats\n",
    "        - [ ] Exploratory tables  \n",
    "        - [ ] Data aggregations\n",
    "    \n",
    "    \n",
    "2. Inferential analisis\n",
    "    - [ ] Hypothesis Testing\n",
    "    - [ ] Linear Regression model"
   ]
  },
  {
   "cell_type": "markdown",
   "metadata": {},
   "source": [
    "***"
   ]
  }
 ],
 "metadata": {
  "kernelspec": {
   "display_name": "Python 3",
   "language": "python",
   "name": "python3"
  },
  "language_info": {
   "codemirror_mode": {
    "name": "ipython",
    "version": 3
   },
   "file_extension": ".py",
   "mimetype": "text/x-python",
   "name": "python",
   "nbconvert_exporter": "python",
   "pygments_lexer": "ipython3",
   "version": "3.7.4"
  }
 },
 "nbformat": 4,
 "nbformat_minor": 2
}
