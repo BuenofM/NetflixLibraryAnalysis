{
 "cells": [
  {
   "cell_type": "markdown",
   "metadata": {},
   "source": [
    "# PROJECT W5/6\n",
    "**The 2 Weeks Project.**  \n",
    "<font color=red>Netflix shows</font>"
   ]
  },
  {
   "cell_type": "markdown",
   "metadata": {},
   "source": [
    "Helpful links:  \n",
    "https://usa.newonnetflix.info  \n",
    "https://www.ratingraph.com/tv-shows/\n",
    "\n",
    "https://en.wikipedia.org/wiki/List_of_Netflix_original_programming#Animation  \n",
    "https://www.imdb.com/chart/toptv"
   ]
  },
  {
   "cell_type": "markdown",
   "metadata": {},
   "source": [
    "***"
   ]
  },
  {
   "cell_type": "markdown",
   "metadata": {},
   "source": [
    "## Data Preparation"
   ]
  },
  {
   "cell_type": "markdown",
   "metadata": {},
   "source": [
    "### Story"
   ]
  },
  {
   "cell_type": "markdown",
   "metadata": {},
   "source": [
    "**1. Import the datasets**\n",
    " \n",
    "https://www.kaggle.com/shivamb/netflix-shows  \n",
    "https://datasets.imdbws.com/ "
   ]
  },
  {
   "cell_type": "markdown",
   "metadata": {},
   "source": [
    "Libraries used:"
   ]
  },
  {
   "cell_type": "code",
   "execution_count": 1,
   "metadata": {},
   "outputs": [],
   "source": [
    "import pandas as pd\n",
    "import numpy as np\n",
    "\n",
    "import requests as r\n",
    "from bs4 import BeautifulSoup"
   ]
  },
  {
   "cell_type": "markdown",
   "metadata": {},
   "source": [
    "**The main dataframe**"
   ]
  },
  {
   "cell_type": "code",
   "execution_count": 2,
   "metadata": {},
   "outputs": [
    {
     "data": {
      "text/plain": [
       "(6234, 12)"
      ]
     },
     "execution_count": 2,
     "metadata": {},
     "output_type": "execute_result"
    }
   ],
   "source": [
    "# Main dataset consists of tv shows and movies available on Netflix as of 2019\n",
    "# Found on Kaggle and collected from Flixable (third-party Netflix search engine)\n",
    "path = '/netflix_titles.csv'\n",
    "df = pd.read_csv(path)\n",
    "df.shape"
   ]
  },
  {
   "cell_type": "code",
   "execution_count": 3,
   "metadata": {},
   "outputs": [
    {
     "data": {
      "text/plain": [
       "Index(['show_id', 'type', 'title', 'director', 'cast', 'country', 'date_added',\n",
       "       'release_year', 'rating', 'duration', 'listed_in', 'description'],\n",
       "      dtype='object')"
      ]
     },
     "execution_count": 3,
     "metadata": {},
     "output_type": "execute_result"
    }
   ],
   "source": [
    "# Check if type of title is specified in columns \n",
    "df.columns"
   ]
  },
  {
   "cell_type": "code",
   "execution_count": 4,
   "metadata": {},
   "outputs": [
    {
     "data": {
      "text/plain": [
       "array(['Movie', 'TV Show'], dtype=object)"
      ]
     },
     "execution_count": 4,
     "metadata": {},
     "output_type": "execute_result"
    }
   ],
   "source": [
    "df['type'].unique()"
   ]
  },
  {
   "cell_type": "code",
   "execution_count": 5,
   "metadata": {
    "scrolled": true
   },
   "outputs": [
    {
     "data": {
      "text/plain": [
       "(1969, 12)"
      ]
     },
     "execution_count": 5,
     "metadata": {},
     "output_type": "execute_result"
    }
   ],
   "source": [
    "# Drop all Movies from dataframe, focus on TV Shows\n",
    "df.drop(df[df.type == 'Movie'].index, inplace=True)\n",
    "df.reset_index(drop=True, inplace=True)\n",
    "df.shape"
   ]
  },
  {
   "cell_type": "code",
   "execution_count": 6,
   "metadata": {
    "scrolled": false
   },
   "outputs": [
    {
     "data": {
      "text/html": [
       "<div>\n",
       "<style scoped>\n",
       "    .dataframe tbody tr th:only-of-type {\n",
       "        vertical-align: middle;\n",
       "    }\n",
       "\n",
       "    .dataframe tbody tr th {\n",
       "        vertical-align: top;\n",
       "    }\n",
       "\n",
       "    .dataframe thead th {\n",
       "        text-align: right;\n",
       "    }\n",
       "</style>\n",
       "<table border=\"1\" class=\"dataframe\">\n",
       "  <thead>\n",
       "    <tr style=\"text-align: right;\">\n",
       "      <th></th>\n",
       "      <th>show_id</th>\n",
       "      <th>type</th>\n",
       "      <th>title</th>\n",
       "      <th>director</th>\n",
       "      <th>cast</th>\n",
       "      <th>country</th>\n",
       "      <th>date_added</th>\n",
       "      <th>release_year</th>\n",
       "      <th>rating</th>\n",
       "      <th>duration</th>\n",
       "      <th>listed_in</th>\n",
       "      <th>description</th>\n",
       "    </tr>\n",
       "  </thead>\n",
       "  <tbody>\n",
       "    <tr>\n",
       "      <td>0</td>\n",
       "      <td>70234439</td>\n",
       "      <td>TV Show</td>\n",
       "      <td>Transformers Prime</td>\n",
       "      <td>NaN</td>\n",
       "      <td>Peter Cullen, Sumalee Montano, Frank Welker, J...</td>\n",
       "      <td>United States</td>\n",
       "      <td>September 8, 2018</td>\n",
       "      <td>2013</td>\n",
       "      <td>TV-Y7-FV</td>\n",
       "      <td>1 Season</td>\n",
       "      <td>Kids' TV</td>\n",
       "      <td>With the help of three human allies, the Autob...</td>\n",
       "    </tr>\n",
       "    <tr>\n",
       "      <td>1</td>\n",
       "      <td>80058654</td>\n",
       "      <td>TV Show</td>\n",
       "      <td>Transformers: Robots in Disguise</td>\n",
       "      <td>NaN</td>\n",
       "      <td>Will Friedle, Darren Criss, Constance Zimmer, ...</td>\n",
       "      <td>United States</td>\n",
       "      <td>September 8, 2018</td>\n",
       "      <td>2016</td>\n",
       "      <td>TV-Y7</td>\n",
       "      <td>1 Season</td>\n",
       "      <td>Kids' TV</td>\n",
       "      <td>When a prison ship crash unleashes hundreds of...</td>\n",
       "    </tr>\n",
       "    <tr>\n",
       "      <td>2</td>\n",
       "      <td>80163890</td>\n",
       "      <td>TV Show</td>\n",
       "      <td>Apaches</td>\n",
       "      <td>NaN</td>\n",
       "      <td>Alberto Ammann, Eloy Azorín, Verónica Echegui,...</td>\n",
       "      <td>Spain</td>\n",
       "      <td>September 8, 2017</td>\n",
       "      <td>2016</td>\n",
       "      <td>TV-MA</td>\n",
       "      <td>1 Season</td>\n",
       "      <td>Crime TV Shows, International TV Shows, Spanis...</td>\n",
       "      <td>A young journalist is forced into a life of cr...</td>\n",
       "    </tr>\n",
       "    <tr>\n",
       "      <td>3</td>\n",
       "      <td>80117902</td>\n",
       "      <td>TV Show</td>\n",
       "      <td>Fire Chasers</td>\n",
       "      <td>NaN</td>\n",
       "      <td>NaN</td>\n",
       "      <td>United States</td>\n",
       "      <td>September 8, 2017</td>\n",
       "      <td>2017</td>\n",
       "      <td>TV-MA</td>\n",
       "      <td>1 Season</td>\n",
       "      <td>Docuseries, Science &amp; Nature TV</td>\n",
       "      <td>As California's 2016 fire season rages, brave ...</td>\n",
       "    </tr>\n",
       "    <tr>\n",
       "      <td>4</td>\n",
       "      <td>80244601</td>\n",
       "      <td>TV Show</td>\n",
       "      <td>Castle of Stars</td>\n",
       "      <td>NaN</td>\n",
       "      <td>Chaiyapol Pupart, Jintanutda Lummakanon, Worra...</td>\n",
       "      <td>NaN</td>\n",
       "      <td>September 7, 2018</td>\n",
       "      <td>2015</td>\n",
       "      <td>TV-14</td>\n",
       "      <td>1 Season</td>\n",
       "      <td>International TV Shows, Romantic TV Shows, TV ...</td>\n",
       "      <td>As four couples with different lifestyles go t...</td>\n",
       "    </tr>\n",
       "  </tbody>\n",
       "</table>\n",
       "</div>"
      ],
      "text/plain": [
       "    show_id     type                             title director  \\\n",
       "0  70234439  TV Show                Transformers Prime      NaN   \n",
       "1  80058654  TV Show  Transformers: Robots in Disguise      NaN   \n",
       "2  80163890  TV Show                           Apaches      NaN   \n",
       "3  80117902  TV Show                      Fire Chasers      NaN   \n",
       "4  80244601  TV Show                   Castle of Stars      NaN   \n",
       "\n",
       "                                                cast        country  \\\n",
       "0  Peter Cullen, Sumalee Montano, Frank Welker, J...  United States   \n",
       "1  Will Friedle, Darren Criss, Constance Zimmer, ...  United States   \n",
       "2  Alberto Ammann, Eloy Azorín, Verónica Echegui,...          Spain   \n",
       "3                                                NaN  United States   \n",
       "4  Chaiyapol Pupart, Jintanutda Lummakanon, Worra...            NaN   \n",
       "\n",
       "          date_added  release_year    rating  duration  \\\n",
       "0  September 8, 2018          2013  TV-Y7-FV  1 Season   \n",
       "1  September 8, 2018          2016     TV-Y7  1 Season   \n",
       "2  September 8, 2017          2016     TV-MA  1 Season   \n",
       "3  September 8, 2017          2017     TV-MA  1 Season   \n",
       "4  September 7, 2018          2015     TV-14  1 Season   \n",
       "\n",
       "                                           listed_in  \\\n",
       "0                                           Kids' TV   \n",
       "1                                           Kids' TV   \n",
       "2  Crime TV Shows, International TV Shows, Spanis...   \n",
       "3                    Docuseries, Science & Nature TV   \n",
       "4  International TV Shows, Romantic TV Shows, TV ...   \n",
       "\n",
       "                                         description  \n",
       "0  With the help of three human allies, the Autob...  \n",
       "1  When a prison ship crash unleashes hundreds of...  \n",
       "2  A young journalist is forced into a life of cr...  \n",
       "3  As California's 2016 fire season rages, brave ...  \n",
       "4  As four couples with different lifestyles go t...  "
      ]
     },
     "execution_count": 6,
     "metadata": {},
     "output_type": "execute_result"
    }
   ],
   "source": [
    "df.head(5)"
   ]
  },
  {
   "cell_type": "markdown",
   "metadata": {},
   "source": [
    "**The IMDb Ratings dataframe**"
   ]
  },
  {
   "cell_type": "code",
   "execution_count": 7,
   "metadata": {
    "scrolled": false
   },
   "outputs": [
    {
     "data": {
      "text/plain": [
       "(1054976, 3)"
      ]
     },
     "execution_count": 7,
     "metadata": {},
     "output_type": "execute_result"
    }
   ],
   "source": [
    "# The second dataset comes from the dataset files of IMDb \n",
    "# I'll download 'title ratings' to have the average rating of each show we have\n",
    "filename='/title.ratings.tsv'\n",
    "imdbratings = pd.read_csv(filename, sep='\\t', header=0)\n",
    "imdbratings.shape"
   ]
  },
  {
   "cell_type": "code",
   "execution_count": 8,
   "metadata": {
    "scrolled": true
   },
   "outputs": [
    {
     "data": {
      "text/plain": [
       "Index(['tconst', 'averageRating', 'numVotes'], dtype='object')"
      ]
     },
     "execution_count": 8,
     "metadata": {},
     "output_type": "execute_result"
    }
   ],
   "source": [
    "# Since the dataframe comes from IMDb's database, it contains data for much more than just tv series\n",
    "# Unfortunately we don't have the type of title, so we'll leave the dataframe as is \n",
    "imdbratings.columns"
   ]
  },
  {
   "cell_type": "code",
   "execution_count": 9,
   "metadata": {},
   "outputs": [
    {
     "data": {
      "text/html": [
       "<div>\n",
       "<style scoped>\n",
       "    .dataframe tbody tr th:only-of-type {\n",
       "        vertical-align: middle;\n",
       "    }\n",
       "\n",
       "    .dataframe tbody tr th {\n",
       "        vertical-align: top;\n",
       "    }\n",
       "\n",
       "    .dataframe thead th {\n",
       "        text-align: right;\n",
       "    }\n",
       "</style>\n",
       "<table border=\"1\" class=\"dataframe\">\n",
       "  <thead>\n",
       "    <tr style=\"text-align: right;\">\n",
       "      <th></th>\n",
       "      <th>tconst</th>\n",
       "      <th>averageRating</th>\n",
       "      <th>numVotes</th>\n",
       "    </tr>\n",
       "  </thead>\n",
       "  <tbody>\n",
       "    <tr>\n",
       "      <td>0</td>\n",
       "      <td>tt0000001</td>\n",
       "      <td>5.7</td>\n",
       "      <td>1630</td>\n",
       "    </tr>\n",
       "    <tr>\n",
       "      <td>1</td>\n",
       "      <td>tt0000002</td>\n",
       "      <td>6.1</td>\n",
       "      <td>196</td>\n",
       "    </tr>\n",
       "    <tr>\n",
       "      <td>2</td>\n",
       "      <td>tt0000003</td>\n",
       "      <td>6.5</td>\n",
       "      <td>1321</td>\n",
       "    </tr>\n",
       "    <tr>\n",
       "      <td>3</td>\n",
       "      <td>tt0000004</td>\n",
       "      <td>6.2</td>\n",
       "      <td>119</td>\n",
       "    </tr>\n",
       "    <tr>\n",
       "      <td>4</td>\n",
       "      <td>tt0000005</td>\n",
       "      <td>6.1</td>\n",
       "      <td>2106</td>\n",
       "    </tr>\n",
       "  </tbody>\n",
       "</table>\n",
       "</div>"
      ],
      "text/plain": [
       "      tconst  averageRating  numVotes\n",
       "0  tt0000001            5.7      1630\n",
       "1  tt0000002            6.1       196\n",
       "2  tt0000003            6.5      1321\n",
       "3  tt0000004            6.2       119\n",
       "4  tt0000005            6.1      2106"
      ]
     },
     "execution_count": 9,
     "metadata": {},
     "output_type": "execute_result"
    }
   ],
   "source": [
    "imdbratings.head(5)"
   ]
  },
  {
   "cell_type": "markdown",
   "metadata": {},
   "source": [
    "**The IMDb Titles dataframe**"
   ]
  },
  {
   "cell_type": "code",
   "execution_count": 10,
   "metadata": {
    "scrolled": false
   },
   "outputs": [
    {
     "name": "stderr",
     "output_type": "stream",
     "text": [
      "/Applications/anaconda3/lib/python3.7/site-packages/IPython/core/interactiveshell.py:3058: DtypeWarning: Columns (5) have mixed types. Specify dtype option on import or set low_memory=False.\n",
      "  interactivity=interactivity, compiler=compiler, result=result)\n"
     ]
    },
    {
     "data": {
      "text/plain": [
       "(6993900, 9)"
      ]
     },
     "execution_count": 10,
     "metadata": {},
     "output_type": "execute_result"
    }
   ],
   "source": [
    "# The third dataset also comes from the dataset files of IMDb \n",
    "# I'll download 'title basics' to have basic information of each title \n",
    "filename='/title.basics.tsv'\n",
    "imdbtitle = pd.read_csv(filename, sep='\\t', header=0)\n",
    "imdbtitle.shape"
   ]
  },
  {
   "cell_type": "code",
   "execution_count": 11,
   "metadata": {},
   "outputs": [
    {
     "data": {
      "text/plain": [
       "Index(['tconst', 'titleType', 'primaryTitle', 'originalTitle', 'isAdult',\n",
       "       'startYear', 'endYear', 'runtimeMinutes', 'genres'],\n",
       "      dtype='object')"
      ]
     },
     "execution_count": 11,
     "metadata": {},
     "output_type": "execute_result"
    }
   ],
   "source": [
    "# Since the dataframe comes from IMDb's database, it contains data for much more than just tv series\n",
    "# Here we have the type of title, so we can drop the data we don't need\n",
    "imdbtitle.columns"
   ]
  },
  {
   "cell_type": "code",
   "execution_count": 12,
   "metadata": {},
   "outputs": [
    {
     "data": {
      "text/plain": [
       "array(['short', 'movie', 'tvMovie', 'tvSeries', 'tvEpisode', 'tvShort',\n",
       "       'tvMiniSeries', 'tvSpecial', 'video', 'videoGame'], dtype=object)"
      ]
     },
     "execution_count": 12,
     "metadata": {},
     "output_type": "execute_result"
    }
   ],
   "source": [
    "imdbtitle['titleType'].unique()"
   ]
  },
  {
   "cell_type": "code",
   "execution_count": 13,
   "metadata": {
    "scrolled": true
   },
   "outputs": [
    {
     "data": {
      "text/plain": [
       "(249577, 9)"
      ]
     },
     "execution_count": 13,
     "metadata": {},
     "output_type": "execute_result"
    }
   ],
   "source": [
    "imdbtitle.drop(imdbtitle[(imdbtitle.titleType == 'short') |\n",
    "                         (imdbtitle.titleType == 'movie') |\n",
    "                         (imdbtitle.titleType == 'tvMovie') |\n",
    "                         (imdbtitle.titleType == 'tvEpisode') |\n",
    "                         (imdbtitle.titleType == 'tvShort') |\n",
    "                         (imdbtitle.titleType == 'video') | \n",
    "                         (imdbtitle.titleType == 'videoGame')].index, inplace=True)\n",
    "\n",
    "imdbtitle.reset_index(drop=True, inplace=True)\n",
    "imdbtitle.shape"
   ]
  },
  {
   "cell_type": "code",
   "execution_count": 14,
   "metadata": {},
   "outputs": [
    {
     "data": {
      "text/plain": [
       "Index(['tconst', 'primaryTitle', 'originalTitle', 'isAdult', 'startYear',\n",
       "       'endYear', 'runtimeMinutes', 'genres'],\n",
       "      dtype='object')"
      ]
     },
     "execution_count": 14,
     "metadata": {},
     "output_type": "execute_result"
    }
   ],
   "source": [
    "# Now that we're left with tv shows, we can drop titleType\n",
    "imdbtitle.drop(['titleType'], axis=1, inplace=True)\n",
    "imdbtitle.columns"
   ]
  },
  {
   "cell_type": "code",
   "execution_count": 15,
   "metadata": {},
   "outputs": [
    {
     "data": {
      "text/html": [
       "<div>\n",
       "<style scoped>\n",
       "    .dataframe tbody tr th:only-of-type {\n",
       "        vertical-align: middle;\n",
       "    }\n",
       "\n",
       "    .dataframe tbody tr th {\n",
       "        vertical-align: top;\n",
       "    }\n",
       "\n",
       "    .dataframe thead th {\n",
       "        text-align: right;\n",
       "    }\n",
       "</style>\n",
       "<table border=\"1\" class=\"dataframe\">\n",
       "  <thead>\n",
       "    <tr style=\"text-align: right;\">\n",
       "      <th></th>\n",
       "      <th>tconst</th>\n",
       "      <th>primaryTitle</th>\n",
       "      <th>originalTitle</th>\n",
       "      <th>isAdult</th>\n",
       "      <th>startYear</th>\n",
       "      <th>endYear</th>\n",
       "      <th>runtimeMinutes</th>\n",
       "      <th>genres</th>\n",
       "    </tr>\n",
       "  </thead>\n",
       "  <tbody>\n",
       "    <tr>\n",
       "      <td>0</td>\n",
       "      <td>tt0035599</td>\n",
       "      <td>Voice of Firestone Televues</td>\n",
       "      <td>Voice of Firestone Televues</td>\n",
       "      <td>0</td>\n",
       "      <td>1943</td>\n",
       "      <td>1947</td>\n",
       "      <td>15</td>\n",
       "      <td>\\N</td>\n",
       "    </tr>\n",
       "    <tr>\n",
       "      <td>1</td>\n",
       "      <td>tt0035803</td>\n",
       "      <td>The German Weekly Review</td>\n",
       "      <td>Die Deutsche Wochenschau</td>\n",
       "      <td>0</td>\n",
       "      <td>1940</td>\n",
       "      <td>1945</td>\n",
       "      <td>12</td>\n",
       "      <td>Documentary,News</td>\n",
       "    </tr>\n",
       "    <tr>\n",
       "      <td>2</td>\n",
       "      <td>tt0038276</td>\n",
       "      <td>You Are an Artist</td>\n",
       "      <td>You Are an Artist</td>\n",
       "      <td>0</td>\n",
       "      <td>1946</td>\n",
       "      <td>1950</td>\n",
       "      <td>15</td>\n",
       "      <td>\\N</td>\n",
       "    </tr>\n",
       "    <tr>\n",
       "      <td>3</td>\n",
       "      <td>tt0039120</td>\n",
       "      <td>Americana</td>\n",
       "      <td>Americana</td>\n",
       "      <td>0</td>\n",
       "      <td>1947</td>\n",
       "      <td>1949</td>\n",
       "      <td>30</td>\n",
       "      <td>Family,Game-Show</td>\n",
       "    </tr>\n",
       "    <tr>\n",
       "      <td>4</td>\n",
       "      <td>tt0039121</td>\n",
       "      <td>Birthday Party</td>\n",
       "      <td>Birthday Party</td>\n",
       "      <td>0</td>\n",
       "      <td>1947</td>\n",
       "      <td>1949</td>\n",
       "      <td>30</td>\n",
       "      <td>Family</td>\n",
       "    </tr>\n",
       "  </tbody>\n",
       "</table>\n",
       "</div>"
      ],
      "text/plain": [
       "      tconst                 primaryTitle                originalTitle  \\\n",
       "0  tt0035599  Voice of Firestone Televues  Voice of Firestone Televues   \n",
       "1  tt0035803     The German Weekly Review     Die Deutsche Wochenschau   \n",
       "2  tt0038276            You Are an Artist            You Are an Artist   \n",
       "3  tt0039120                    Americana                    Americana   \n",
       "4  tt0039121               Birthday Party               Birthday Party   \n",
       "\n",
       "   isAdult startYear endYear runtimeMinutes            genres  \n",
       "0        0      1943    1947             15                \\N  \n",
       "1        0      1940    1945             12  Documentary,News  \n",
       "2        0      1946    1950             15                \\N  \n",
       "3        0      1947    1949             30  Family,Game-Show  \n",
       "4        0      1947    1949             30            Family  "
      ]
     },
     "execution_count": 15,
     "metadata": {},
     "output_type": "execute_result"
    }
   ],
   "source": [
    "imdbtitle.head(5)"
   ]
  },
  {
   "cell_type": "markdown",
   "metadata": {},
   "source": [
    "***"
   ]
  },
  {
   "cell_type": "markdown",
   "metadata": {},
   "source": [
    "**2. Define the context of the project**"
   ]
  },
  {
   "cell_type": "markdown",
   "metadata": {},
   "source": [
    "Where do you work? Why this project?"
   ]
  },
  {
   "cell_type": "code",
   "execution_count": 16,
   "metadata": {},
   "outputs": [
    {
     "name": "stdout",
     "output_type": "stream",
     "text": [
      "I work for Netflix, in the TV Shows departement. \n",
      "It's end of 2019 and my bosses want me to give a compte-rendu of our catalogue:\n",
      "- What is in it?\n",
      "- How well are our original productions doing?\n"
     ]
    }
   ],
   "source": [
    "print(\"\"\"I work for Netflix, in the TV Shows departement. \n",
    "It's end of 2019 and my bosses want me to give a compte-rendu of our catalogue:\n",
    "- What is in it?\n",
    "- How well are our original productions doing?\"\"\")"
   ]
  },
  {
   "cell_type": "markdown",
   "metadata": {},
   "source": [
    "What is the objective of study? What is the goal(goals)?"
   ]
  },
  {
   "cell_type": "code",
   "execution_count": 17,
   "metadata": {},
   "outputs": [
    {
     "name": "stdout",
     "output_type": "stream",
     "text": [
      "Conduct a 3 step analysis...\n",
      "\n",
      "1. Looking at the Netflix catalogue:  \n",
      "- what type of series do we have the most of?\n",
      "- are there genres that are more popular than others?\n",
      "\n",
      "2. Looking at Netflix Originals:\n",
      "- what are we producing the most?\n",
      "- what is the average rating for our original content?\n",
      "\n",
      "3. Comparing to IMDb's 250 Top Rated TV Shows:\n",
      "- how many of the TV shows in this list do we currently have the rights of? \n",
      "\n",
      "\n",
      "To better understand the content we produce. \n",
      "\n"
     ]
    }
   ],
   "source": [
    "print(\"\"\"Conduct a 3 step analysis...\n",
    "\n",
    "1. Looking at the Netflix catalogue:  \n",
    "- what type of series do we have the most of?\n",
    "- are there genres that are more popular than others?\n",
    "\n",
    "2. Looking at Netflix Originals:\n",
    "- what are we producing the most?\n",
    "- what is the average rating for our original content?\n",
    "\n",
    "3. Comparing to IMDb's 250 Top Rated TV Shows:\n",
    "- how many of the TV shows in this list do we currently have the rights of? \n",
    "\n",
    "\n",
    "To better understand the content we produce. \n",
    "\"\"\")"
   ]
  },
  {
   "cell_type": "markdown",
   "metadata": {},
   "source": [
    "**3. Define the expectations of the project**"
   ]
  },
  {
   "cell_type": "markdown",
   "metadata": {},
   "source": [
    "Workflow"
   ]
  },
  {
   "cell_type": "code",
   "execution_count": null,
   "metadata": {},
   "outputs": [],
   "source": []
  },
  {
   "cell_type": "markdown",
   "metadata": {},
   "source": [
    "Results, conclusions and recommendations"
   ]
  },
  {
   "cell_type": "code",
   "execution_count": null,
   "metadata": {},
   "outputs": [],
   "source": []
  },
  {
   "cell_type": "markdown",
   "metadata": {},
   "source": [
    "### Data cleaning the Kaggle dataframe"
   ]
  },
  {
   "cell_type": "code",
   "execution_count": 18,
   "metadata": {
    "scrolled": false
   },
   "outputs": [
    {
     "data": {
      "text/plain": [
       "show_id          int64\n",
       "type            object\n",
       "title           object\n",
       "director        object\n",
       "cast            object\n",
       "country         object\n",
       "date_added      object\n",
       "release_year     int64\n",
       "rating          object\n",
       "duration        object\n",
       "listed_in       object\n",
       "description     object\n",
       "dtype: object"
      ]
     },
     "execution_count": 18,
     "metadata": {},
     "output_type": "execute_result"
    }
   ],
   "source": [
    "df.dtypes"
   ]
  },
  {
   "cell_type": "markdown",
   "metadata": {},
   "source": [
    "Leave as:\n",
    "- title OBJ\n",
    "\n",
    "check/change:\n",
    "- cast OBJ (check how many nan)\n",
    "- country OBJ (check how many nan)\n",
    "- listed_in OBJ (change to genres)\n",
    "- date_added (change into INT)\n",
    "- rating (check the unique values, change into INT)\n",
    "- duration (in seasons, chango into INT)\n",
    "- release_year INT\n",
    "\n",
    "delete:\n",
    "- show_id (useless)\n",
    "- type (I don't need it anymore since we only kept tv shows)\n",
    "- director (too many nan)\n",
    "- description (useless in my analysis)\n",
    "\n",
    "add:\n",
    "- IMDb ratings (INT) from IMDb database\n",
    "- runtime (show duration INT) from IMDb database"
   ]
  },
  {
   "cell_type": "markdown",
   "metadata": {},
   "source": [
    "**Duplicates**"
   ]
  },
  {
   "cell_type": "code",
   "execution_count": 19,
   "metadata": {
    "scrolled": true
   },
   "outputs": [
    {
     "data": {
      "text/plain": [
       "Maniac             2\n",
       "Life               2\n",
       "Top Boy            2\n",
       "Rosario Tijeras    2\n",
       "Tunnel             2\n",
       "The Code           2\n",
       "Oh My Ghost        2\n",
       "Charmed            2\n",
       "Persona            2\n",
       "Kakegurui          2\n",
       "Lovesick           2\n",
       "Name: title, dtype: int64"
      ]
     },
     "execution_count": 19,
     "metadata": {},
     "output_type": "execute_result"
    }
   ],
   "source": [
    "# Check for duplicates\n",
    "dftitle_dups = df[df.duplicated('title', keep=False)]\n",
    "dftitle_dups.title.value_counts()\n",
    "# or also 'df.title.duplicated().sum()''"
   ]
  },
  {
   "cell_type": "code",
   "execution_count": 20,
   "metadata": {
    "scrolled": true
   },
   "outputs": [
    {
     "data": {
      "text/html": [
       "<div>\n",
       "<style scoped>\n",
       "    .dataframe tbody tr th:only-of-type {\n",
       "        vertical-align: middle;\n",
       "    }\n",
       "\n",
       "    .dataframe tbody tr th {\n",
       "        vertical-align: top;\n",
       "    }\n",
       "\n",
       "    .dataframe thead th {\n",
       "        text-align: right;\n",
       "    }\n",
       "</style>\n",
       "<table border=\"1\" class=\"dataframe\">\n",
       "  <thead>\n",
       "    <tr style=\"text-align: right;\">\n",
       "      <th></th>\n",
       "      <th>show_id</th>\n",
       "      <th>type</th>\n",
       "      <th>title</th>\n",
       "      <th>director</th>\n",
       "      <th>cast</th>\n",
       "      <th>country</th>\n",
       "      <th>date_added</th>\n",
       "      <th>release_year</th>\n",
       "      <th>rating</th>\n",
       "      <th>duration</th>\n",
       "      <th>listed_in</th>\n",
       "      <th>description</th>\n",
       "    </tr>\n",
       "  </thead>\n",
       "  <tbody>\n",
       "    <tr>\n",
       "      <td>1436</td>\n",
       "      <td>70155629</td>\n",
       "      <td>TV Show</td>\n",
       "      <td>Charmed</td>\n",
       "      <td>NaN</td>\n",
       "      <td>Holly Marie Combs, Alyssa Milano, Brian Krause...</td>\n",
       "      <td>United States</td>\n",
       "      <td>October 1, 2017</td>\n",
       "      <td>2005</td>\n",
       "      <td>TV-PG</td>\n",
       "      <td>8 Seasons</td>\n",
       "      <td>Romantic TV Shows, TV Comedies, TV Dramas</td>\n",
       "      <td>After a trio of sisters discover an ancient te...</td>\n",
       "    </tr>\n",
       "    <tr>\n",
       "      <td>401</td>\n",
       "      <td>81013657</td>\n",
       "      <td>TV Show</td>\n",
       "      <td>Charmed</td>\n",
       "      <td>NaN</td>\n",
       "      <td>Madeleine Mantock, Sarah Jeffery, Melonie Diaz...</td>\n",
       "      <td>United States</td>\n",
       "      <td>May 27, 2019</td>\n",
       "      <td>2019</td>\n",
       "      <td>TV-PG</td>\n",
       "      <td>1 Season</td>\n",
       "      <td>TV Dramas, TV Sci-Fi &amp; Fantasy</td>\n",
       "      <td>After their mother’s tragic death, a trio of s...</td>\n",
       "    </tr>\n",
       "    <tr>\n",
       "      <td>1652</td>\n",
       "      <td>80175351</td>\n",
       "      <td>TV Show</td>\n",
       "      <td>Kakegurui</td>\n",
       "      <td>NaN</td>\n",
       "      <td>Saori Hayami, Minami Tanaka, Tatsuya Tokutake,...</td>\n",
       "      <td>Japan</td>\n",
       "      <td>June 13, 2019</td>\n",
       "      <td>2019</td>\n",
       "      <td>TV-14</td>\n",
       "      <td>2 Seasons</td>\n",
       "      <td>Anime Series, International TV Shows, TV Thril...</td>\n",
       "      <td>High roller Yumeko Jabami plans to clean house...</td>\n",
       "    </tr>\n",
       "    <tr>\n",
       "      <td>1666</td>\n",
       "      <td>80233218</td>\n",
       "      <td>TV Show</td>\n",
       "      <td>Kakegurui</td>\n",
       "      <td>NaN</td>\n",
       "      <td>Minami Hamabe, Mahiro Takasugi, Aoi Morikawa</td>\n",
       "      <td>Japan</td>\n",
       "      <td>July 4, 2019</td>\n",
       "      <td>2019</td>\n",
       "      <td>TV-14</td>\n",
       "      <td>2 Seasons</td>\n",
       "      <td>International TV Shows, TV Dramas, TV Thrillers</td>\n",
       "      <td>Yumeko Jabami enrolls at Hyakkaou Private Acad...</td>\n",
       "    </tr>\n",
       "    <tr>\n",
       "      <td>83</td>\n",
       "      <td>81011508</td>\n",
       "      <td>TV Show</td>\n",
       "      <td>Life</td>\n",
       "      <td>NaN</td>\n",
       "      <td>Lee Dong-wook, Cho Seung-woo, Won Jin-ah, Lee ...</td>\n",
       "      <td>South Korea</td>\n",
       "      <td>September 12, 2018</td>\n",
       "      <td>2018</td>\n",
       "      <td>TV-MA</td>\n",
       "      <td>1 Season</td>\n",
       "      <td>International TV Shows, Korean TV Shows, TV Dr...</td>\n",
       "      <td>At Korea's top university medical center, idea...</td>\n",
       "    </tr>\n",
       "    <tr>\n",
       "      <td>1257</td>\n",
       "      <td>70225722</td>\n",
       "      <td>TV Show</td>\n",
       "      <td>Life</td>\n",
       "      <td>NaN</td>\n",
       "      <td>David Attenborough</td>\n",
       "      <td>United Kingdom, United States, Greece, Italy, ...</td>\n",
       "      <td>April 22, 2015</td>\n",
       "      <td>2009</td>\n",
       "      <td>TV-PG</td>\n",
       "      <td>1 Season</td>\n",
       "      <td>British TV Shows, Docuseries, International TV...</td>\n",
       "      <td>Discover the glorious variety of life on Earth...</td>\n",
       "    </tr>\n",
       "    <tr>\n",
       "      <td>18</td>\n",
       "      <td>80184358</td>\n",
       "      <td>TV Show</td>\n",
       "      <td>Lovesick</td>\n",
       "      <td>NaN</td>\n",
       "      <td>Kongyingyong Chonlathorn, Phumphothingam Nawat...</td>\n",
       "      <td>NaN</td>\n",
       "      <td>September 3, 2018</td>\n",
       "      <td>2014</td>\n",
       "      <td>TV-14</td>\n",
       "      <td>1 Season</td>\n",
       "      <td>International TV Shows, Romantic TV Shows, TV ...</td>\n",
       "      <td>Love and academics get complicated at an all-m...</td>\n",
       "    </tr>\n",
       "    <tr>\n",
       "      <td>1762</td>\n",
       "      <td>80041601</td>\n",
       "      <td>TV Show</td>\n",
       "      <td>Lovesick</td>\n",
       "      <td>NaN</td>\n",
       "      <td>Johnny Flynn, Antonia Thomas, Daniel Ings, Han...</td>\n",
       "      <td>United Kingdom</td>\n",
       "      <td>January 1, 2018</td>\n",
       "      <td>2018</td>\n",
       "      <td>TV-MA</td>\n",
       "      <td>3 Seasons</td>\n",
       "      <td>British TV Shows, International TV Shows, Roma...</td>\n",
       "      <td>In his quest for true love, Dylan found chlamy...</td>\n",
       "    </tr>\n",
       "    <tr>\n",
       "      <td>101</td>\n",
       "      <td>80133200</td>\n",
       "      <td>TV Show</td>\n",
       "      <td>Maniac</td>\n",
       "      <td>NaN</td>\n",
       "      <td>Espen Petrus Andersen Lervaag, Håkon Bast Moss...</td>\n",
       "      <td>Norway</td>\n",
       "      <td>September 1, 2017</td>\n",
       "      <td>2015</td>\n",
       "      <td>TV-MA</td>\n",
       "      <td>1 Season</td>\n",
       "      <td>International TV Shows, TV Comedies, TV Dramas</td>\n",
       "      <td>A nondescript man in a mental hospital has an ...</td>\n",
       "    </tr>\n",
       "    <tr>\n",
       "      <td>34</td>\n",
       "      <td>80124522</td>\n",
       "      <td>TV Show</td>\n",
       "      <td>Maniac</td>\n",
       "      <td>NaN</td>\n",
       "      <td>Emma Stone, Jonah Hill, Justin Theroux, Sally ...</td>\n",
       "      <td>United States</td>\n",
       "      <td>September 21, 2018</td>\n",
       "      <td>2018</td>\n",
       "      <td>TV-MA</td>\n",
       "      <td>1 Season</td>\n",
       "      <td>TV Comedies, TV Dramas, TV Mysteries</td>\n",
       "      <td>Two struggling strangers connect during a mind...</td>\n",
       "    </tr>\n",
       "    <tr>\n",
       "      <td>301</td>\n",
       "      <td>80993625</td>\n",
       "      <td>TV Show</td>\n",
       "      <td>Oh My Ghost</td>\n",
       "      <td>NaN</td>\n",
       "      <td>Nuengthida Sophon, Keerati Mahaprukpong, Arak ...</td>\n",
       "      <td>Thailand</td>\n",
       "      <td>November 21, 2018</td>\n",
       "      <td>2018</td>\n",
       "      <td>TV-MA</td>\n",
       "      <td>1 Season</td>\n",
       "      <td>International TV Shows, Romantic TV Shows, TV ...</td>\n",
       "      <td>When a skilled but timid chef is possessed by ...</td>\n",
       "    </tr>\n",
       "    <tr>\n",
       "      <td>1110</td>\n",
       "      <td>80178404</td>\n",
       "      <td>TV Show</td>\n",
       "      <td>Oh My Ghost</td>\n",
       "      <td>NaN</td>\n",
       "      <td>Park Bo-young, Cho Jung-seok, Lim Ju-hwan, Kim...</td>\n",
       "      <td>South Korea</td>\n",
       "      <td>August 8, 2019</td>\n",
       "      <td>2015</td>\n",
       "      <td>TV-14</td>\n",
       "      <td>1 Season</td>\n",
       "      <td>International TV Shows, Korean TV Shows, Roman...</td>\n",
       "      <td>Possessed by the ghost of a lustful virgin, a ...</td>\n",
       "    </tr>\n",
       "    <tr>\n",
       "      <td>1176</td>\n",
       "      <td>80163530</td>\n",
       "      <td>TV Show</td>\n",
       "      <td>Persona</td>\n",
       "      <td>NaN</td>\n",
       "      <td>Loo Aye Keng, Kyo, Jojo Goh, Fabian Loo, Emily...</td>\n",
       "      <td>NaN</td>\n",
       "      <td>August 14, 2017</td>\n",
       "      <td>2015</td>\n",
       "      <td>TV-PG</td>\n",
       "      <td>1 Season</td>\n",
       "      <td>Crime TV Shows, International TV Shows, TV Dramas</td>\n",
       "      <td>A private investigation firm takes on sensitiv...</td>\n",
       "    </tr>\n",
       "    <tr>\n",
       "      <td>1289</td>\n",
       "      <td>81044884</td>\n",
       "      <td>TV Show</td>\n",
       "      <td>Persona</td>\n",
       "      <td>Lee Kyoungmi, Yim Pilsung, Jeon Go-woon, Kim J...</td>\n",
       "      <td>Lee Ji-eun (IU), Bae Doona, Park Hae Soo, Kim ...</td>\n",
       "      <td>South Korea</td>\n",
       "      <td>April 11, 2019</td>\n",
       "      <td>2019</td>\n",
       "      <td>TV-MA</td>\n",
       "      <td>1 Season</td>\n",
       "      <td>International TV Shows, Korean TV Shows, TV Dr...</td>\n",
       "      <td>An exploration of different personas in an ecl...</td>\n",
       "    </tr>\n",
       "    <tr>\n",
       "      <td>1282</td>\n",
       "      <td>70205713</td>\n",
       "      <td>TV Show</td>\n",
       "      <td>Rosario Tijeras</td>\n",
       "      <td>NaN</td>\n",
       "      <td>María Fernanda Yépez, Andrés Sandoval, Sebasti...</td>\n",
       "      <td>Colombia</td>\n",
       "      <td>April 15, 2017</td>\n",
       "      <td>2010</td>\n",
       "      <td>TV-14</td>\n",
       "      <td>1 Season</td>\n",
       "      <td>Crime TV Shows, International TV Shows, Spanis...</td>\n",
       "      <td>This is Rosario's story, a girl born and raise...</td>\n",
       "    </tr>\n",
       "    <tr>\n",
       "      <td>1541</td>\n",
       "      <td>80170690</td>\n",
       "      <td>TV Show</td>\n",
       "      <td>Rosario Tijeras</td>\n",
       "      <td>NaN</td>\n",
       "      <td>Bárbara de Regil, José María de Tavira, Antoni...</td>\n",
       "      <td>Mexico</td>\n",
       "      <td>May 20, 2019</td>\n",
       "      <td>2018</td>\n",
       "      <td>TV-MA</td>\n",
       "      <td>2 Seasons</td>\n",
       "      <td>Crime TV Shows, International TV Shows, Spanis...</td>\n",
       "      <td>Worlds collide when a vengeance-obsessed young...</td>\n",
       "    </tr>\n",
       "    <tr>\n",
       "      <td>237</td>\n",
       "      <td>80002999</td>\n",
       "      <td>TV Show</td>\n",
       "      <td>The Code</td>\n",
       "      <td>NaN</td>\n",
       "      <td>Dan Spielman, Ashley Zukerman, Adele Perovic, ...</td>\n",
       "      <td>Australia</td>\n",
       "      <td>October 1, 2017</td>\n",
       "      <td>2014</td>\n",
       "      <td>TV-MA</td>\n",
       "      <td>1 Season</td>\n",
       "      <td>Crime TV Shows, International TV Shows, TV Dramas</td>\n",
       "      <td>Investigating a deadly car crash, a journalist...</td>\n",
       "    </tr>\n",
       "    <tr>\n",
       "      <td>930</td>\n",
       "      <td>80063658</td>\n",
       "      <td>TV Show</td>\n",
       "      <td>The Code</td>\n",
       "      <td>NaN</td>\n",
       "      <td>Marcus du Sautoy</td>\n",
       "      <td>United Kingdom</td>\n",
       "      <td>February 1, 2018</td>\n",
       "      <td>2011</td>\n",
       "      <td>TV-PG</td>\n",
       "      <td>1 Season</td>\n",
       "      <td>British TV Shows, Docuseries, International TV...</td>\n",
       "      <td>In this three-part documentary series, host Ma...</td>\n",
       "    </tr>\n",
       "    <tr>\n",
       "      <td>79</td>\n",
       "      <td>80217669</td>\n",
       "      <td>TV Show</td>\n",
       "      <td>Top Boy</td>\n",
       "      <td>NaN</td>\n",
       "      <td>Ashley Walters, Kane Robinson, Micheal Ward, S...</td>\n",
       "      <td>United Kingdom</td>\n",
       "      <td>September 13, 2019</td>\n",
       "      <td>2019</td>\n",
       "      <td>TV-MA</td>\n",
       "      <td>1 Season</td>\n",
       "      <td>British TV Shows, Crime TV Shows, Internationa...</td>\n",
       "      <td>Two seasoned drug dealers return to the gritty...</td>\n",
       "    </tr>\n",
       "    <tr>\n",
       "      <td>1509</td>\n",
       "      <td>70236561</td>\n",
       "      <td>TV Show</td>\n",
       "      <td>Top Boy</td>\n",
       "      <td>NaN</td>\n",
       "      <td>Ashley Walters, Kane Robinson, Malcolm Kamulet...</td>\n",
       "      <td>United Kingdom</td>\n",
       "      <td>November 1, 2017</td>\n",
       "      <td>2011</td>\n",
       "      <td>TV-MA</td>\n",
       "      <td>2 Seasons</td>\n",
       "      <td>British TV Shows, Crime TV Shows, Internationa...</td>\n",
       "      <td>In this gritty, stylish drama series, two Lond...</td>\n",
       "    </tr>\n",
       "    <tr>\n",
       "      <td>220</td>\n",
       "      <td>81167047</td>\n",
       "      <td>TV Show</td>\n",
       "      <td>Tunnel</td>\n",
       "      <td>NaN</td>\n",
       "      <td>Choi Jin-hyuk, Yoon Hyun-min, Lee Yoo-young, C...</td>\n",
       "      <td>South Korea</td>\n",
       "      <td>October 1, 2019</td>\n",
       "      <td>2017</td>\n",
       "      <td>TV-MA</td>\n",
       "      <td>1 Season</td>\n",
       "      <td>Crime TV Shows, International TV Shows, Korean...</td>\n",
       "      <td>While chasing a serial murderer, a detective e...</td>\n",
       "    </tr>\n",
       "    <tr>\n",
       "      <td>129</td>\n",
       "      <td>81142594</td>\n",
       "      <td>TV Show</td>\n",
       "      <td>Tunnel</td>\n",
       "      <td>NaN</td>\n",
       "      <td>Todsapol Maisuk, Johnny Hao, Morakot Liu, Pemy...</td>\n",
       "      <td>NaN</td>\n",
       "      <td>October 30, 2019</td>\n",
       "      <td>2019</td>\n",
       "      <td>TV-MA</td>\n",
       "      <td>1 Season</td>\n",
       "      <td>Crime TV Shows, International TV Shows, TV Dramas</td>\n",
       "      <td>A detective finds himself 30 years in the futu...</td>\n",
       "    </tr>\n",
       "  </tbody>\n",
       "</table>\n",
       "</div>"
      ],
      "text/plain": [
       "       show_id     type            title  \\\n",
       "1436  70155629  TV Show          Charmed   \n",
       "401   81013657  TV Show          Charmed   \n",
       "1652  80175351  TV Show        Kakegurui   \n",
       "1666  80233218  TV Show        Kakegurui   \n",
       "83    81011508  TV Show             Life   \n",
       "1257  70225722  TV Show             Life   \n",
       "18    80184358  TV Show         Lovesick   \n",
       "1762  80041601  TV Show         Lovesick   \n",
       "101   80133200  TV Show           Maniac   \n",
       "34    80124522  TV Show           Maniac   \n",
       "301   80993625  TV Show      Oh My Ghost   \n",
       "1110  80178404  TV Show      Oh My Ghost   \n",
       "1176  80163530  TV Show          Persona   \n",
       "1289  81044884  TV Show          Persona   \n",
       "1282  70205713  TV Show  Rosario Tijeras   \n",
       "1541  80170690  TV Show  Rosario Tijeras   \n",
       "237   80002999  TV Show         The Code   \n",
       "930   80063658  TV Show         The Code   \n",
       "79    80217669  TV Show          Top Boy   \n",
       "1509  70236561  TV Show          Top Boy   \n",
       "220   81167047  TV Show           Tunnel   \n",
       "129   81142594  TV Show           Tunnel   \n",
       "\n",
       "                                               director  \\\n",
       "1436                                                NaN   \n",
       "401                                                 NaN   \n",
       "1652                                                NaN   \n",
       "1666                                                NaN   \n",
       "83                                                  NaN   \n",
       "1257                                                NaN   \n",
       "18                                                  NaN   \n",
       "1762                                                NaN   \n",
       "101                                                 NaN   \n",
       "34                                                  NaN   \n",
       "301                                                 NaN   \n",
       "1110                                                NaN   \n",
       "1176                                                NaN   \n",
       "1289  Lee Kyoungmi, Yim Pilsung, Jeon Go-woon, Kim J...   \n",
       "1282                                                NaN   \n",
       "1541                                                NaN   \n",
       "237                                                 NaN   \n",
       "930                                                 NaN   \n",
       "79                                                  NaN   \n",
       "1509                                                NaN   \n",
       "220                                                 NaN   \n",
       "129                                                 NaN   \n",
       "\n",
       "                                                   cast  \\\n",
       "1436  Holly Marie Combs, Alyssa Milano, Brian Krause...   \n",
       "401   Madeleine Mantock, Sarah Jeffery, Melonie Diaz...   \n",
       "1652  Saori Hayami, Minami Tanaka, Tatsuya Tokutake,...   \n",
       "1666       Minami Hamabe, Mahiro Takasugi, Aoi Morikawa   \n",
       "83    Lee Dong-wook, Cho Seung-woo, Won Jin-ah, Lee ...   \n",
       "1257                                 David Attenborough   \n",
       "18    Kongyingyong Chonlathorn, Phumphothingam Nawat...   \n",
       "1762  Johnny Flynn, Antonia Thomas, Daniel Ings, Han...   \n",
       "101   Espen Petrus Andersen Lervaag, Håkon Bast Moss...   \n",
       "34    Emma Stone, Jonah Hill, Justin Theroux, Sally ...   \n",
       "301   Nuengthida Sophon, Keerati Mahaprukpong, Arak ...   \n",
       "1110  Park Bo-young, Cho Jung-seok, Lim Ju-hwan, Kim...   \n",
       "1176  Loo Aye Keng, Kyo, Jojo Goh, Fabian Loo, Emily...   \n",
       "1289  Lee Ji-eun (IU), Bae Doona, Park Hae Soo, Kim ...   \n",
       "1282  María Fernanda Yépez, Andrés Sandoval, Sebasti...   \n",
       "1541  Bárbara de Regil, José María de Tavira, Antoni...   \n",
       "237   Dan Spielman, Ashley Zukerman, Adele Perovic, ...   \n",
       "930                                    Marcus du Sautoy   \n",
       "79    Ashley Walters, Kane Robinson, Micheal Ward, S...   \n",
       "1509  Ashley Walters, Kane Robinson, Malcolm Kamulet...   \n",
       "220   Choi Jin-hyuk, Yoon Hyun-min, Lee Yoo-young, C...   \n",
       "129   Todsapol Maisuk, Johnny Hao, Morakot Liu, Pemy...   \n",
       "\n",
       "                                                country          date_added  \\\n",
       "1436                                      United States     October 1, 2017   \n",
       "401                                       United States        May 27, 2019   \n",
       "1652                                              Japan       June 13, 2019   \n",
       "1666                                              Japan        July 4, 2019   \n",
       "83                                          South Korea  September 12, 2018   \n",
       "1257  United Kingdom, United States, Greece, Italy, ...      April 22, 2015   \n",
       "18                                                  NaN   September 3, 2018   \n",
       "1762                                     United Kingdom     January 1, 2018   \n",
       "101                                              Norway   September 1, 2017   \n",
       "34                                        United States  September 21, 2018   \n",
       "301                                            Thailand   November 21, 2018   \n",
       "1110                                        South Korea      August 8, 2019   \n",
       "1176                                                NaN     August 14, 2017   \n",
       "1289                                        South Korea      April 11, 2019   \n",
       "1282                                           Colombia      April 15, 2017   \n",
       "1541                                             Mexico        May 20, 2019   \n",
       "237                                           Australia     October 1, 2017   \n",
       "930                                      United Kingdom    February 1, 2018   \n",
       "79                                       United Kingdom  September 13, 2019   \n",
       "1509                                     United Kingdom    November 1, 2017   \n",
       "220                                         South Korea     October 1, 2019   \n",
       "129                                                 NaN    October 30, 2019   \n",
       "\n",
       "      release_year rating   duration  \\\n",
       "1436          2005  TV-PG  8 Seasons   \n",
       "401           2019  TV-PG   1 Season   \n",
       "1652          2019  TV-14  2 Seasons   \n",
       "1666          2019  TV-14  2 Seasons   \n",
       "83            2018  TV-MA   1 Season   \n",
       "1257          2009  TV-PG   1 Season   \n",
       "18            2014  TV-14   1 Season   \n",
       "1762          2018  TV-MA  3 Seasons   \n",
       "101           2015  TV-MA   1 Season   \n",
       "34            2018  TV-MA   1 Season   \n",
       "301           2018  TV-MA   1 Season   \n",
       "1110          2015  TV-14   1 Season   \n",
       "1176          2015  TV-PG   1 Season   \n",
       "1289          2019  TV-MA   1 Season   \n",
       "1282          2010  TV-14   1 Season   \n",
       "1541          2018  TV-MA  2 Seasons   \n",
       "237           2014  TV-MA   1 Season   \n",
       "930           2011  TV-PG   1 Season   \n",
       "79            2019  TV-MA   1 Season   \n",
       "1509          2011  TV-MA  2 Seasons   \n",
       "220           2017  TV-MA   1 Season   \n",
       "129           2019  TV-MA   1 Season   \n",
       "\n",
       "                                              listed_in  \\\n",
       "1436          Romantic TV Shows, TV Comedies, TV Dramas   \n",
       "401                      TV Dramas, TV Sci-Fi & Fantasy   \n",
       "1652  Anime Series, International TV Shows, TV Thril...   \n",
       "1666    International TV Shows, TV Dramas, TV Thrillers   \n",
       "83    International TV Shows, Korean TV Shows, TV Dr...   \n",
       "1257  British TV Shows, Docuseries, International TV...   \n",
       "18    International TV Shows, Romantic TV Shows, TV ...   \n",
       "1762  British TV Shows, International TV Shows, Roma...   \n",
       "101      International TV Shows, TV Comedies, TV Dramas   \n",
       "34                 TV Comedies, TV Dramas, TV Mysteries   \n",
       "301   International TV Shows, Romantic TV Shows, TV ...   \n",
       "1110  International TV Shows, Korean TV Shows, Roman...   \n",
       "1176  Crime TV Shows, International TV Shows, TV Dramas   \n",
       "1289  International TV Shows, Korean TV Shows, TV Dr...   \n",
       "1282  Crime TV Shows, International TV Shows, Spanis...   \n",
       "1541  Crime TV Shows, International TV Shows, Spanis...   \n",
       "237   Crime TV Shows, International TV Shows, TV Dramas   \n",
       "930   British TV Shows, Docuseries, International TV...   \n",
       "79    British TV Shows, Crime TV Shows, Internationa...   \n",
       "1509  British TV Shows, Crime TV Shows, Internationa...   \n",
       "220   Crime TV Shows, International TV Shows, Korean...   \n",
       "129   Crime TV Shows, International TV Shows, TV Dramas   \n",
       "\n",
       "                                            description  \n",
       "1436  After a trio of sisters discover an ancient te...  \n",
       "401   After their mother’s tragic death, a trio of s...  \n",
       "1652  High roller Yumeko Jabami plans to clean house...  \n",
       "1666  Yumeko Jabami enrolls at Hyakkaou Private Acad...  \n",
       "83    At Korea's top university medical center, idea...  \n",
       "1257  Discover the glorious variety of life on Earth...  \n",
       "18    Love and academics get complicated at an all-m...  \n",
       "1762  In his quest for true love, Dylan found chlamy...  \n",
       "101   A nondescript man in a mental hospital has an ...  \n",
       "34    Two struggling strangers connect during a mind...  \n",
       "301   When a skilled but timid chef is possessed by ...  \n",
       "1110  Possessed by the ghost of a lustful virgin, a ...  \n",
       "1176  A private investigation firm takes on sensitiv...  \n",
       "1289  An exploration of different personas in an ecl...  \n",
       "1282  This is Rosario's story, a girl born and raise...  \n",
       "1541  Worlds collide when a vengeance-obsessed young...  \n",
       "237   Investigating a deadly car crash, a journalist...  \n",
       "930   In this three-part documentary series, host Ma...  \n",
       "79    Two seasoned drug dealers return to the gritty...  \n",
       "1509  In this gritty, stylish drama series, two Lond...  \n",
       "220   While chasing a serial murderer, a detective e...  \n",
       "129   A detective finds himself 30 years in the futu...  "
      ]
     },
     "execution_count": 20,
     "metadata": {},
     "output_type": "execute_result"
    }
   ],
   "source": [
    "dftitle_dups.sort_values(by=['title'])"
   ]
  },
  {
   "cell_type": "code",
   "execution_count": 21,
   "metadata": {},
   "outputs": [],
   "source": [
    "# Clean the dups one by one\n",
    "df.at[401, 'title'] = 'Charmed 2018'\n",
    "df.at[1436, 'title'] = 'Charmed 1998'\n",
    "\n",
    "df.at[1652, 'title'] = 'Kakegurui 2017'\n",
    "df.at[1666, 'title'] = 'Kakegurui 2018'\n",
    "\n",
    "df.at[83, 'title'] = 'Life (Laipeu)'\n",
    "\n",
    "df.at[18, 'title'] = 'Love Sick'\n",
    "\n",
    "df.at[34, 'title'] = 'Maniac 2018'\n",
    "df.at[101, 'title'] = 'Maniac 2014'\n",
    "\n",
    "df.at[301, 'title'] = 'Oh My Ghost 2018'\n",
    "df.at[1110, 'title'] = 'Oh My Ghost 2015'\n",
    "\n",
    "df.at[1176, 'title'] = 'Persona 2015'\n",
    "df.at[1289, 'title'] = 'Persona 2010'\n",
    "\n",
    "df.at[1282, 'title'] = 'Rosario Tijeras 2010'\n",
    "df.at[1541, 'title'] = 'Rosario Tijeras 2016'\n",
    "\n",
    "df.at[930, 'title'] = 'The Code (Documentary)'\n",
    "\n",
    "df.at[129, 'title'] = 'Tunnel 2019'\n",
    "df.at[220, 'title'] = 'Tunnel 2017'\n",
    "\n",
    "df.at[79, 'title'] = 'Top Boy (revival)'"
   ]
  },
  {
   "cell_type": "code",
   "execution_count": 22,
   "metadata": {},
   "outputs": [],
   "source": [
    "# The Kaggle dataset seperates Top Boy's revival from the original, \n",
    "# but IMDb considers the TV Series as one so we'll update the cast and seasons and drop the dup \n",
    "df.at[1509, 'cast'] = \"Ashley Walters, Kane Robinson, Malcolm Kamulete, Shone Romulus, Sharon Duncan Brewster, Giacomo Mancini, Xavien Russell, Kierston Wareing, Geoff Bell, Nicholas Pinnock, Micheal Ward, Simbiatu Ajikawo, Lisa Dwan, David Omoregie, Jasmine Jobson, Hope Ikpoku Jr., Araloyin Oshunremi, Keiyon Cook\"\n",
    "df.at[1509, 'duration'] = '3 seasons'"
   ]
  },
  {
   "cell_type": "code",
   "execution_count": 23,
   "metadata": {},
   "outputs": [
    {
     "data": {
      "text/plain": [
       "(1968, 12)"
      ]
     },
     "execution_count": 23,
     "metadata": {},
     "output_type": "execute_result"
    }
   ],
   "source": [
    "df.drop(df[df.title == 'Top Boy (revival)'].index, inplace=True)\n",
    "\n",
    "df.reset_index(drop=True, inplace=True)\n",
    "df.shape"
   ]
  },
  {
   "cell_type": "code",
   "execution_count": 24,
   "metadata": {},
   "outputs": [
    {
     "data": {
      "text/plain": [
       "0"
      ]
     },
     "execution_count": 24,
     "metadata": {},
     "output_type": "execute_result"
    }
   ],
   "source": [
    "# Check the duplicates again\n",
    "dftitle_dups = df[df.duplicated('title', keep=False)]\n",
    "dftitle_dups.title.sum()"
   ]
  },
  {
   "cell_type": "markdown",
   "metadata": {},
   "source": [
    "**Type**"
   ]
  },
  {
   "cell_type": "code",
   "execution_count": 25,
   "metadata": {},
   "outputs": [
    {
     "data": {
      "text/plain": [
       "array(['TV Show'], dtype=object)"
      ]
     },
     "execution_count": 25,
     "metadata": {},
     "output_type": "execute_result"
    }
   ],
   "source": [
    "df['type'].unique()"
   ]
  },
  {
   "cell_type": "code",
   "execution_count": 26,
   "metadata": {},
   "outputs": [
    {
     "data": {
      "text/plain": [
       "Index(['show_id', 'title', 'director', 'cast', 'country', 'date_added',\n",
       "       'release_year', 'rating', 'duration', 'listed_in', 'description'],\n",
       "      dtype='object')"
      ]
     },
     "execution_count": 26,
     "metadata": {},
     "output_type": "execute_result"
    }
   ],
   "source": [
    "df.drop(['type'], axis=1, inplace=True)\n",
    "df.columns"
   ]
  },
  {
   "cell_type": "markdown",
   "metadata": {},
   "source": [
    "**Director**"
   ]
  },
  {
   "cell_type": "code",
   "execution_count": 27,
   "metadata": {},
   "outputs": [
    {
     "data": {
      "text/plain": [
       "1840"
      ]
     },
     "execution_count": 27,
     "metadata": {},
     "output_type": "execute_result"
    }
   ],
   "source": [
    "df['director'].isnull().sum()"
   ]
  },
  {
   "cell_type": "code",
   "execution_count": 28,
   "metadata": {},
   "outputs": [
    {
     "data": {
      "text/plain": [
       "Index(['show_id', 'title', 'cast', 'country', 'date_added', 'release_year',\n",
       "       'rating', 'duration', 'listed_in', 'description'],\n",
       "      dtype='object')"
      ]
     },
     "execution_count": 28,
     "metadata": {},
     "output_type": "execute_result"
    }
   ],
   "source": [
    "df.drop(['director'], axis=1, inplace=True)\n",
    "df.columns"
   ]
  },
  {
   "cell_type": "markdown",
   "metadata": {},
   "source": [
    "**Cast**"
   ]
  },
  {
   "cell_type": "code",
   "execution_count": 29,
   "metadata": {},
   "outputs": [
    {
     "data": {
      "text/plain": [
       "210"
      ]
     },
     "execution_count": 29,
     "metadata": {},
     "output_type": "execute_result"
    }
   ],
   "source": [
    "df['cast'].isnull().sum()"
   ]
  },
  {
   "cell_type": "code",
   "execution_count": 30,
   "metadata": {},
   "outputs": [],
   "source": [
    "df['cast'].fillna('Unspecified', inplace=True)"
   ]
  },
  {
   "cell_type": "code",
   "execution_count": 31,
   "metadata": {},
   "outputs": [
    {
     "data": {
      "text/plain": [
       "0"
      ]
     },
     "execution_count": 31,
     "metadata": {},
     "output_type": "execute_result"
    }
   ],
   "source": [
    "df['cast'].isnull().sum()"
   ]
  },
  {
   "cell_type": "markdown",
   "metadata": {},
   "source": [
    "**Country**"
   ]
  },
  {
   "cell_type": "code",
   "execution_count": 32,
   "metadata": {},
   "outputs": [
    {
     "data": {
      "text/plain": [
       "281"
      ]
     },
     "execution_count": 32,
     "metadata": {},
     "output_type": "execute_result"
    }
   ],
   "source": [
    "# Check for null\n",
    "df['country'].isnull().sum()"
   ]
  },
  {
   "cell_type": "code",
   "execution_count": 33,
   "metadata": {},
   "outputs": [],
   "source": [
    "df['country'].fillna('Unspecified', inplace=True)"
   ]
  },
  {
   "cell_type": "code",
   "execution_count": 34,
   "metadata": {},
   "outputs": [
    {
     "data": {
      "text/plain": [
       "0"
      ]
     },
     "execution_count": 34,
     "metadata": {},
     "output_type": "execute_result"
    }
   ],
   "source": [
    "df['country'].isnull().sum()"
   ]
  },
  {
   "cell_type": "code",
   "execution_count": 35,
   "metadata": {
    "scrolled": true
   },
   "outputs": [],
   "source": [
    "# Reduce the unique values\n",
    "countries = df['country'].unique()"
   ]
  },
  {
   "cell_type": "code",
   "execution_count": 36,
   "metadata": {},
   "outputs": [
    {
     "data": {
      "text/plain": [
       "'United Kingdom, United States, Spain, Germany, Greece, Canada'"
      ]
     },
     "execution_count": 36,
     "metadata": {},
     "output_type": "execute_result"
    }
   ],
   "source": [
    "max(countries, key = len) "
   ]
  },
  {
   "cell_type": "code",
   "execution_count": 37,
   "metadata": {},
   "outputs": [],
   "source": [
    "df[['main_country','country_2','country_3','country_4','country_5', 'country_6']] = df.country.str.split(',',expand=True,)"
   ]
  },
  {
   "cell_type": "code",
   "execution_count": 38,
   "metadata": {
    "scrolled": true
   },
   "outputs": [
    {
     "data": {
      "text/html": [
       "<div>\n",
       "<style scoped>\n",
       "    .dataframe tbody tr th:only-of-type {\n",
       "        vertical-align: middle;\n",
       "    }\n",
       "\n",
       "    .dataframe tbody tr th {\n",
       "        vertical-align: top;\n",
       "    }\n",
       "\n",
       "    .dataframe thead th {\n",
       "        text-align: right;\n",
       "    }\n",
       "</style>\n",
       "<table border=\"1\" class=\"dataframe\">\n",
       "  <thead>\n",
       "    <tr style=\"text-align: right;\">\n",
       "      <th></th>\n",
       "      <th>show_id</th>\n",
       "      <th>title</th>\n",
       "      <th>cast</th>\n",
       "      <th>country</th>\n",
       "      <th>date_added</th>\n",
       "      <th>release_year</th>\n",
       "      <th>rating</th>\n",
       "      <th>duration</th>\n",
       "      <th>listed_in</th>\n",
       "      <th>description</th>\n",
       "      <th>main_country</th>\n",
       "      <th>country_2</th>\n",
       "      <th>country_3</th>\n",
       "      <th>country_4</th>\n",
       "      <th>country_5</th>\n",
       "      <th>country_6</th>\n",
       "    </tr>\n",
       "  </thead>\n",
       "  <tbody>\n",
       "    <tr>\n",
       "      <td>0</td>\n",
       "      <td>70234439</td>\n",
       "      <td>Transformers Prime</td>\n",
       "      <td>Peter Cullen, Sumalee Montano, Frank Welker, J...</td>\n",
       "      <td>United States</td>\n",
       "      <td>September 8, 2018</td>\n",
       "      <td>2013</td>\n",
       "      <td>TV-Y7-FV</td>\n",
       "      <td>1 Season</td>\n",
       "      <td>Kids' TV</td>\n",
       "      <td>With the help of three human allies, the Autob...</td>\n",
       "      <td>United States</td>\n",
       "      <td>None</td>\n",
       "      <td>None</td>\n",
       "      <td>None</td>\n",
       "      <td>None</td>\n",
       "      <td>None</td>\n",
       "    </tr>\n",
       "    <tr>\n",
       "      <td>1</td>\n",
       "      <td>80058654</td>\n",
       "      <td>Transformers: Robots in Disguise</td>\n",
       "      <td>Will Friedle, Darren Criss, Constance Zimmer, ...</td>\n",
       "      <td>United States</td>\n",
       "      <td>September 8, 2018</td>\n",
       "      <td>2016</td>\n",
       "      <td>TV-Y7</td>\n",
       "      <td>1 Season</td>\n",
       "      <td>Kids' TV</td>\n",
       "      <td>When a prison ship crash unleashes hundreds of...</td>\n",
       "      <td>United States</td>\n",
       "      <td>None</td>\n",
       "      <td>None</td>\n",
       "      <td>None</td>\n",
       "      <td>None</td>\n",
       "      <td>None</td>\n",
       "    </tr>\n",
       "    <tr>\n",
       "      <td>2</td>\n",
       "      <td>80163890</td>\n",
       "      <td>Apaches</td>\n",
       "      <td>Alberto Ammann, Eloy Azorín, Verónica Echegui,...</td>\n",
       "      <td>Spain</td>\n",
       "      <td>September 8, 2017</td>\n",
       "      <td>2016</td>\n",
       "      <td>TV-MA</td>\n",
       "      <td>1 Season</td>\n",
       "      <td>Crime TV Shows, International TV Shows, Spanis...</td>\n",
       "      <td>A young journalist is forced into a life of cr...</td>\n",
       "      <td>Spain</td>\n",
       "      <td>None</td>\n",
       "      <td>None</td>\n",
       "      <td>None</td>\n",
       "      <td>None</td>\n",
       "      <td>None</td>\n",
       "    </tr>\n",
       "    <tr>\n",
       "      <td>3</td>\n",
       "      <td>80117902</td>\n",
       "      <td>Fire Chasers</td>\n",
       "      <td>Unspecified</td>\n",
       "      <td>United States</td>\n",
       "      <td>September 8, 2017</td>\n",
       "      <td>2017</td>\n",
       "      <td>TV-MA</td>\n",
       "      <td>1 Season</td>\n",
       "      <td>Docuseries, Science &amp; Nature TV</td>\n",
       "      <td>As California's 2016 fire season rages, brave ...</td>\n",
       "      <td>United States</td>\n",
       "      <td>None</td>\n",
       "      <td>None</td>\n",
       "      <td>None</td>\n",
       "      <td>None</td>\n",
       "      <td>None</td>\n",
       "    </tr>\n",
       "    <tr>\n",
       "      <td>4</td>\n",
       "      <td>80244601</td>\n",
       "      <td>Castle of Stars</td>\n",
       "      <td>Chaiyapol Pupart, Jintanutda Lummakanon, Worra...</td>\n",
       "      <td>Unspecified</td>\n",
       "      <td>September 7, 2018</td>\n",
       "      <td>2015</td>\n",
       "      <td>TV-14</td>\n",
       "      <td>1 Season</td>\n",
       "      <td>International TV Shows, Romantic TV Shows, TV ...</td>\n",
       "      <td>As four couples with different lifestyles go t...</td>\n",
       "      <td>Unspecified</td>\n",
       "      <td>None</td>\n",
       "      <td>None</td>\n",
       "      <td>None</td>\n",
       "      <td>None</td>\n",
       "      <td>None</td>\n",
       "    </tr>\n",
       "    <tr>\n",
       "      <td>...</td>\n",
       "      <td>...</td>\n",
       "      <td>...</td>\n",
       "      <td>...</td>\n",
       "      <td>...</td>\n",
       "      <td>...</td>\n",
       "      <td>...</td>\n",
       "      <td>...</td>\n",
       "      <td>...</td>\n",
       "      <td>...</td>\n",
       "      <td>...</td>\n",
       "      <td>...</td>\n",
       "      <td>...</td>\n",
       "      <td>...</td>\n",
       "      <td>...</td>\n",
       "      <td>...</td>\n",
       "      <td>...</td>\n",
       "    </tr>\n",
       "    <tr>\n",
       "      <td>1963</td>\n",
       "      <td>80159925</td>\n",
       "      <td>Kikoriki</td>\n",
       "      <td>Igor Dmitriev</td>\n",
       "      <td>Unspecified</td>\n",
       "      <td>NaN</td>\n",
       "      <td>2010</td>\n",
       "      <td>TV-Y</td>\n",
       "      <td>2 Seasons</td>\n",
       "      <td>Kids' TV</td>\n",
       "      <td>A wacky rabbit and his gang of animal pals hav...</td>\n",
       "      <td>Unspecified</td>\n",
       "      <td>None</td>\n",
       "      <td>None</td>\n",
       "      <td>None</td>\n",
       "      <td>None</td>\n",
       "      <td>None</td>\n",
       "    </tr>\n",
       "    <tr>\n",
       "      <td>1964</td>\n",
       "      <td>80000063</td>\n",
       "      <td>Red vs. Blue</td>\n",
       "      <td>Burnie Burns, Jason Saldaña, Gustavo Sorola, G...</td>\n",
       "      <td>United States</td>\n",
       "      <td>NaN</td>\n",
       "      <td>2015</td>\n",
       "      <td>NR</td>\n",
       "      <td>13 Seasons</td>\n",
       "      <td>TV Action &amp; Adventure, TV Comedies, TV Sci-Fi ...</td>\n",
       "      <td>This parody of first-person shooter games, mil...</td>\n",
       "      <td>United States</td>\n",
       "      <td>None</td>\n",
       "      <td>None</td>\n",
       "      <td>None</td>\n",
       "      <td>None</td>\n",
       "      <td>None</td>\n",
       "    </tr>\n",
       "    <tr>\n",
       "      <td>1965</td>\n",
       "      <td>70286564</td>\n",
       "      <td>Maron</td>\n",
       "      <td>Marc Maron, Judd Hirsch, Josh Brener, Nora Zeh...</td>\n",
       "      <td>United States</td>\n",
       "      <td>NaN</td>\n",
       "      <td>2016</td>\n",
       "      <td>TV-MA</td>\n",
       "      <td>4 Seasons</td>\n",
       "      <td>TV Comedies</td>\n",
       "      <td>Marc Maron stars as Marc Maron, who interviews...</td>\n",
       "      <td>United States</td>\n",
       "      <td>None</td>\n",
       "      <td>None</td>\n",
       "      <td>None</td>\n",
       "      <td>None</td>\n",
       "      <td>None</td>\n",
       "    </tr>\n",
       "    <tr>\n",
       "      <td>1966</td>\n",
       "      <td>70281022</td>\n",
       "      <td>A Young Doctor's Notebook and Other Stories</td>\n",
       "      <td>Daniel Radcliffe, Jon Hamm, Adam Godley, Chris...</td>\n",
       "      <td>United Kingdom</td>\n",
       "      <td>NaN</td>\n",
       "      <td>2013</td>\n",
       "      <td>TV-MA</td>\n",
       "      <td>2 Seasons</td>\n",
       "      <td>British TV Shows, TV Comedies, TV Dramas</td>\n",
       "      <td>Set during the Russian Revolution, this comic ...</td>\n",
       "      <td>United Kingdom</td>\n",
       "      <td>None</td>\n",
       "      <td>None</td>\n",
       "      <td>None</td>\n",
       "      <td>None</td>\n",
       "      <td>None</td>\n",
       "    </tr>\n",
       "    <tr>\n",
       "      <td>1967</td>\n",
       "      <td>70153404</td>\n",
       "      <td>Friends</td>\n",
       "      <td>Jennifer Aniston, Courteney Cox, Lisa Kudrow, ...</td>\n",
       "      <td>United States</td>\n",
       "      <td>NaN</td>\n",
       "      <td>2003</td>\n",
       "      <td>TV-14</td>\n",
       "      <td>10 Seasons</td>\n",
       "      <td>Classic &amp; Cult TV, TV Comedies</td>\n",
       "      <td>This hit sitcom follows the merry misadventure...</td>\n",
       "      <td>United States</td>\n",
       "      <td>None</td>\n",
       "      <td>None</td>\n",
       "      <td>None</td>\n",
       "      <td>None</td>\n",
       "      <td>None</td>\n",
       "    </tr>\n",
       "  </tbody>\n",
       "</table>\n",
       "<p>1968 rows × 16 columns</p>\n",
       "</div>"
      ],
      "text/plain": [
       "       show_id                                        title  \\\n",
       "0     70234439                           Transformers Prime   \n",
       "1     80058654             Transformers: Robots in Disguise   \n",
       "2     80163890                                      Apaches   \n",
       "3     80117902                                 Fire Chasers   \n",
       "4     80244601                              Castle of Stars   \n",
       "...        ...                                          ...   \n",
       "1963  80159925                                     Kikoriki   \n",
       "1964  80000063                                 Red vs. Blue   \n",
       "1965  70286564                                        Maron   \n",
       "1966  70281022  A Young Doctor's Notebook and Other Stories   \n",
       "1967  70153404                                      Friends   \n",
       "\n",
       "                                                   cast         country  \\\n",
       "0     Peter Cullen, Sumalee Montano, Frank Welker, J...   United States   \n",
       "1     Will Friedle, Darren Criss, Constance Zimmer, ...   United States   \n",
       "2     Alberto Ammann, Eloy Azorín, Verónica Echegui,...           Spain   \n",
       "3                                           Unspecified   United States   \n",
       "4     Chaiyapol Pupart, Jintanutda Lummakanon, Worra...     Unspecified   \n",
       "...                                                 ...             ...   \n",
       "1963                                      Igor Dmitriev     Unspecified   \n",
       "1964  Burnie Burns, Jason Saldaña, Gustavo Sorola, G...   United States   \n",
       "1965  Marc Maron, Judd Hirsch, Josh Brener, Nora Zeh...   United States   \n",
       "1966  Daniel Radcliffe, Jon Hamm, Adam Godley, Chris...  United Kingdom   \n",
       "1967  Jennifer Aniston, Courteney Cox, Lisa Kudrow, ...   United States   \n",
       "\n",
       "             date_added  release_year    rating    duration  \\\n",
       "0     September 8, 2018          2013  TV-Y7-FV    1 Season   \n",
       "1     September 8, 2018          2016     TV-Y7    1 Season   \n",
       "2     September 8, 2017          2016     TV-MA    1 Season   \n",
       "3     September 8, 2017          2017     TV-MA    1 Season   \n",
       "4     September 7, 2018          2015     TV-14    1 Season   \n",
       "...                 ...           ...       ...         ...   \n",
       "1963                NaN          2010      TV-Y   2 Seasons   \n",
       "1964                NaN          2015        NR  13 Seasons   \n",
       "1965                NaN          2016     TV-MA   4 Seasons   \n",
       "1966                NaN          2013     TV-MA   2 Seasons   \n",
       "1967                NaN          2003     TV-14  10 Seasons   \n",
       "\n",
       "                                              listed_in  \\\n",
       "0                                              Kids' TV   \n",
       "1                                              Kids' TV   \n",
       "2     Crime TV Shows, International TV Shows, Spanis...   \n",
       "3                       Docuseries, Science & Nature TV   \n",
       "4     International TV Shows, Romantic TV Shows, TV ...   \n",
       "...                                                 ...   \n",
       "1963                                           Kids' TV   \n",
       "1964  TV Action & Adventure, TV Comedies, TV Sci-Fi ...   \n",
       "1965                                        TV Comedies   \n",
       "1966           British TV Shows, TV Comedies, TV Dramas   \n",
       "1967                     Classic & Cult TV, TV Comedies   \n",
       "\n",
       "                                            description    main_country  \\\n",
       "0     With the help of three human allies, the Autob...   United States   \n",
       "1     When a prison ship crash unleashes hundreds of...   United States   \n",
       "2     A young journalist is forced into a life of cr...           Spain   \n",
       "3     As California's 2016 fire season rages, brave ...   United States   \n",
       "4     As four couples with different lifestyles go t...     Unspecified   \n",
       "...                                                 ...             ...   \n",
       "1963  A wacky rabbit and his gang of animal pals hav...     Unspecified   \n",
       "1964  This parody of first-person shooter games, mil...   United States   \n",
       "1965  Marc Maron stars as Marc Maron, who interviews...   United States   \n",
       "1966  Set during the Russian Revolution, this comic ...  United Kingdom   \n",
       "1967  This hit sitcom follows the merry misadventure...   United States   \n",
       "\n",
       "     country_2 country_3 country_4 country_5 country_6  \n",
       "0         None      None      None      None      None  \n",
       "1         None      None      None      None      None  \n",
       "2         None      None      None      None      None  \n",
       "3         None      None      None      None      None  \n",
       "4         None      None      None      None      None  \n",
       "...        ...       ...       ...       ...       ...  \n",
       "1963      None      None      None      None      None  \n",
       "1964      None      None      None      None      None  \n",
       "1965      None      None      None      None      None  \n",
       "1966      None      None      None      None      None  \n",
       "1967      None      None      None      None      None  \n",
       "\n",
       "[1968 rows x 16 columns]"
      ]
     },
     "execution_count": 38,
     "metadata": {},
     "output_type": "execute_result"
    }
   ],
   "source": [
    "df"
   ]
  },
  {
   "cell_type": "code",
   "execution_count": 39,
   "metadata": {},
   "outputs": [
    {
     "data": {
      "text/plain": [
       "United States           620\n",
       "Unspecified             281\n",
       "United Kingdom          200\n",
       "Japan                   132\n",
       "South Korea             109\n",
       "Canada                   76\n",
       "Taiwan                   65\n",
       "India                    55\n",
       "France                   50\n",
       "Australia                44\n",
       "Spain                    39\n",
       "Mexico                   33\n",
       "China                    33\n",
       "Turkey                   25\n",
       "Colombia                 19\n",
       "Thailand                 17\n",
       "Brazil                   15\n",
       "Argentina                14\n",
       "Russia                   12\n",
       "Germany                  11\n",
       "Italy                    10\n",
       "Singapore                10\n",
       "Denmark                   9\n",
       "Israel                    8\n",
       "Egypt                     8\n",
       "Norway                    8\n",
       "Malaysia                  7\n",
       "Ireland                   7\n",
       "Belgium                   6\n",
       "Lebanon                   6\n",
       "Poland                    5\n",
       "Sweden                    5\n",
       "Pakistan                  4\n",
       "Netherlands               3\n",
       "Chile                     3\n",
       "Finland                   3\n",
       "Hong Kong                 2\n",
       "New Zealand               2\n",
       "Ukraine                   2\n",
       "United Arab Emirates      1\n",
       "Switzerland               1\n",
       "Iceland                   1\n",
       "Saudi Arabia              1\n",
       "Philippines               1\n",
       "Croatia                   1\n",
       "Czech Republic            1\n",
       "Mauritius                 1\n",
       "Cyprus                    1\n",
       "Indonesia                 1\n",
       "Name: main_country, dtype: int64"
      ]
     },
     "execution_count": 39,
     "metadata": {},
     "output_type": "execute_result"
    }
   ],
   "source": [
    "df.main_country.value_counts()"
   ]
  },
  {
   "cell_type": "code",
   "execution_count": 40,
   "metadata": {},
   "outputs": [
    {
     "data": {
      "text/plain": [
       "1964"
      ]
     },
     "execution_count": 40,
     "metadata": {},
     "output_type": "execute_result"
    }
   ],
   "source": [
    "df['country_6'].isnull().sum()"
   ]
  },
  {
   "cell_type": "code",
   "execution_count": 41,
   "metadata": {},
   "outputs": [],
   "source": [
    "df['country'] = df['main_country']"
   ]
  },
  {
   "cell_type": "code",
   "execution_count": 42,
   "metadata": {},
   "outputs": [
    {
     "data": {
      "text/plain": [
       "Index(['show_id', 'title', 'cast', 'country', 'date_added', 'release_year',\n",
       "       'rating', 'duration', 'listed_in', 'description'],\n",
       "      dtype='object')"
      ]
     },
     "execution_count": 42,
     "metadata": {},
     "output_type": "execute_result"
    }
   ],
   "source": [
    "df.drop(['main_country', 'country_2', 'country_3', 'country_4', 'country_5','country_6'], axis=1, inplace=True)\n",
    "df.columns"
   ]
  },
  {
   "cell_type": "code",
   "execution_count": 43,
   "metadata": {},
   "outputs": [
    {
     "data": {
      "text/plain": [
       "49"
      ]
     },
     "execution_count": 43,
     "metadata": {},
     "output_type": "execute_result"
    }
   ],
   "source": [
    "df.country.nunique()"
   ]
  },
  {
   "cell_type": "markdown",
   "metadata": {},
   "source": [
    "**Date Added**"
   ]
  },
  {
   "cell_type": "code",
   "execution_count": 44,
   "metadata": {},
   "outputs": [
    {
     "data": {
      "text/plain": [
       "0       September 8, 2018\n",
       "1       September 8, 2018\n",
       "2       September 8, 2017\n",
       "3       September 8, 2017\n",
       "4       September 7, 2018\n",
       "              ...        \n",
       "1963                  NaN\n",
       "1964                  NaN\n",
       "1965                  NaN\n",
       "1966                  NaN\n",
       "1967                  NaN\n",
       "Name: date_added, Length: 1968, dtype: object"
      ]
     },
     "execution_count": 44,
     "metadata": {},
     "output_type": "execute_result"
    }
   ],
   "source": [
    "df['date_added']"
   ]
  },
  {
   "cell_type": "code",
   "execution_count": 45,
   "metadata": {},
   "outputs": [],
   "source": [
    "df['date_added'] = df['date_added'].str[-4:]"
   ]
  },
  {
   "cell_type": "code",
   "execution_count": 46,
   "metadata": {},
   "outputs": [
    {
     "data": {
      "text/plain": [
       "array(['2018', '2017', '2019', '2016', '2012', '2013', '2015', '2020',\n",
       "       '2008', '2014', nan], dtype=object)"
      ]
     },
     "execution_count": 46,
     "metadata": {},
     "output_type": "execute_result"
    }
   ],
   "source": [
    "df['date_added'].unique()"
   ]
  },
  {
   "cell_type": "code",
   "execution_count": 47,
   "metadata": {
    "scrolled": true
   },
   "outputs": [
    {
     "data": {
      "text/html": [
       "<div>\n",
       "<style scoped>\n",
       "    .dataframe tbody tr th:only-of-type {\n",
       "        vertical-align: middle;\n",
       "    }\n",
       "\n",
       "    .dataframe tbody tr th {\n",
       "        vertical-align: top;\n",
       "    }\n",
       "\n",
       "    .dataframe thead th {\n",
       "        text-align: right;\n",
       "    }\n",
       "</style>\n",
       "<table border=\"1\" class=\"dataframe\">\n",
       "  <thead>\n",
       "    <tr style=\"text-align: right;\">\n",
       "      <th></th>\n",
       "      <th>show_id</th>\n",
       "      <th>title</th>\n",
       "      <th>cast</th>\n",
       "      <th>country</th>\n",
       "      <th>date_added</th>\n",
       "      <th>release_year</th>\n",
       "      <th>rating</th>\n",
       "      <th>duration</th>\n",
       "      <th>listed_in</th>\n",
       "      <th>description</th>\n",
       "    </tr>\n",
       "  </thead>\n",
       "  <tbody>\n",
       "    <tr>\n",
       "      <td>1958</td>\n",
       "      <td>70204989</td>\n",
       "      <td>Gunslinger Girl</td>\n",
       "      <td>Yuuka Nanri, Kanako Mitsuhashi, Eri Sendai, Am...</td>\n",
       "      <td>Japan</td>\n",
       "      <td>NaN</td>\n",
       "      <td>2008</td>\n",
       "      <td>TV-14</td>\n",
       "      <td>2 Seasons</td>\n",
       "      <td>Anime Series, Crime TV Shows</td>\n",
       "      <td>On the surface, the Social Welfare Agency appe...</td>\n",
       "    </tr>\n",
       "    <tr>\n",
       "      <td>1959</td>\n",
       "      <td>70304979</td>\n",
       "      <td>Anthony Bourdain: Parts Unknown</td>\n",
       "      <td>Anthony Bourdain</td>\n",
       "      <td>United States</td>\n",
       "      <td>NaN</td>\n",
       "      <td>2018</td>\n",
       "      <td>TV-PG</td>\n",
       "      <td>5 Seasons</td>\n",
       "      <td>Docuseries</td>\n",
       "      <td>This CNN original series has chef Anthony Bour...</td>\n",
       "    </tr>\n",
       "    <tr>\n",
       "      <td>1960</td>\n",
       "      <td>70153412</td>\n",
       "      <td>Frasier</td>\n",
       "      <td>Kelsey Grammer, Jane Leeves, David Hyde Pierce...</td>\n",
       "      <td>United States</td>\n",
       "      <td>NaN</td>\n",
       "      <td>2003</td>\n",
       "      <td>TV-PG</td>\n",
       "      <td>11 Seasons</td>\n",
       "      <td>Classic &amp; Cult TV, TV Comedies</td>\n",
       "      <td>Frasier Crane is a snooty but lovable Seattle ...</td>\n",
       "    </tr>\n",
       "    <tr>\n",
       "      <td>1961</td>\n",
       "      <td>70243132</td>\n",
       "      <td>La Familia P. Luche</td>\n",
       "      <td>Eugenio Derbez, Consuelo Duval, Luis Manuel Áv...</td>\n",
       "      <td>United States</td>\n",
       "      <td>NaN</td>\n",
       "      <td>2012</td>\n",
       "      <td>TV-14</td>\n",
       "      <td>3 Seasons</td>\n",
       "      <td>International TV Shows, Spanish-Language TV Sh...</td>\n",
       "      <td>This irreverent sitcom featues Ludovico, Feder...</td>\n",
       "    </tr>\n",
       "    <tr>\n",
       "      <td>1962</td>\n",
       "      <td>80005756</td>\n",
       "      <td>The Adventures of Figaro Pho</td>\n",
       "      <td>Luke Jurevicius, Craig Behenna, Charlotte Haml...</td>\n",
       "      <td>Australia</td>\n",
       "      <td>NaN</td>\n",
       "      <td>2015</td>\n",
       "      <td>TV-Y7</td>\n",
       "      <td>2 Seasons</td>\n",
       "      <td>Kids' TV, TV Comedies</td>\n",
       "      <td>Imagine your worst fears, then multiply them: ...</td>\n",
       "    </tr>\n",
       "    <tr>\n",
       "      <td>1963</td>\n",
       "      <td>80159925</td>\n",
       "      <td>Kikoriki</td>\n",
       "      <td>Igor Dmitriev</td>\n",
       "      <td>Unspecified</td>\n",
       "      <td>NaN</td>\n",
       "      <td>2010</td>\n",
       "      <td>TV-Y</td>\n",
       "      <td>2 Seasons</td>\n",
       "      <td>Kids' TV</td>\n",
       "      <td>A wacky rabbit and his gang of animal pals hav...</td>\n",
       "    </tr>\n",
       "    <tr>\n",
       "      <td>1964</td>\n",
       "      <td>80000063</td>\n",
       "      <td>Red vs. Blue</td>\n",
       "      <td>Burnie Burns, Jason Saldaña, Gustavo Sorola, G...</td>\n",
       "      <td>United States</td>\n",
       "      <td>NaN</td>\n",
       "      <td>2015</td>\n",
       "      <td>NR</td>\n",
       "      <td>13 Seasons</td>\n",
       "      <td>TV Action &amp; Adventure, TV Comedies, TV Sci-Fi ...</td>\n",
       "      <td>This parody of first-person shooter games, mil...</td>\n",
       "    </tr>\n",
       "    <tr>\n",
       "      <td>1965</td>\n",
       "      <td>70286564</td>\n",
       "      <td>Maron</td>\n",
       "      <td>Marc Maron, Judd Hirsch, Josh Brener, Nora Zeh...</td>\n",
       "      <td>United States</td>\n",
       "      <td>NaN</td>\n",
       "      <td>2016</td>\n",
       "      <td>TV-MA</td>\n",
       "      <td>4 Seasons</td>\n",
       "      <td>TV Comedies</td>\n",
       "      <td>Marc Maron stars as Marc Maron, who interviews...</td>\n",
       "    </tr>\n",
       "    <tr>\n",
       "      <td>1966</td>\n",
       "      <td>70281022</td>\n",
       "      <td>A Young Doctor's Notebook and Other Stories</td>\n",
       "      <td>Daniel Radcliffe, Jon Hamm, Adam Godley, Chris...</td>\n",
       "      <td>United Kingdom</td>\n",
       "      <td>NaN</td>\n",
       "      <td>2013</td>\n",
       "      <td>TV-MA</td>\n",
       "      <td>2 Seasons</td>\n",
       "      <td>British TV Shows, TV Comedies, TV Dramas</td>\n",
       "      <td>Set during the Russian Revolution, this comic ...</td>\n",
       "    </tr>\n",
       "    <tr>\n",
       "      <td>1967</td>\n",
       "      <td>70153404</td>\n",
       "      <td>Friends</td>\n",
       "      <td>Jennifer Aniston, Courteney Cox, Lisa Kudrow, ...</td>\n",
       "      <td>United States</td>\n",
       "      <td>NaN</td>\n",
       "      <td>2003</td>\n",
       "      <td>TV-14</td>\n",
       "      <td>10 Seasons</td>\n",
       "      <td>Classic &amp; Cult TV, TV Comedies</td>\n",
       "      <td>This hit sitcom follows the merry misadventure...</td>\n",
       "    </tr>\n",
       "  </tbody>\n",
       "</table>\n",
       "</div>"
      ],
      "text/plain": [
       "       show_id                                        title  \\\n",
       "1958  70204989                              Gunslinger Girl   \n",
       "1959  70304979              Anthony Bourdain: Parts Unknown   \n",
       "1960  70153412                                      Frasier   \n",
       "1961  70243132                          La Familia P. Luche   \n",
       "1962  80005756                 The Adventures of Figaro Pho   \n",
       "1963  80159925                                     Kikoriki   \n",
       "1964  80000063                                 Red vs. Blue   \n",
       "1965  70286564                                        Maron   \n",
       "1966  70281022  A Young Doctor's Notebook and Other Stories   \n",
       "1967  70153404                                      Friends   \n",
       "\n",
       "                                                   cast         country  \\\n",
       "1958  Yuuka Nanri, Kanako Mitsuhashi, Eri Sendai, Am...           Japan   \n",
       "1959                                   Anthony Bourdain   United States   \n",
       "1960  Kelsey Grammer, Jane Leeves, David Hyde Pierce...   United States   \n",
       "1961  Eugenio Derbez, Consuelo Duval, Luis Manuel Áv...   United States   \n",
       "1962  Luke Jurevicius, Craig Behenna, Charlotte Haml...       Australia   \n",
       "1963                                      Igor Dmitriev     Unspecified   \n",
       "1964  Burnie Burns, Jason Saldaña, Gustavo Sorola, G...   United States   \n",
       "1965  Marc Maron, Judd Hirsch, Josh Brener, Nora Zeh...   United States   \n",
       "1966  Daniel Radcliffe, Jon Hamm, Adam Godley, Chris...  United Kingdom   \n",
       "1967  Jennifer Aniston, Courteney Cox, Lisa Kudrow, ...   United States   \n",
       "\n",
       "     date_added  release_year rating    duration  \\\n",
       "1958        NaN          2008  TV-14   2 Seasons   \n",
       "1959        NaN          2018  TV-PG   5 Seasons   \n",
       "1960        NaN          2003  TV-PG  11 Seasons   \n",
       "1961        NaN          2012  TV-14   3 Seasons   \n",
       "1962        NaN          2015  TV-Y7   2 Seasons   \n",
       "1963        NaN          2010   TV-Y   2 Seasons   \n",
       "1964        NaN          2015     NR  13 Seasons   \n",
       "1965        NaN          2016  TV-MA   4 Seasons   \n",
       "1966        NaN          2013  TV-MA   2 Seasons   \n",
       "1967        NaN          2003  TV-14  10 Seasons   \n",
       "\n",
       "                                              listed_in  \\\n",
       "1958                       Anime Series, Crime TV Shows   \n",
       "1959                                         Docuseries   \n",
       "1960                     Classic & Cult TV, TV Comedies   \n",
       "1961  International TV Shows, Spanish-Language TV Sh...   \n",
       "1962                              Kids' TV, TV Comedies   \n",
       "1963                                           Kids' TV   \n",
       "1964  TV Action & Adventure, TV Comedies, TV Sci-Fi ...   \n",
       "1965                                        TV Comedies   \n",
       "1966           British TV Shows, TV Comedies, TV Dramas   \n",
       "1967                     Classic & Cult TV, TV Comedies   \n",
       "\n",
       "                                            description  \n",
       "1958  On the surface, the Social Welfare Agency appe...  \n",
       "1959  This CNN original series has chef Anthony Bour...  \n",
       "1960  Frasier Crane is a snooty but lovable Seattle ...  \n",
       "1961  This irreverent sitcom featues Ludovico, Feder...  \n",
       "1962  Imagine your worst fears, then multiply them: ...  \n",
       "1963  A wacky rabbit and his gang of animal pals hav...  \n",
       "1964  This parody of first-person shooter games, mil...  \n",
       "1965  Marc Maron stars as Marc Maron, who interviews...  \n",
       "1966  Set during the Russian Revolution, this comic ...  \n",
       "1967  This hit sitcom follows the merry misadventure...  "
      ]
     },
     "execution_count": 47,
     "metadata": {},
     "output_type": "execute_result"
    }
   ],
   "source": [
    "df[df['date_added'].isnull()]"
   ]
  },
  {
   "cell_type": "code",
   "execution_count": 48,
   "metadata": {},
   "outputs": [],
   "source": [
    "# Research and replace the missing values\n",
    "df.at[1958, 'date_added'] = 2016\n",
    "df.at[1959, 'date_added'] = 2017\n",
    "df.at[1960, 'date_added'] = 2016\n",
    "df.at[1961, 'date_added'] = 2015\n",
    "df.at[1962, 'date_added'] = 2014\n",
    "df.at[1963, 'date_added'] = 2017\n",
    "df.at[1964, 'date_added'] = 2014\n",
    "df.at[1965, 'date_added'] = 2017\n",
    "df.at[1966, 'date_added'] = 2014\n",
    "df.at[1967, 'date_added'] = 2015"
   ]
  },
  {
   "cell_type": "code",
   "execution_count": 49,
   "metadata": {},
   "outputs": [],
   "source": [
    "df.rename(columns={'date_added':'year_added'}, inplace=True)"
   ]
  },
  {
   "cell_type": "code",
   "execution_count": 50,
   "metadata": {},
   "outputs": [
    {
     "data": {
      "text/plain": [
       "0"
      ]
     },
     "execution_count": 50,
     "metadata": {},
     "output_type": "execute_result"
    }
   ],
   "source": [
    "df['year_added'].isnull().sum()"
   ]
  },
  {
   "cell_type": "markdown",
   "metadata": {},
   "source": [
    "**Release Year**"
   ]
  },
  {
   "cell_type": "code",
   "execution_count": 51,
   "metadata": {},
   "outputs": [],
   "source": [
    "# The release year doesn't seem to add up for some TV Series\n",
    "# So it's probably counting the latest seasons for the series with more than one season\n",
    "df.rename(columns={'release_year':'latest_release_year'}, inplace=True)"
   ]
  },
  {
   "cell_type": "code",
   "execution_count": 52,
   "metadata": {},
   "outputs": [
    {
     "data": {
      "text/plain": [
       "array([2013, 2016, 2017, 2015, 2018, 2019, 2014, 2011, 2012, 2009, 2010,\n",
       "       2007, 1988, 2008, 1972, 2005, 2006, 2001, 1999, 1985, 2003, 2004,\n",
       "       2002, 2020, 1989, 1996, 1993, 1995, 1991, 1986, 2000, 1997, 1998,\n",
       "       1990, 1946, 1979, 1925, 1981, 1994, 1974, 1968, 1977, 1992, 1967,\n",
       "       1963])"
      ]
     },
     "execution_count": 52,
     "metadata": {},
     "output_type": "execute_result"
    }
   ],
   "source": [
    "df.latest_release_year.unique()"
   ]
  },
  {
   "cell_type": "markdown",
   "metadata": {},
   "source": [
    "**Rating**"
   ]
  },
  {
   "cell_type": "code",
   "execution_count": 53,
   "metadata": {},
   "outputs": [
    {
     "data": {
      "text/plain": [
       "array(['TV-Y7-FV', 'TV-Y7', 'TV-MA', 'TV-14', 'TV-PG', 'TV-Y', 'TV-G',\n",
       "       'NR', 'G', nan, 'R', 'PG'], dtype=object)"
      ]
     },
     "execution_count": 53,
     "metadata": {},
     "output_type": "execute_result"
    }
   ],
   "source": [
    "df.rating.unique()"
   ]
  },
  {
   "cell_type": "code",
   "execution_count": 54,
   "metadata": {},
   "outputs": [],
   "source": [
    "# Create a scale for the rating:\n",
    "\n",
    "#   4. Mature Audience\n",
    "#TV-MA = 17\n",
    "#R = 17 \n",
    "df['rating'] = np.where((df.rating == 'TV-MA'),4,df.rating)\n",
    "df['rating'] = np.where((df.rating == 'R'),4,df.rating)\n",
    "\n",
    "#   3. Older children\n",
    "#TV-Y7-FV = fantasy violance \n",
    "#TV-Y7 = 7 and up\n",
    "#TV-14 = 14 and up\n",
    "df['rating'] = np.where((df.rating == 'TV-Y7-FV'),3,df.rating)\n",
    "df['rating'] = np.where((df.rating == 'TV-Y7'),3,df.rating)\n",
    "df['rating'] = np.where((df.rating == 'TV-14'),3,df.rating)\n",
    "\n",
    "#   2. Under adult supervision\n",
    "#TV-PG = parental guidance suggested\n",
    "#PG = parental guidance\n",
    "df['rating'] = np.where((df.rating == 'TV-PG'),2,df.rating)\n",
    "df['rating'] = np.where((df.rating == 'PG'),2,df.rating)\n",
    "\n",
    "#   1. General Audience \n",
    "#TV-Y = all children\n",
    "#TV-G = all ages\n",
    "#G = general audience \n",
    "df['rating'] = np.where((df.rating == 'TV-Y'),1,df.rating)\n",
    "df['rating'] = np.where((df.rating == 'TV-G'),1,df.rating)\n",
    "df['rating'] = np.where((df.rating == 'G'),1,df.rating)\n",
    "\n",
    "#   0. No rating\n",
    "#NR = not rated \n",
    "df['rating'] = np.where((df.rating == 'NR'),0,df.rating)"
   ]
  },
  {
   "cell_type": "code",
   "execution_count": 55,
   "metadata": {},
   "outputs": [
    {
     "data": {
      "text/plain": [
       "3    828\n",
       "4    680\n",
       "2    270\n",
       "1    172\n",
       "0     16\n",
       "Name: rating, dtype: int64"
      ]
     },
     "execution_count": 55,
     "metadata": {},
     "output_type": "execute_result"
    }
   ],
   "source": [
    "df.rating.value_counts()"
   ]
  },
  {
   "cell_type": "code",
   "execution_count": 56,
   "metadata": {},
   "outputs": [
    {
     "data": {
      "text/html": [
       "<div>\n",
       "<style scoped>\n",
       "    .dataframe tbody tr th:only-of-type {\n",
       "        vertical-align: middle;\n",
       "    }\n",
       "\n",
       "    .dataframe tbody tr th {\n",
       "        vertical-align: top;\n",
       "    }\n",
       "\n",
       "    .dataframe thead th {\n",
       "        text-align: right;\n",
       "    }\n",
       "</style>\n",
       "<table border=\"1\" class=\"dataframe\">\n",
       "  <thead>\n",
       "    <tr style=\"text-align: right;\">\n",
       "      <th></th>\n",
       "      <th>show_id</th>\n",
       "      <th>title</th>\n",
       "      <th>cast</th>\n",
       "      <th>country</th>\n",
       "      <th>year_added</th>\n",
       "      <th>latest_release_year</th>\n",
       "      <th>rating</th>\n",
       "      <th>duration</th>\n",
       "      <th>listed_in</th>\n",
       "      <th>description</th>\n",
       "    </tr>\n",
       "  </thead>\n",
       "  <tbody>\n",
       "    <tr>\n",
       "      <td>927</td>\n",
       "      <td>80078037</td>\n",
       "      <td>Little Lunch</td>\n",
       "      <td>Flynn Curry, Olivia Deeble, Madison Lu, Oisín ...</td>\n",
       "      <td>Australia</td>\n",
       "      <td>2018</td>\n",
       "      <td>2015</td>\n",
       "      <td>NaN</td>\n",
       "      <td>1 Season</td>\n",
       "      <td>Kids' TV, TV Comedies</td>\n",
       "      <td>Adopting a child's perspective, this show take...</td>\n",
       "    </tr>\n",
       "    <tr>\n",
       "      <td>1093</td>\n",
       "      <td>80039789</td>\n",
       "      <td>Gargantia on the Verdurous Planet</td>\n",
       "      <td>Kaito Ishikawa, Hisako Kanemoto, Ai Kayano, Ka...</td>\n",
       "      <td>Japan</td>\n",
       "      <td>2016</td>\n",
       "      <td>2013</td>\n",
       "      <td>NaN</td>\n",
       "      <td>1 Season</td>\n",
       "      <td>Anime Series, International TV Shows</td>\n",
       "      <td>After falling through a wormhole, a space-dwel...</td>\n",
       "    </tr>\n",
       "  </tbody>\n",
       "</table>\n",
       "</div>"
      ],
      "text/plain": [
       "       show_id                              title  \\\n",
       "927   80078037                       Little Lunch   \n",
       "1093  80039789  Gargantia on the Verdurous Planet   \n",
       "\n",
       "                                                   cast    country year_added  \\\n",
       "927   Flynn Curry, Olivia Deeble, Madison Lu, Oisín ...  Australia       2018   \n",
       "1093  Kaito Ishikawa, Hisako Kanemoto, Ai Kayano, Ka...      Japan       2016   \n",
       "\n",
       "      latest_release_year rating  duration  \\\n",
       "927                  2015    NaN  1 Season   \n",
       "1093                 2013    NaN  1 Season   \n",
       "\n",
       "                                 listed_in  \\\n",
       "927                  Kids' TV, TV Comedies   \n",
       "1093  Anime Series, International TV Shows   \n",
       "\n",
       "                                            description  \n",
       "927   Adopting a child's perspective, this show take...  \n",
       "1093  After falling through a wormhole, a space-dwel...  "
      ]
     },
     "execution_count": 56,
     "metadata": {},
     "output_type": "execute_result"
    }
   ],
   "source": [
    "df[df.rating.isnull()]"
   ]
  },
  {
   "cell_type": "code",
   "execution_count": 57,
   "metadata": {},
   "outputs": [],
   "source": [
    "df.at[927, 'rating'] = 3\n",
    "df.at[1093, 'rating'] = 3"
   ]
  },
  {
   "cell_type": "code",
   "execution_count": 58,
   "metadata": {},
   "outputs": [
    {
     "data": {
      "text/plain": [
       "0"
      ]
     },
     "execution_count": 58,
     "metadata": {},
     "output_type": "execute_result"
    }
   ],
   "source": [
    "df.rating.isnull().sum()"
   ]
  },
  {
   "cell_type": "code",
   "execution_count": 59,
   "metadata": {},
   "outputs": [],
   "source": [
    "df.rename(columns={'rating':'audience_rating'}, inplace=True)"
   ]
  },
  {
   "cell_type": "markdown",
   "metadata": {},
   "source": [
    "**Duration**"
   ]
  },
  {
   "cell_type": "code",
   "execution_count": 60,
   "metadata": {
    "scrolled": false
   },
   "outputs": [
    {
     "data": {
      "text/plain": [
       "array(['1 Season', '2 Seasons', '5 Seasons', '3 Seasons', '7 Seasons',\n",
       "       '4 Seasons', '8 Seasons', '6 Seasons', '9 Seasons', '3 seasons',\n",
       "       '14 Seasons', '10 Seasons', '12 Seasons', '15 Seasons',\n",
       "       '11 Seasons', '13 Seasons'], dtype=object)"
      ]
     },
     "execution_count": 60,
     "metadata": {},
     "output_type": "execute_result"
    }
   ],
   "source": [
    "df.duration.unique()"
   ]
  },
  {
   "cell_type": "code",
   "execution_count": 61,
   "metadata": {},
   "outputs": [],
   "source": [
    "df['duration'] = df['duration'].str[:2]"
   ]
  },
  {
   "cell_type": "code",
   "execution_count": 62,
   "metadata": {
    "scrolled": false
   },
   "outputs": [
    {
     "data": {
      "text/plain": [
       "1     1320\n",
       "2      303\n",
       "3      159\n",
       "4       61\n",
       "5       46\n",
       "6       22\n",
       "7       21\n",
       "8       16\n",
       "9        7\n",
       "10       3\n",
       "11       3\n",
       "13       2\n",
       "15       2\n",
       "12       2\n",
       "14       1\n",
       "Name: duration, dtype: int64"
      ]
     },
     "execution_count": 62,
     "metadata": {},
     "output_type": "execute_result"
    }
   ],
   "source": [
    "df.duration.value_counts()"
   ]
  },
  {
   "cell_type": "code",
   "execution_count": 63,
   "metadata": {},
   "outputs": [],
   "source": [
    "df.rename(columns={'duration':'seasons'}, inplace=True)"
   ]
  },
  {
   "cell_type": "markdown",
   "metadata": {},
   "source": [
    "**Listed In**"
   ]
  },
  {
   "cell_type": "code",
   "execution_count": 64,
   "metadata": {},
   "outputs": [
    {
     "data": {
      "text/plain": [
       "0                                                Kids' TV\n",
       "1                                                Kids' TV\n",
       "2       Crime TV Shows, International TV Shows, Spanis...\n",
       "3                         Docuseries, Science & Nature TV\n",
       "4       International TV Shows, Romantic TV Shows, TV ...\n",
       "                              ...                        \n",
       "1963                                             Kids' TV\n",
       "1964    TV Action & Adventure, TV Comedies, TV Sci-Fi ...\n",
       "1965                                          TV Comedies\n",
       "1966             British TV Shows, TV Comedies, TV Dramas\n",
       "1967                       Classic & Cult TV, TV Comedies\n",
       "Name: listed_in, Length: 1968, dtype: object"
      ]
     },
     "execution_count": 64,
     "metadata": {},
     "output_type": "execute_result"
    }
   ],
   "source": [
    "df.listed_in"
   ]
  },
  {
   "cell_type": "code",
   "execution_count": 65,
   "metadata": {},
   "outputs": [],
   "source": [
    "df['A'], df['B'] = df['listed_in'].str.split(',', 1).str"
   ]
  },
  {
   "cell_type": "code",
   "execution_count": 66,
   "metadata": {
    "scrolled": true
   },
   "outputs": [
    {
     "data": {
      "text/html": [
       "<div>\n",
       "<style scoped>\n",
       "    .dataframe tbody tr th:only-of-type {\n",
       "        vertical-align: middle;\n",
       "    }\n",
       "\n",
       "    .dataframe tbody tr th {\n",
       "        vertical-align: top;\n",
       "    }\n",
       "\n",
       "    .dataframe thead th {\n",
       "        text-align: right;\n",
       "    }\n",
       "</style>\n",
       "<table border=\"1\" class=\"dataframe\">\n",
       "  <thead>\n",
       "    <tr style=\"text-align: right;\">\n",
       "      <th></th>\n",
       "      <th>show_id</th>\n",
       "      <th>title</th>\n",
       "      <th>cast</th>\n",
       "      <th>country</th>\n",
       "      <th>year_added</th>\n",
       "      <th>latest_release_year</th>\n",
       "      <th>audience_rating</th>\n",
       "      <th>seasons</th>\n",
       "      <th>listed_in</th>\n",
       "      <th>description</th>\n",
       "      <th>A</th>\n",
       "      <th>B</th>\n",
       "    </tr>\n",
       "  </thead>\n",
       "  <tbody>\n",
       "    <tr>\n",
       "      <td>0</td>\n",
       "      <td>70234439</td>\n",
       "      <td>Transformers Prime</td>\n",
       "      <td>Peter Cullen, Sumalee Montano, Frank Welker, J...</td>\n",
       "      <td>United States</td>\n",
       "      <td>2018</td>\n",
       "      <td>2013</td>\n",
       "      <td>3</td>\n",
       "      <td>1</td>\n",
       "      <td>Kids' TV</td>\n",
       "      <td>With the help of three human allies, the Autob...</td>\n",
       "      <td>Kids' TV</td>\n",
       "      <td>NaN</td>\n",
       "    </tr>\n",
       "    <tr>\n",
       "      <td>1</td>\n",
       "      <td>80058654</td>\n",
       "      <td>Transformers: Robots in Disguise</td>\n",
       "      <td>Will Friedle, Darren Criss, Constance Zimmer, ...</td>\n",
       "      <td>United States</td>\n",
       "      <td>2018</td>\n",
       "      <td>2016</td>\n",
       "      <td>3</td>\n",
       "      <td>1</td>\n",
       "      <td>Kids' TV</td>\n",
       "      <td>When a prison ship crash unleashes hundreds of...</td>\n",
       "      <td>Kids' TV</td>\n",
       "      <td>NaN</td>\n",
       "    </tr>\n",
       "    <tr>\n",
       "      <td>2</td>\n",
       "      <td>80163890</td>\n",
       "      <td>Apaches</td>\n",
       "      <td>Alberto Ammann, Eloy Azorín, Verónica Echegui,...</td>\n",
       "      <td>Spain</td>\n",
       "      <td>2017</td>\n",
       "      <td>2016</td>\n",
       "      <td>4</td>\n",
       "      <td>1</td>\n",
       "      <td>Crime TV Shows, International TV Shows, Spanis...</td>\n",
       "      <td>A young journalist is forced into a life of cr...</td>\n",
       "      <td>Crime TV Shows</td>\n",
       "      <td>International TV Shows, Spanish-Language TV S...</td>\n",
       "    </tr>\n",
       "    <tr>\n",
       "      <td>3</td>\n",
       "      <td>80117902</td>\n",
       "      <td>Fire Chasers</td>\n",
       "      <td>Unspecified</td>\n",
       "      <td>United States</td>\n",
       "      <td>2017</td>\n",
       "      <td>2017</td>\n",
       "      <td>4</td>\n",
       "      <td>1</td>\n",
       "      <td>Docuseries, Science &amp; Nature TV</td>\n",
       "      <td>As California's 2016 fire season rages, brave ...</td>\n",
       "      <td>Docuseries</td>\n",
       "      <td>Science &amp; Nature TV</td>\n",
       "    </tr>\n",
       "    <tr>\n",
       "      <td>4</td>\n",
       "      <td>80244601</td>\n",
       "      <td>Castle of Stars</td>\n",
       "      <td>Chaiyapol Pupart, Jintanutda Lummakanon, Worra...</td>\n",
       "      <td>Unspecified</td>\n",
       "      <td>2018</td>\n",
       "      <td>2015</td>\n",
       "      <td>3</td>\n",
       "      <td>1</td>\n",
       "      <td>International TV Shows, Romantic TV Shows, TV ...</td>\n",
       "      <td>As four couples with different lifestyles go t...</td>\n",
       "      <td>International TV Shows</td>\n",
       "      <td>Romantic TV Shows, TV Comedies</td>\n",
       "    </tr>\n",
       "    <tr>\n",
       "      <td>...</td>\n",
       "      <td>...</td>\n",
       "      <td>...</td>\n",
       "      <td>...</td>\n",
       "      <td>...</td>\n",
       "      <td>...</td>\n",
       "      <td>...</td>\n",
       "      <td>...</td>\n",
       "      <td>...</td>\n",
       "      <td>...</td>\n",
       "      <td>...</td>\n",
       "      <td>...</td>\n",
       "      <td>...</td>\n",
       "    </tr>\n",
       "    <tr>\n",
       "      <td>1963</td>\n",
       "      <td>80159925</td>\n",
       "      <td>Kikoriki</td>\n",
       "      <td>Igor Dmitriev</td>\n",
       "      <td>Unspecified</td>\n",
       "      <td>2017</td>\n",
       "      <td>2010</td>\n",
       "      <td>1</td>\n",
       "      <td>2</td>\n",
       "      <td>Kids' TV</td>\n",
       "      <td>A wacky rabbit and his gang of animal pals hav...</td>\n",
       "      <td>Kids' TV</td>\n",
       "      <td>NaN</td>\n",
       "    </tr>\n",
       "    <tr>\n",
       "      <td>1964</td>\n",
       "      <td>80000063</td>\n",
       "      <td>Red vs. Blue</td>\n",
       "      <td>Burnie Burns, Jason Saldaña, Gustavo Sorola, G...</td>\n",
       "      <td>United States</td>\n",
       "      <td>2014</td>\n",
       "      <td>2015</td>\n",
       "      <td>0</td>\n",
       "      <td>13</td>\n",
       "      <td>TV Action &amp; Adventure, TV Comedies, TV Sci-Fi ...</td>\n",
       "      <td>This parody of first-person shooter games, mil...</td>\n",
       "      <td>TV Action &amp; Adventure</td>\n",
       "      <td>TV Comedies, TV Sci-Fi &amp; Fantasy</td>\n",
       "    </tr>\n",
       "    <tr>\n",
       "      <td>1965</td>\n",
       "      <td>70286564</td>\n",
       "      <td>Maron</td>\n",
       "      <td>Marc Maron, Judd Hirsch, Josh Brener, Nora Zeh...</td>\n",
       "      <td>United States</td>\n",
       "      <td>2017</td>\n",
       "      <td>2016</td>\n",
       "      <td>4</td>\n",
       "      <td>4</td>\n",
       "      <td>TV Comedies</td>\n",
       "      <td>Marc Maron stars as Marc Maron, who interviews...</td>\n",
       "      <td>TV Comedies</td>\n",
       "      <td>NaN</td>\n",
       "    </tr>\n",
       "    <tr>\n",
       "      <td>1966</td>\n",
       "      <td>70281022</td>\n",
       "      <td>A Young Doctor's Notebook and Other Stories</td>\n",
       "      <td>Daniel Radcliffe, Jon Hamm, Adam Godley, Chris...</td>\n",
       "      <td>United Kingdom</td>\n",
       "      <td>2014</td>\n",
       "      <td>2013</td>\n",
       "      <td>4</td>\n",
       "      <td>2</td>\n",
       "      <td>British TV Shows, TV Comedies, TV Dramas</td>\n",
       "      <td>Set during the Russian Revolution, this comic ...</td>\n",
       "      <td>British TV Shows</td>\n",
       "      <td>TV Comedies, TV Dramas</td>\n",
       "    </tr>\n",
       "    <tr>\n",
       "      <td>1967</td>\n",
       "      <td>70153404</td>\n",
       "      <td>Friends</td>\n",
       "      <td>Jennifer Aniston, Courteney Cox, Lisa Kudrow, ...</td>\n",
       "      <td>United States</td>\n",
       "      <td>2015</td>\n",
       "      <td>2003</td>\n",
       "      <td>3</td>\n",
       "      <td>10</td>\n",
       "      <td>Classic &amp; Cult TV, TV Comedies</td>\n",
       "      <td>This hit sitcom follows the merry misadventure...</td>\n",
       "      <td>Classic &amp; Cult TV</td>\n",
       "      <td>TV Comedies</td>\n",
       "    </tr>\n",
       "  </tbody>\n",
       "</table>\n",
       "<p>1968 rows × 12 columns</p>\n",
       "</div>"
      ],
      "text/plain": [
       "       show_id                                        title  \\\n",
       "0     70234439                           Transformers Prime   \n",
       "1     80058654             Transformers: Robots in Disguise   \n",
       "2     80163890                                      Apaches   \n",
       "3     80117902                                 Fire Chasers   \n",
       "4     80244601                              Castle of Stars   \n",
       "...        ...                                          ...   \n",
       "1963  80159925                                     Kikoriki   \n",
       "1964  80000063                                 Red vs. Blue   \n",
       "1965  70286564                                        Maron   \n",
       "1966  70281022  A Young Doctor's Notebook and Other Stories   \n",
       "1967  70153404                                      Friends   \n",
       "\n",
       "                                                   cast         country  \\\n",
       "0     Peter Cullen, Sumalee Montano, Frank Welker, J...   United States   \n",
       "1     Will Friedle, Darren Criss, Constance Zimmer, ...   United States   \n",
       "2     Alberto Ammann, Eloy Azorín, Verónica Echegui,...           Spain   \n",
       "3                                           Unspecified   United States   \n",
       "4     Chaiyapol Pupart, Jintanutda Lummakanon, Worra...     Unspecified   \n",
       "...                                                 ...             ...   \n",
       "1963                                      Igor Dmitriev     Unspecified   \n",
       "1964  Burnie Burns, Jason Saldaña, Gustavo Sorola, G...   United States   \n",
       "1965  Marc Maron, Judd Hirsch, Josh Brener, Nora Zeh...   United States   \n",
       "1966  Daniel Radcliffe, Jon Hamm, Adam Godley, Chris...  United Kingdom   \n",
       "1967  Jennifer Aniston, Courteney Cox, Lisa Kudrow, ...   United States   \n",
       "\n",
       "     year_added  latest_release_year audience_rating seasons  \\\n",
       "0          2018                 2013               3      1    \n",
       "1          2018                 2016               3      1    \n",
       "2          2017                 2016               4      1    \n",
       "3          2017                 2017               4      1    \n",
       "4          2018                 2015               3      1    \n",
       "...         ...                  ...             ...     ...   \n",
       "1963       2017                 2010               1      2    \n",
       "1964       2014                 2015               0      13   \n",
       "1965       2017                 2016               4      4    \n",
       "1966       2014                 2013               4      2    \n",
       "1967       2015                 2003               3      10   \n",
       "\n",
       "                                              listed_in  \\\n",
       "0                                              Kids' TV   \n",
       "1                                              Kids' TV   \n",
       "2     Crime TV Shows, International TV Shows, Spanis...   \n",
       "3                       Docuseries, Science & Nature TV   \n",
       "4     International TV Shows, Romantic TV Shows, TV ...   \n",
       "...                                                 ...   \n",
       "1963                                           Kids' TV   \n",
       "1964  TV Action & Adventure, TV Comedies, TV Sci-Fi ...   \n",
       "1965                                        TV Comedies   \n",
       "1966           British TV Shows, TV Comedies, TV Dramas   \n",
       "1967                     Classic & Cult TV, TV Comedies   \n",
       "\n",
       "                                            description  \\\n",
       "0     With the help of three human allies, the Autob...   \n",
       "1     When a prison ship crash unleashes hundreds of...   \n",
       "2     A young journalist is forced into a life of cr...   \n",
       "3     As California's 2016 fire season rages, brave ...   \n",
       "4     As four couples with different lifestyles go t...   \n",
       "...                                                 ...   \n",
       "1963  A wacky rabbit and his gang of animal pals hav...   \n",
       "1964  This parody of first-person shooter games, mil...   \n",
       "1965  Marc Maron stars as Marc Maron, who interviews...   \n",
       "1966  Set during the Russian Revolution, this comic ...   \n",
       "1967  This hit sitcom follows the merry misadventure...   \n",
       "\n",
       "                           A  \\\n",
       "0                   Kids' TV   \n",
       "1                   Kids' TV   \n",
       "2             Crime TV Shows   \n",
       "3                 Docuseries   \n",
       "4     International TV Shows   \n",
       "...                      ...   \n",
       "1963                Kids' TV   \n",
       "1964   TV Action & Adventure   \n",
       "1965             TV Comedies   \n",
       "1966        British TV Shows   \n",
       "1967       Classic & Cult TV   \n",
       "\n",
       "                                                      B  \n",
       "0                                                   NaN  \n",
       "1                                                   NaN  \n",
       "2      International TV Shows, Spanish-Language TV S...  \n",
       "3                                   Science & Nature TV  \n",
       "4                        Romantic TV Shows, TV Comedies  \n",
       "...                                                 ...  \n",
       "1963                                                NaN  \n",
       "1964                   TV Comedies, TV Sci-Fi & Fantasy  \n",
       "1965                                                NaN  \n",
       "1966                             TV Comedies, TV Dramas  \n",
       "1967                                        TV Comedies  \n",
       "\n",
       "[1968 rows x 12 columns]"
      ]
     },
     "execution_count": 66,
     "metadata": {},
     "output_type": "execute_result"
    }
   ],
   "source": [
    "df"
   ]
  },
  {
   "cell_type": "code",
   "execution_count": 67,
   "metadata": {},
   "outputs": [
    {
     "data": {
      "text/plain": [
       "Index(['show_id', 'title', 'cast', 'country', 'year_added',\n",
       "       'latest_release_year', 'audience_rating', 'seasons', 'description',\n",
       "       'main_category'],\n",
       "      dtype='object')"
      ]
     },
     "execution_count": 67,
     "metadata": {},
     "output_type": "execute_result"
    }
   ],
   "source": [
    "df.rename(columns={'A':'main_category'}, inplace=True)\n",
    "df.drop(['listed_in', 'B'], axis=1, inplace=True)\n",
    "df.columns"
   ]
  },
  {
   "cell_type": "markdown",
   "metadata": {},
   "source": [
    "**Description**"
   ]
  },
  {
   "cell_type": "code",
   "execution_count": 68,
   "metadata": {
    "scrolled": true
   },
   "outputs": [
    {
     "data": {
      "text/plain": [
       "Index(['show_id', 'title', 'cast', 'country', 'year_added',\n",
       "       'latest_release_year', 'audience_rating', 'seasons', 'main_category'],\n",
       "      dtype='object')"
      ]
     },
     "execution_count": 68,
     "metadata": {},
     "output_type": "execute_result"
    }
   ],
   "source": [
    "df.drop(['description'], axis=1, inplace=True)\n",
    "df.columns"
   ]
  },
  {
   "cell_type": "code",
   "execution_count": 69,
   "metadata": {
    "scrolled": true
   },
   "outputs": [
    {
     "data": {
      "text/html": [
       "<div>\n",
       "<style scoped>\n",
       "    .dataframe tbody tr th:only-of-type {\n",
       "        vertical-align: middle;\n",
       "    }\n",
       "\n",
       "    .dataframe tbody tr th {\n",
       "        vertical-align: top;\n",
       "    }\n",
       "\n",
       "    .dataframe thead th {\n",
       "        text-align: right;\n",
       "    }\n",
       "</style>\n",
       "<table border=\"1\" class=\"dataframe\">\n",
       "  <thead>\n",
       "    <tr style=\"text-align: right;\">\n",
       "      <th></th>\n",
       "      <th>show_id</th>\n",
       "      <th>title</th>\n",
       "      <th>cast</th>\n",
       "      <th>country</th>\n",
       "      <th>year_added</th>\n",
       "      <th>latest_release_year</th>\n",
       "      <th>audience_rating</th>\n",
       "      <th>seasons</th>\n",
       "      <th>main_category</th>\n",
       "    </tr>\n",
       "  </thead>\n",
       "  <tbody>\n",
       "    <tr>\n",
       "      <td>0</td>\n",
       "      <td>70234439</td>\n",
       "      <td>Transformers Prime</td>\n",
       "      <td>Peter Cullen, Sumalee Montano, Frank Welker, J...</td>\n",
       "      <td>United States</td>\n",
       "      <td>2018</td>\n",
       "      <td>2013</td>\n",
       "      <td>3</td>\n",
       "      <td>1</td>\n",
       "      <td>Kids' TV</td>\n",
       "    </tr>\n",
       "    <tr>\n",
       "      <td>1</td>\n",
       "      <td>80058654</td>\n",
       "      <td>Transformers: Robots in Disguise</td>\n",
       "      <td>Will Friedle, Darren Criss, Constance Zimmer, ...</td>\n",
       "      <td>United States</td>\n",
       "      <td>2018</td>\n",
       "      <td>2016</td>\n",
       "      <td>3</td>\n",
       "      <td>1</td>\n",
       "      <td>Kids' TV</td>\n",
       "    </tr>\n",
       "    <tr>\n",
       "      <td>2</td>\n",
       "      <td>80163890</td>\n",
       "      <td>Apaches</td>\n",
       "      <td>Alberto Ammann, Eloy Azorín, Verónica Echegui,...</td>\n",
       "      <td>Spain</td>\n",
       "      <td>2017</td>\n",
       "      <td>2016</td>\n",
       "      <td>4</td>\n",
       "      <td>1</td>\n",
       "      <td>Crime TV Shows</td>\n",
       "    </tr>\n",
       "    <tr>\n",
       "      <td>3</td>\n",
       "      <td>80117902</td>\n",
       "      <td>Fire Chasers</td>\n",
       "      <td>Unspecified</td>\n",
       "      <td>United States</td>\n",
       "      <td>2017</td>\n",
       "      <td>2017</td>\n",
       "      <td>4</td>\n",
       "      <td>1</td>\n",
       "      <td>Docuseries</td>\n",
       "    </tr>\n",
       "    <tr>\n",
       "      <td>4</td>\n",
       "      <td>80244601</td>\n",
       "      <td>Castle of Stars</td>\n",
       "      <td>Chaiyapol Pupart, Jintanutda Lummakanon, Worra...</td>\n",
       "      <td>Unspecified</td>\n",
       "      <td>2018</td>\n",
       "      <td>2015</td>\n",
       "      <td>3</td>\n",
       "      <td>1</td>\n",
       "      <td>International TV Shows</td>\n",
       "    </tr>\n",
       "    <tr>\n",
       "      <td>...</td>\n",
       "      <td>...</td>\n",
       "      <td>...</td>\n",
       "      <td>...</td>\n",
       "      <td>...</td>\n",
       "      <td>...</td>\n",
       "      <td>...</td>\n",
       "      <td>...</td>\n",
       "      <td>...</td>\n",
       "      <td>...</td>\n",
       "    </tr>\n",
       "    <tr>\n",
       "      <td>1963</td>\n",
       "      <td>80159925</td>\n",
       "      <td>Kikoriki</td>\n",
       "      <td>Igor Dmitriev</td>\n",
       "      <td>Unspecified</td>\n",
       "      <td>2017</td>\n",
       "      <td>2010</td>\n",
       "      <td>1</td>\n",
       "      <td>2</td>\n",
       "      <td>Kids' TV</td>\n",
       "    </tr>\n",
       "    <tr>\n",
       "      <td>1964</td>\n",
       "      <td>80000063</td>\n",
       "      <td>Red vs. Blue</td>\n",
       "      <td>Burnie Burns, Jason Saldaña, Gustavo Sorola, G...</td>\n",
       "      <td>United States</td>\n",
       "      <td>2014</td>\n",
       "      <td>2015</td>\n",
       "      <td>0</td>\n",
       "      <td>13</td>\n",
       "      <td>TV Action &amp; Adventure</td>\n",
       "    </tr>\n",
       "    <tr>\n",
       "      <td>1965</td>\n",
       "      <td>70286564</td>\n",
       "      <td>Maron</td>\n",
       "      <td>Marc Maron, Judd Hirsch, Josh Brener, Nora Zeh...</td>\n",
       "      <td>United States</td>\n",
       "      <td>2017</td>\n",
       "      <td>2016</td>\n",
       "      <td>4</td>\n",
       "      <td>4</td>\n",
       "      <td>TV Comedies</td>\n",
       "    </tr>\n",
       "    <tr>\n",
       "      <td>1966</td>\n",
       "      <td>70281022</td>\n",
       "      <td>A Young Doctor's Notebook and Other Stories</td>\n",
       "      <td>Daniel Radcliffe, Jon Hamm, Adam Godley, Chris...</td>\n",
       "      <td>United Kingdom</td>\n",
       "      <td>2014</td>\n",
       "      <td>2013</td>\n",
       "      <td>4</td>\n",
       "      <td>2</td>\n",
       "      <td>British TV Shows</td>\n",
       "    </tr>\n",
       "    <tr>\n",
       "      <td>1967</td>\n",
       "      <td>70153404</td>\n",
       "      <td>Friends</td>\n",
       "      <td>Jennifer Aniston, Courteney Cox, Lisa Kudrow, ...</td>\n",
       "      <td>United States</td>\n",
       "      <td>2015</td>\n",
       "      <td>2003</td>\n",
       "      <td>3</td>\n",
       "      <td>10</td>\n",
       "      <td>Classic &amp; Cult TV</td>\n",
       "    </tr>\n",
       "  </tbody>\n",
       "</table>\n",
       "<p>1968 rows × 9 columns</p>\n",
       "</div>"
      ],
      "text/plain": [
       "       show_id                                        title  \\\n",
       "0     70234439                           Transformers Prime   \n",
       "1     80058654             Transformers: Robots in Disguise   \n",
       "2     80163890                                      Apaches   \n",
       "3     80117902                                 Fire Chasers   \n",
       "4     80244601                              Castle of Stars   \n",
       "...        ...                                          ...   \n",
       "1963  80159925                                     Kikoriki   \n",
       "1964  80000063                                 Red vs. Blue   \n",
       "1965  70286564                                        Maron   \n",
       "1966  70281022  A Young Doctor's Notebook and Other Stories   \n",
       "1967  70153404                                      Friends   \n",
       "\n",
       "                                                   cast         country  \\\n",
       "0     Peter Cullen, Sumalee Montano, Frank Welker, J...   United States   \n",
       "1     Will Friedle, Darren Criss, Constance Zimmer, ...   United States   \n",
       "2     Alberto Ammann, Eloy Azorín, Verónica Echegui,...           Spain   \n",
       "3                                           Unspecified   United States   \n",
       "4     Chaiyapol Pupart, Jintanutda Lummakanon, Worra...     Unspecified   \n",
       "...                                                 ...             ...   \n",
       "1963                                      Igor Dmitriev     Unspecified   \n",
       "1964  Burnie Burns, Jason Saldaña, Gustavo Sorola, G...   United States   \n",
       "1965  Marc Maron, Judd Hirsch, Josh Brener, Nora Zeh...   United States   \n",
       "1966  Daniel Radcliffe, Jon Hamm, Adam Godley, Chris...  United Kingdom   \n",
       "1967  Jennifer Aniston, Courteney Cox, Lisa Kudrow, ...   United States   \n",
       "\n",
       "     year_added  latest_release_year audience_rating seasons  \\\n",
       "0          2018                 2013               3      1    \n",
       "1          2018                 2016               3      1    \n",
       "2          2017                 2016               4      1    \n",
       "3          2017                 2017               4      1    \n",
       "4          2018                 2015               3      1    \n",
       "...         ...                  ...             ...     ...   \n",
       "1963       2017                 2010               1      2    \n",
       "1964       2014                 2015               0      13   \n",
       "1965       2017                 2016               4      4    \n",
       "1966       2014                 2013               4      2    \n",
       "1967       2015                 2003               3      10   \n",
       "\n",
       "               main_category  \n",
       "0                   Kids' TV  \n",
       "1                   Kids' TV  \n",
       "2             Crime TV Shows  \n",
       "3                 Docuseries  \n",
       "4     International TV Shows  \n",
       "...                      ...  \n",
       "1963                Kids' TV  \n",
       "1964   TV Action & Adventure  \n",
       "1965             TV Comedies  \n",
       "1966        British TV Shows  \n",
       "1967       Classic & Cult TV  \n",
       "\n",
       "[1968 rows x 9 columns]"
      ]
     },
     "execution_count": 69,
     "metadata": {},
     "output_type": "execute_result"
    }
   ],
   "source": [
    "df"
   ]
  },
  {
   "cell_type": "markdown",
   "metadata": {},
   "source": [
    "**Check dTypes**"
   ]
  },
  {
   "cell_type": "code",
   "execution_count": 70,
   "metadata": {},
   "outputs": [
    {
     "data": {
      "text/plain": [
       "show_id                 int64\n",
       "title                  object\n",
       "cast                   object\n",
       "country                object\n",
       "year_added             object\n",
       "latest_release_year     int64\n",
       "audience_rating        object\n",
       "seasons                object\n",
       "main_category          object\n",
       "dtype: object"
      ]
     },
     "execution_count": 70,
     "metadata": {},
     "output_type": "execute_result"
    }
   ],
   "source": [
    "df.dtypes"
   ]
  },
  {
   "cell_type": "code",
   "execution_count": 71,
   "metadata": {},
   "outputs": [],
   "source": [
    "df = df.astype({'year_added': 'int64', 'audience_rating': 'int64', 'seasons': 'int64'})"
   ]
  },
  {
   "cell_type": "code",
   "execution_count": 72,
   "metadata": {},
   "outputs": [
    {
     "data": {
      "text/plain": [
       "show_id                 int64\n",
       "title                  object\n",
       "cast                   object\n",
       "country                object\n",
       "year_added              int64\n",
       "latest_release_year     int64\n",
       "audience_rating         int64\n",
       "seasons                 int64\n",
       "main_category          object\n",
       "dtype: object"
      ]
     },
     "execution_count": 72,
     "metadata": {},
     "output_type": "execute_result"
    }
   ],
   "source": [
    "df.dtypes"
   ]
  },
  {
   "cell_type": "markdown",
   "metadata": {},
   "source": [
    "### Data cleaning the IMDb dataframes"
   ]
  },
  {
   "cell_type": "markdown",
   "metadata": {},
   "source": [
    "**The IMDb Ratings dataframe**"
   ]
  },
  {
   "cell_type": "code",
   "execution_count": 73,
   "metadata": {},
   "outputs": [
    {
     "data": {
      "text/html": [
       "<div>\n",
       "<style scoped>\n",
       "    .dataframe tbody tr th:only-of-type {\n",
       "        vertical-align: middle;\n",
       "    }\n",
       "\n",
       "    .dataframe tbody tr th {\n",
       "        vertical-align: top;\n",
       "    }\n",
       "\n",
       "    .dataframe thead th {\n",
       "        text-align: right;\n",
       "    }\n",
       "</style>\n",
       "<table border=\"1\" class=\"dataframe\">\n",
       "  <thead>\n",
       "    <tr style=\"text-align: right;\">\n",
       "      <th></th>\n",
       "      <th>tconst</th>\n",
       "      <th>averageRating</th>\n",
       "      <th>numVotes</th>\n",
       "    </tr>\n",
       "  </thead>\n",
       "  <tbody>\n",
       "    <tr>\n",
       "      <td>0</td>\n",
       "      <td>tt0000001</td>\n",
       "      <td>5.7</td>\n",
       "      <td>1630</td>\n",
       "    </tr>\n",
       "    <tr>\n",
       "      <td>1</td>\n",
       "      <td>tt0000002</td>\n",
       "      <td>6.1</td>\n",
       "      <td>196</td>\n",
       "    </tr>\n",
       "    <tr>\n",
       "      <td>2</td>\n",
       "      <td>tt0000003</td>\n",
       "      <td>6.5</td>\n",
       "      <td>1321</td>\n",
       "    </tr>\n",
       "    <tr>\n",
       "      <td>3</td>\n",
       "      <td>tt0000004</td>\n",
       "      <td>6.2</td>\n",
       "      <td>119</td>\n",
       "    </tr>\n",
       "    <tr>\n",
       "      <td>4</td>\n",
       "      <td>tt0000005</td>\n",
       "      <td>6.1</td>\n",
       "      <td>2106</td>\n",
       "    </tr>\n",
       "  </tbody>\n",
       "</table>\n",
       "</div>"
      ],
      "text/plain": [
       "      tconst  averageRating  numVotes\n",
       "0  tt0000001            5.7      1630\n",
       "1  tt0000002            6.1       196\n",
       "2  tt0000003            6.5      1321\n",
       "3  tt0000004            6.2       119\n",
       "4  tt0000005            6.1      2106"
      ]
     },
     "execution_count": 73,
     "metadata": {},
     "output_type": "execute_result"
    }
   ],
   "source": [
    " imdbratings.head(5)"
   ]
  },
  {
   "cell_type": "code",
   "execution_count": 74,
   "metadata": {},
   "outputs": [
    {
     "data": {
      "text/plain": [
       "array([ 5.7,  6.1,  6.5,  6.2,  5.2,  5.5,  5.4,  5.9,  6.9,  7.4,  5.8,\n",
       "        7.2,  4.7,  5.3,  5. ,  5.1,  4.6,  4.1,  5.6,  4.4,  3.7,  4.3,\n",
       "        6.6,  3.9,  4.8,  4.5,  3.8,  4.9,  2.8,  3.6,  3.2,  7.6,  4. ,\n",
       "        6.4,  6.3,  4.2,  6.7,  6. ,  6.8,  3.4,  7.5,  7.3,  7.1,  8.1,\n",
       "        7. ,  8.2,  8. ,  3.5,  7.8,  2.6,  3.3,  8.3,  3.1,  8.5,  2.9,\n",
       "        7.7,  8.7,  8.9,  9.2,  9. ,  1.8,  1.5,  3. ,  1.6,  8.4,  2. ,\n",
       "        7.9,  1.1,  1.7,  2.5,  2.4,  2.1,  8.6,  8.8,  9.1,  1.3,  1.9,\n",
       "        9.3,  1. ,  2.2,  9.4,  2.3,  2.7,  9.7,  1.4,  9.6, 10. ,  9.5,\n",
       "        9.9,  9.8,  1.2])"
      ]
     },
     "execution_count": 74,
     "metadata": {},
     "output_type": "execute_result"
    }
   ],
   "source": [
    "imdbratings.averageRating.unique()"
   ]
  },
  {
   "cell_type": "code",
   "execution_count": 75,
   "metadata": {},
   "outputs": [
    {
     "data": {
      "text/plain": [
       "tconst            object\n",
       "averageRating    float64\n",
       "numVotes           int64\n",
       "dtype: object"
      ]
     },
     "execution_count": 75,
     "metadata": {},
     "output_type": "execute_result"
    }
   ],
   "source": [
    "imdbratings.dtypes"
   ]
  },
  {
   "cell_type": "markdown",
   "metadata": {},
   "source": [
    "**The IMDb Titles dataframe**"
   ]
  },
  {
   "cell_type": "code",
   "execution_count": 76,
   "metadata": {},
   "outputs": [
    {
     "data": {
      "text/html": [
       "<div>\n",
       "<style scoped>\n",
       "    .dataframe tbody tr th:only-of-type {\n",
       "        vertical-align: middle;\n",
       "    }\n",
       "\n",
       "    .dataframe tbody tr th {\n",
       "        vertical-align: top;\n",
       "    }\n",
       "\n",
       "    .dataframe thead th {\n",
       "        text-align: right;\n",
       "    }\n",
       "</style>\n",
       "<table border=\"1\" class=\"dataframe\">\n",
       "  <thead>\n",
       "    <tr style=\"text-align: right;\">\n",
       "      <th></th>\n",
       "      <th>tconst</th>\n",
       "      <th>primaryTitle</th>\n",
       "      <th>originalTitle</th>\n",
       "      <th>isAdult</th>\n",
       "      <th>startYear</th>\n",
       "      <th>endYear</th>\n",
       "      <th>runtimeMinutes</th>\n",
       "      <th>genres</th>\n",
       "    </tr>\n",
       "  </thead>\n",
       "  <tbody>\n",
       "    <tr>\n",
       "      <td>0</td>\n",
       "      <td>tt0035599</td>\n",
       "      <td>Voice of Firestone Televues</td>\n",
       "      <td>Voice of Firestone Televues</td>\n",
       "      <td>0</td>\n",
       "      <td>1943</td>\n",
       "      <td>1947</td>\n",
       "      <td>15</td>\n",
       "      <td>\\N</td>\n",
       "    </tr>\n",
       "    <tr>\n",
       "      <td>1</td>\n",
       "      <td>tt0035803</td>\n",
       "      <td>The German Weekly Review</td>\n",
       "      <td>Die Deutsche Wochenschau</td>\n",
       "      <td>0</td>\n",
       "      <td>1940</td>\n",
       "      <td>1945</td>\n",
       "      <td>12</td>\n",
       "      <td>Documentary,News</td>\n",
       "    </tr>\n",
       "    <tr>\n",
       "      <td>2</td>\n",
       "      <td>tt0038276</td>\n",
       "      <td>You Are an Artist</td>\n",
       "      <td>You Are an Artist</td>\n",
       "      <td>0</td>\n",
       "      <td>1946</td>\n",
       "      <td>1950</td>\n",
       "      <td>15</td>\n",
       "      <td>\\N</td>\n",
       "    </tr>\n",
       "    <tr>\n",
       "      <td>3</td>\n",
       "      <td>tt0039120</td>\n",
       "      <td>Americana</td>\n",
       "      <td>Americana</td>\n",
       "      <td>0</td>\n",
       "      <td>1947</td>\n",
       "      <td>1949</td>\n",
       "      <td>30</td>\n",
       "      <td>Family,Game-Show</td>\n",
       "    </tr>\n",
       "    <tr>\n",
       "      <td>4</td>\n",
       "      <td>tt0039121</td>\n",
       "      <td>Birthday Party</td>\n",
       "      <td>Birthday Party</td>\n",
       "      <td>0</td>\n",
       "      <td>1947</td>\n",
       "      <td>1949</td>\n",
       "      <td>30</td>\n",
       "      <td>Family</td>\n",
       "    </tr>\n",
       "  </tbody>\n",
       "</table>\n",
       "</div>"
      ],
      "text/plain": [
       "      tconst                 primaryTitle                originalTitle  \\\n",
       "0  tt0035599  Voice of Firestone Televues  Voice of Firestone Televues   \n",
       "1  tt0035803     The German Weekly Review     Die Deutsche Wochenschau   \n",
       "2  tt0038276            You Are an Artist            You Are an Artist   \n",
       "3  tt0039120                    Americana                    Americana   \n",
       "4  tt0039121               Birthday Party               Birthday Party   \n",
       "\n",
       "   isAdult startYear endYear runtimeMinutes            genres  \n",
       "0        0      1943    1947             15                \\N  \n",
       "1        0      1940    1945             12  Documentary,News  \n",
       "2        0      1946    1950             15                \\N  \n",
       "3        0      1947    1949             30  Family,Game-Show  \n",
       "4        0      1947    1949             30            Family  "
      ]
     },
     "execution_count": 76,
     "metadata": {},
     "output_type": "execute_result"
    }
   ],
   "source": [
    "imdbtitle.head(5)"
   ]
  },
  {
   "cell_type": "code",
   "execution_count": 77,
   "metadata": {},
   "outputs": [],
   "source": [
    "#imdbtitle[imdbtitle.primaryTitle.str.contains('Persona')]\n",
    "#imdbtitle[imdbtitle['primaryTitle'] == 'Top Boy']"
   ]
  },
  {
   "cell_type": "code",
   "execution_count": 78,
   "metadata": {},
   "outputs": [],
   "source": [
    "# Update titles I changed in df so we can match everything\n",
    "# Charmed\n",
    "imdbtitle.at[202355, 'primaryTitle'] = 'Charmed 2018'\n",
    "imdbtitle.at[8930, 'primaryTitle'] = 'Charmed 1998'\n",
    "\n",
    "# Kakegurui\n",
    "imdbtitle.at[213118, 'primaryTitle'] = 'Kakegurui 2017'\n",
    "imdbtitle.at[221080, 'primaryTitle'] = 'Kakegurui 2018'\n",
    "\n",
    "#Life\n",
    "imdbtitle.at[228670, 'primaryTitle'] = 'Life (Laipeu)'\n",
    "\n",
    "#Lovesick\n",
    "imdbtitle.at[227468, 'primaryTitle'] = 'Love Sick'\n",
    "\n",
    "#Maniac\n",
    "imdbtitle.at[159007, 'primaryTitle'] = 'Maniac 2014'\n",
    "imdbtitle.at[188566, 'primaryTitle'] = 'Maniac 2018'\n",
    "\n",
    "#Oh My Ghost\n",
    "imdbtitle.at[176248, 'primaryTitle'] = 'Oh My Ghost 2015'\n",
    "imdbtitle.at[238832, 'primaryTitle'] = 'Oh My Ghost 2018'\n",
    "\n",
    "#Persona\n",
    "imdbtitle.at[56704, 'primaryTitle'] = 'Persona 2019'\n",
    "\n",
    "#Rosario Tijeras\n",
    "imdbtitle.at[114020, 'primaryTitle'] = 'Rosario Tijeras 2010'\n",
    "imdbtitle.at[201355, 'primaryTitle'] = 'Rosario Tijeras 2016'\n",
    "\n",
    "#The Code\n",
    "imdbtitle.at[126968, 'primaryTitle'] = 'The Code (Documentary)'\n",
    "\n",
    "#Tunnel\n",
    "imdbtitle.at[90323, 'primaryTitle'] = 'Tunnel 2019'\n",
    "imdbtitle.at[201698, 'primaryTitle'] = 'Tunnel 2017'"
   ]
  },
  {
   "cell_type": "code",
   "execution_count": 79,
   "metadata": {},
   "outputs": [
    {
     "data": {
      "text/plain": [
       "Index(['tconst', 'primaryTitle', 'originalTitle', 'isAdult', 'startYear',\n",
       "       'endYear', 'runtimeMinutes', 'genres'],\n",
       "      dtype='object')"
      ]
     },
     "execution_count": 79,
     "metadata": {},
     "output_type": "execute_result"
    }
   ],
   "source": [
    "imdbtitle.columns"
   ]
  },
  {
   "cell_type": "markdown",
   "metadata": {},
   "source": [
    "**Primary Title**"
   ]
  },
  {
   "cell_type": "code",
   "execution_count": null,
   "metadata": {},
   "outputs": [],
   "source": []
  },
  {
   "cell_type": "markdown",
   "metadata": {},
   "source": [
    "**Original Title**"
   ]
  },
  {
   "cell_type": "code",
   "execution_count": null,
   "metadata": {},
   "outputs": [],
   "source": []
  },
  {
   "cell_type": "markdown",
   "metadata": {},
   "source": [
    "**isAdult**"
   ]
  },
  {
   "cell_type": "code",
   "execution_count": 80,
   "metadata": {},
   "outputs": [
    {
     "data": {
      "text/plain": [
       "array([0, 1])"
      ]
     },
     "execution_count": 80,
     "metadata": {},
     "output_type": "execute_result"
    }
   ],
   "source": [
    "imdbtitle.isAdult.unique()"
   ]
  },
  {
   "cell_type": "code",
   "execution_count": 81,
   "metadata": {},
   "outputs": [
    {
     "data": {
      "text/plain": [
       "Index(['tconst', 'primaryTitle', 'originalTitle', 'startYear', 'endYear',\n",
       "       'runtimeMinutes', 'genres'],\n",
       "      dtype='object')"
      ]
     },
     "execution_count": 81,
     "metadata": {},
     "output_type": "execute_result"
    }
   ],
   "source": [
    "imdbtitle.drop(['isAdult'], axis=1, inplace=True)\n",
    "imdbtitle.columns"
   ]
  },
  {
   "cell_type": "markdown",
   "metadata": {},
   "source": [
    "**Start Year**"
   ]
  },
  {
   "cell_type": "code",
   "execution_count": 82,
   "metadata": {},
   "outputs": [
    {
     "data": {
      "text/plain": [
       "0"
      ]
     },
     "execution_count": 82,
     "metadata": {},
     "output_type": "execute_result"
    }
   ],
   "source": [
    "imdbtitle.startYear.isnull().sum()"
   ]
  },
  {
   "cell_type": "code",
   "execution_count": 83,
   "metadata": {},
   "outputs": [
    {
     "data": {
      "text/plain": [
       "array([1943, 1940, 1946, 1947, 1948, 1949, 1952, 1950, 1955, 1951, 1956,\n",
       "       1953, 1954, 1957, 1958, 1960, 1965, 1959, 1964, 1961, 1962, 1963,\n",
       "       1966, 1967, 1968, 1969, 1981, 1970, 1971, 1972, 1975, 1974, '1968',\n",
       "       '1971', '1972', '1969', '1974', '1970', '1975', '1973', '1979',\n",
       "       '1976', '1965', '1983', '1980', '1978', '1977', '1986', '1984',\n",
       "       '1981', '1992', '1985', '1982', '1988', '1963', '1987', '1999',\n",
       "       '1991', '1990', '1989', '1994', '1993', '1995', '1996', '1997',\n",
       "       '2000', '1998', '1966', '\\\\N', '1949', '1959', '1961', '1967',\n",
       "       '1944', '1948', '1952', '1951', '1953', '1947', '1958', '1955',\n",
       "       '1962', '1956', '1946', '1954', '1957', '1964', '1960', '1950',\n",
       "       '2001', '2002', '2009', '2005', '2015', '2007', '2017', '2012',\n",
       "       '1936', '2003', '2004', '1924', '2008', '1939', '1937', '1938',\n",
       "       '1941', '2020', '2010', '2016', '2018', '2006', '1945', '2011',\n",
       "       '2013', '1931', '2019', '2021', '2014', '2022', '2023', '2026',\n",
       "       '1943', '2024', '1922', '1940', '1935', '1912', '1942', '1926',\n",
       "       '1910', '1929', '1932', '1934', '1933', '1930', '1928', '1902',\n",
       "       '1906'], dtype=object)"
      ]
     },
     "execution_count": 83,
     "metadata": {},
     "output_type": "execute_result"
    }
   ],
   "source": [
    "imdbtitle.startYear.unique()"
   ]
  },
  {
   "cell_type": "code",
   "execution_count": 84,
   "metadata": {},
   "outputs": [],
   "source": [
    "imdbtitle['startYear'] = np.where((imdbtitle.startYear == '\\\\N'),np.nan,imdbtitle.startYear)"
   ]
  },
  {
   "cell_type": "code",
   "execution_count": 85,
   "metadata": {},
   "outputs": [
    {
     "data": {
      "text/plain": [
       "13048"
      ]
     },
     "execution_count": 85,
     "metadata": {},
     "output_type": "execute_result"
    }
   ],
   "source": [
    "imdbtitle.startYear.isnull().sum()"
   ]
  },
  {
   "cell_type": "code",
   "execution_count": 86,
   "metadata": {},
   "outputs": [],
   "source": [
    "imdbtitle.rename(columns={'startYear':'release_year'}, inplace=True)"
   ]
  },
  {
   "cell_type": "markdown",
   "metadata": {},
   "source": [
    "**End Year**"
   ]
  },
  {
   "cell_type": "code",
   "execution_count": 87,
   "metadata": {},
   "outputs": [
    {
     "data": {
      "text/plain": [
       "0"
      ]
     },
     "execution_count": 87,
     "metadata": {},
     "output_type": "execute_result"
    }
   ],
   "source": [
    "imdbtitle.endYear.isnull().sum()"
   ]
  },
  {
   "cell_type": "code",
   "execution_count": 88,
   "metadata": {},
   "outputs": [
    {
     "data": {
      "text/plain": [
       "array(['1947', '1945', '1950', '1949', '\\\\N', '1958', '1951', '1952',\n",
       "       '1954', '1957', '1953', '1956', '1967', '1971', '1959', '1955',\n",
       "       '1963', '1960', '1961', '1965', '1980', '2016', '1986', '1962',\n",
       "       '1972', '1966', '1970', '2009', '1973', '1987', '1991', '1974',\n",
       "       '1992', '1976', '1975', '1982', '2010', '1984', '1964', '1968',\n",
       "       '1989', '1969', '1994', '2004', '1981', '1977', '1999', '1988',\n",
       "       '1985', '2003', '1978', '1993', '2001', '2013', '1997', '1996',\n",
       "       '2011', '2005', '1995', '1979', '2006', '1983', '1990', '1998',\n",
       "       '2008', '2012', '2007', '2014', '2020', '2015', '2000', '2019',\n",
       "       '2002', '2018', '2021', '2017', '1948', '1938', '1942', '1933',\n",
       "       '2026', '2022', '1944', '1946', '1941', '1937', '1939', '1932',\n",
       "       '2025', '1936', '1924', '1935', '2027', '2023'], dtype=object)"
      ]
     },
     "execution_count": 88,
     "metadata": {},
     "output_type": "execute_result"
    }
   ],
   "source": [
    "imdbtitle.endYear.unique()"
   ]
  },
  {
   "cell_type": "code",
   "execution_count": 89,
   "metadata": {},
   "outputs": [],
   "source": [
    "imdbtitle['endYear'] = np.where((imdbtitle.endYear == '\\\\N'),np.nan,imdbtitle.endYear)"
   ]
  },
  {
   "cell_type": "code",
   "execution_count": 90,
   "metadata": {},
   "outputs": [
    {
     "data": {
      "text/plain": [
       "186489"
      ]
     },
     "execution_count": 90,
     "metadata": {},
     "output_type": "execute_result"
    }
   ],
   "source": [
    "imdbtitle.endYear.isnull().sum()"
   ]
  },
  {
   "cell_type": "markdown",
   "metadata": {},
   "source": [
    "**Runtime Minutes**"
   ]
  },
  {
   "cell_type": "code",
   "execution_count": 91,
   "metadata": {},
   "outputs": [
    {
     "data": {
      "text/plain": [
       "0"
      ]
     },
     "execution_count": 91,
     "metadata": {},
     "output_type": "execute_result"
    }
   ],
   "source": [
    "imdbtitle.runtimeMinutes.isnull().sum()"
   ]
  },
  {
   "cell_type": "code",
   "execution_count": 92,
   "metadata": {
    "scrolled": true
   },
   "outputs": [
    {
     "data": {
      "text/plain": [
       "array(['15', '12', '30', '60', '20', '10', '\\\\N', '25', '4', '90', '26',\n",
       "       '55', '240', '23', '120', '105', '45', '28', '75', '35', '49',\n",
       "       '24', '50', '400', '51', '497', '115', '7', '5', '217', '22', '48',\n",
       "       '327', '317', '82', '40', '27', '52', '14', '230', '110', '480',\n",
       "       '145', '104', '99', '155', '200', '434', '235', '85', '270', '186',\n",
       "       '160', '360', '438', '380', '238', '190', '378', '316', '6', '109',\n",
       "       '340', '300', '220', '80', '260', '344', '195', '225', '93', '540',\n",
       "       '168', '150', '196', '476', '451', '100', '250', '166', '83',\n",
       "       '180', '321', '268', '245', '201', '170', '450', '255', '210',\n",
       "       '247', '350', '3', '69', '73', '348', '192', '890', '309', '653',\n",
       "       '283', '212', '431', '47', '390', '54', '58', '370', '396', '282',\n",
       "       '251', '320', '669', '467', '286', '328', '274', '34', '770',\n",
       "       '203', '194', '198', '305', '500', '288', '373', '382', '178',\n",
       "       '596', '588', '750', '599', '333', '614', '1256', '385', '780',\n",
       "       '510', '475', '271', '67', '330', '278', '205', '53', '600', '92',\n",
       "       '204', '291', '366', '440', '265', '215', '840', '275', '742',\n",
       "       '931', '281', '70', '676', '279', '547', '173', '290', '673',\n",
       "       '216', '358', '114', '77', '293', '152', '95', '206', '394', '301',\n",
       "       '165', '233', '154', '381', '659', '107', '752', '46', '504',\n",
       "       '256', '13', '410', '520', '239', '261', '720', '267', '460',\n",
       "       '197', '883', '151', '284', '313', '420', '315', '237', '63',\n",
       "       '778', '310', '413', '108', '402', '700', '11', '158', '272',\n",
       "       '181', '139', '924', '102', '153', '176', '391', '561', '428',\n",
       "       '455', '91', '121', '199', '285', '156', '130', '174', '269',\n",
       "       '307', '304', '163', '306', '570', '569', '371', '185', '415',\n",
       "       '42', '177', '376', '870', '312', '572', '407', '331', '135',\n",
       "       '375', '374', '44', '112', '191', '118', '242', '436', '149',\n",
       "       '171', '355', '21', '353', '148', '36', '29', '202', '65', '208',\n",
       "       '193', '188', '236', '187', '266', '175', '367', '43', '303',\n",
       "       '384', '1290', '345', '1620', '213', '318', '72', '159', '88',\n",
       "       '624', '680', '262', '398', '226', '183', '229', '219', '207',\n",
       "       '98', '17', '179', '567', '182', '87', '232', '606', '246', '97',\n",
       "       '184', '61', '258', '66', '74', '62', '59', '241', '223', '113',\n",
       "       '222', '322', '834', '161', '162', '157', '116', '1140', '1',\n",
       "       '522', '263', '273', '96', '361', '19', '218', '164', '314', '515',\n",
       "       '762', '227', '41', '308', '125', '167', '211', '528', '623',\n",
       "       '537', '336', '172', '416', '341', '78', '568', '571', '132',\n",
       "       '128', '556', '386', '383', '56', '650', '292', '343', '287', '2',\n",
       "       '124', '698', '401', '377', '672', '465', '8', '702', '660', '257',\n",
       "       '622', '356', '296', '228', '1352', '294', '122', '1320', '84',\n",
       "       '33', '395', '57', '86', '94', '339', '138', '146', '140', '101',\n",
       "       '259', '224', '351', '68', '32', '81', '388', '325', '357', '1120',\n",
       "       '264', '254', '554', '612', '616', '127', '89', '349', '489',\n",
       "       '458', '9', '169', '295', '627', '71', '594', '280', '253', '1080',\n",
       "       '38', '16', '495', '347', '417', '147', '1800', '577', '126', '31',\n",
       "       '1440', '323', '276', '129', '439', '2800', '491', '189', '1100',\n",
       "       '37', '39', '406', '369', '297', '76', '214', '445', '435', '960',\n",
       "       '119', '144', '615', '535', '277', '392', '209', '663', '693',\n",
       "       '311', '136', '425', '544', '18', '298', '877', '389', '464',\n",
       "       '545', '111', '640', '453', '106', '446', '117', '372', '629',\n",
       "       '678', '1300', '352', '689', '252', '289', '793', '2925', '608',\n",
       "       '142', '64', '231', '1170', '1084', '131', '457', '133', '338',\n",
       "       '550', '701', '530', '346', '143', '103', '738', '354', '1260',\n",
       "       '137', '1020', '1200', '646', '459', '579', '820', '704', '630',\n",
       "       '552', '710', '514', '1664', '1215', '1755', '134', '1710', '1035',\n",
       "       '1370', '1350', '1410', '1380', '326', '1430', '715', '221', '580',\n",
       "       '79', '585', '302', '485', '364', '516', '705', '3600', '1196',\n",
       "       '765', '502', '8400', '541', '652', '141', '1040', '1442', '598',\n",
       "       '526', '334', '1248', '487', '1932', '466', '538', '4800', '3900',\n",
       "       '2150', '403', '900', '527', '636', '575', '564', '412', '506',\n",
       "       '800', '441', '519', '469', '1441', '490', '551', '421', '784',\n",
       "       '123', '990', '3285', '234', '319', '249', '1400', '468', '584',\n",
       "       '573', '324', '379', '1444', '479', '1845', '675', '244', '1050',\n",
       "       '429', '521', '668', '337', '712', '736', '368', '418', '1554',\n",
       "       '1500', '342', '473', '1560', '397', '1680', '362', '1568', '590',\n",
       "       '853', '1210', '463', '1700', '557', '525', '810', '912', '1584',\n",
       "       '795', '1470', '546', '1716', '2288', '3000', '365', '936', '747',\n",
       "       '1008', '536', '1285', '655', '2565', '740', '1644', '335', '1000',\n",
       "       '5220', '605', '1415', '511', '471', '243', '582', '771', '430',\n",
       "       '299', '447', '492', '758', '496', '542', '625', '3825', '697',\n",
       "       '1860', '691', '2015', '443', '499', '1329', '1532', '5760', '442',\n",
       "       '248', '423', '404', '409', '1750', '1980', '716', '690', '755',\n",
       "       '424'], dtype=object)"
      ]
     },
     "execution_count": 92,
     "metadata": {},
     "output_type": "execute_result"
    }
   ],
   "source": [
    "imdbtitle.runtimeMinutes.unique()"
   ]
  },
  {
   "cell_type": "code",
   "execution_count": 93,
   "metadata": {},
   "outputs": [],
   "source": [
    "imdbtitle['runtimeMinutes'] = np.where((imdbtitle.runtimeMinutes == '\\\\N')\n",
    "                                       ,np.nan,imdbtitle.runtimeMinutes)"
   ]
  },
  {
   "cell_type": "code",
   "execution_count": 94,
   "metadata": {},
   "outputs": [
    {
     "data": {
      "text/plain": [
       "144279"
      ]
     },
     "execution_count": 94,
     "metadata": {},
     "output_type": "execute_result"
    }
   ],
   "source": [
    "imdbtitle.runtimeMinutes.isnull().sum()"
   ]
  },
  {
   "cell_type": "markdown",
   "metadata": {},
   "source": [
    "**Genres**"
   ]
  },
  {
   "cell_type": "code",
   "execution_count": 95,
   "metadata": {},
   "outputs": [
    {
     "data": {
      "text/plain": [
       "array(['\\\\N', 'Documentary,News', 'Family,Game-Show', ...,\n",
       "       'Adventure,Comedy,News', 'Reality-TV,Sport,Thriller',\n",
       "       'Adventure,Music'], dtype=object)"
      ]
     },
     "execution_count": 95,
     "metadata": {},
     "output_type": "execute_result"
    }
   ],
   "source": [
    "imdbtitle.genres.unique()"
   ]
  },
  {
   "cell_type": "code",
   "execution_count": 96,
   "metadata": {},
   "outputs": [],
   "source": [
    "imdbtitle['genres'] = np.where((imdbtitle.genres == '\\\\N'),np.nan,imdbtitle.genres)"
   ]
  },
  {
   "cell_type": "code",
   "execution_count": 97,
   "metadata": {},
   "outputs": [],
   "source": [
    "imdbtitle['A'], imdbtitle['B'] = imdbtitle['genres'].str.split(',', 1).str"
   ]
  },
  {
   "cell_type": "code",
   "execution_count": 98,
   "metadata": {},
   "outputs": [],
   "source": [
    "imdbtitle['genres'] = imdbtitle['A']"
   ]
  },
  {
   "cell_type": "code",
   "execution_count": 99,
   "metadata": {},
   "outputs": [
    {
     "data": {
      "text/plain": [
       "Index(['tconst', 'primaryTitle', 'originalTitle', 'release_year', 'endYear',\n",
       "       'runtimeMinutes', 'genres'],\n",
       "      dtype='object')"
      ]
     },
     "execution_count": 99,
     "metadata": {},
     "output_type": "execute_result"
    }
   ],
   "source": [
    "imdbtitle.drop(['A', 'B'], axis=1, inplace=True)\n",
    "imdbtitle.columns"
   ]
  },
  {
   "cell_type": "markdown",
   "metadata": {},
   "source": [
    "**dTypes**"
   ]
  },
  {
   "cell_type": "code",
   "execution_count": 100,
   "metadata": {},
   "outputs": [
    {
     "data": {
      "text/plain": [
       "tconst            object\n",
       "primaryTitle      object\n",
       "originalTitle     object\n",
       "release_year      object\n",
       "endYear           object\n",
       "runtimeMinutes    object\n",
       "genres            object\n",
       "dtype: object"
      ]
     },
     "execution_count": 100,
     "metadata": {},
     "output_type": "execute_result"
    }
   ],
   "source": [
    "# Now that all the imdb info is in one table we can clean the dtypes\n",
    "imdbtitle.dtypes"
   ]
  },
  {
   "cell_type": "code",
   "execution_count": 102,
   "metadata": {},
   "outputs": [],
   "source": [
    "imdbtitle['release_year'] = pd.to_numeric(imdbtitle['release_year'], errors='coerce')\n",
    "imdbtitle['endYear'] = pd.to_numeric(imdbtitle['endYear'], errors='coerce')\n",
    "\n",
    "imdbtitle['release_year'] = imdbtitle['release_year'].fillna(0)\n",
    "imdbtitle['endYear'] = imdbtitle['endYear'].fillna(0)\n",
    "\n",
    "imdbtitle['release_year'] = imdbtitle['release_year'].astype(int)\n",
    "imdbtitle['endYear'] = imdbtitle['endYear'].astype(int)"
   ]
  },
  {
   "cell_type": "code",
   "execution_count": 103,
   "metadata": {},
   "outputs": [],
   "source": [
    "imdbtitle['runtimeMinutes'] = pd.to_numeric(imdbtitle['runtimeMinutes'], errors='coerce')\n",
    "imdbtitle['runtimeMinutes'] = imdbtitle['runtimeMinutes'].fillna('0')\n",
    "imdbtitle['runtimeMinutes'] = imdbtitle['runtimeMinutes'].astype(int)"
   ]
  },
  {
   "cell_type": "code",
   "execution_count": 104,
   "metadata": {},
   "outputs": [
    {
     "data": {
      "text/plain": [
       "tconst            object\n",
       "primaryTitle      object\n",
       "originalTitle     object\n",
       "release_year       int64\n",
       "endYear            int64\n",
       "runtimeMinutes     int64\n",
       "genres            object\n",
       "dtype: object"
      ]
     },
     "execution_count": 104,
     "metadata": {},
     "output_type": "execute_result"
    }
   ],
   "source": [
    "imdbtitle.dtypes"
   ]
  },
  {
   "cell_type": "markdown",
   "metadata": {},
   "source": [
    "****"
   ]
  },
  {
   "cell_type": "markdown",
   "metadata": {},
   "source": [
    "**The two IMDb dataframes merged**"
   ]
  },
  {
   "cell_type": "code",
   "execution_count": null,
   "metadata": {},
   "outputs": [],
   "source": [
    "# Before we merge the dataframes we should match the data\n",
    "# imdbratings has  1054976 rows\n",
    "# imdbtitle has     249577 rows"
   ]
  },
  {
   "cell_type": "code",
   "execution_count": 105,
   "metadata": {},
   "outputs": [
    {
     "data": {
      "text/plain": [
       "249577"
      ]
     },
     "execution_count": 105,
     "metadata": {},
     "output_type": "execute_result"
    }
   ],
   "source": [
    "title_tconst_list = imdbtitle['tconst'].tolist()\n",
    "len(title_tconst_list)"
   ]
  },
  {
   "cell_type": "code",
   "execution_count": 106,
   "metadata": {
    "scrolled": true
   },
   "outputs": [
    {
     "data": {
      "text/html": [
       "<div>\n",
       "<style scoped>\n",
       "    .dataframe tbody tr th:only-of-type {\n",
       "        vertical-align: middle;\n",
       "    }\n",
       "\n",
       "    .dataframe tbody tr th {\n",
       "        vertical-align: top;\n",
       "    }\n",
       "\n",
       "    .dataframe thead th {\n",
       "        text-align: right;\n",
       "    }\n",
       "</style>\n",
       "<table border=\"1\" class=\"dataframe\">\n",
       "  <thead>\n",
       "    <tr style=\"text-align: right;\">\n",
       "      <th></th>\n",
       "      <th>tconst</th>\n",
       "      <th>averageRating</th>\n",
       "      <th>numVotes</th>\n",
       "    </tr>\n",
       "  </thead>\n",
       "  <tbody>\n",
       "    <tr>\n",
       "      <td>17596</td>\n",
       "      <td>tt0035803</td>\n",
       "      <td>7.8</td>\n",
       "      <td>31</td>\n",
       "    </tr>\n",
       "    <tr>\n",
       "      <td>20276</td>\n",
       "      <td>tt0039120</td>\n",
       "      <td>3.0</td>\n",
       "      <td>8</td>\n",
       "    </tr>\n",
       "    <tr>\n",
       "      <td>20277</td>\n",
       "      <td>tt0039123</td>\n",
       "      <td>8.5</td>\n",
       "      <td>128</td>\n",
       "    </tr>\n",
       "    <tr>\n",
       "      <td>20278</td>\n",
       "      <td>tt0039125</td>\n",
       "      <td>5.9</td>\n",
       "      <td>7</td>\n",
       "    </tr>\n",
       "    <tr>\n",
       "      <td>21005</td>\n",
       "      <td>tt0040021</td>\n",
       "      <td>7.3</td>\n",
       "      <td>55</td>\n",
       "    </tr>\n",
       "    <tr>\n",
       "      <td>...</td>\n",
       "      <td>...</td>\n",
       "      <td>...</td>\n",
       "      <td>...</td>\n",
       "    </tr>\n",
       "    <tr>\n",
       "      <td>1054931</td>\n",
       "      <td>tt9915156</td>\n",
       "      <td>6.0</td>\n",
       "      <td>6</td>\n",
       "    </tr>\n",
       "    <tr>\n",
       "      <td>1054937</td>\n",
       "      <td>tt9915686</td>\n",
       "      <td>7.0</td>\n",
       "      <td>152</td>\n",
       "    </tr>\n",
       "    <tr>\n",
       "      <td>1054942</td>\n",
       "      <td>tt9915822</td>\n",
       "      <td>8.2</td>\n",
       "      <td>10</td>\n",
       "    </tr>\n",
       "    <tr>\n",
       "      <td>1054960</td>\n",
       "      <td>tt9916206</td>\n",
       "      <td>2.3</td>\n",
       "      <td>14</td>\n",
       "    </tr>\n",
       "    <tr>\n",
       "      <td>1054964</td>\n",
       "      <td>tt9916380</td>\n",
       "      <td>9.1</td>\n",
       "      <td>101</td>\n",
       "    </tr>\n",
       "  </tbody>\n",
       "</table>\n",
       "<p>89238 rows × 3 columns</p>\n",
       "</div>"
      ],
      "text/plain": [
       "            tconst  averageRating  numVotes\n",
       "17596    tt0035803            7.8        31\n",
       "20276    tt0039120            3.0         8\n",
       "20277    tt0039123            8.5       128\n",
       "20278    tt0039125            5.9         7\n",
       "21005    tt0040021            7.3        55\n",
       "...            ...            ...       ...\n",
       "1054931  tt9915156            6.0         6\n",
       "1054937  tt9915686            7.0       152\n",
       "1054942  tt9915822            8.2        10\n",
       "1054960  tt9916206            2.3        14\n",
       "1054964  tt9916380            9.1       101\n",
       "\n",
       "[89238 rows x 3 columns]"
      ]
     },
     "execution_count": 106,
     "metadata": {},
     "output_type": "execute_result"
    }
   ],
   "source": [
    "title_tconst_in_ratings = imdbratings[imdbratings['tconst'].isin(title_tconst_list)]\n",
    "title_tconst_in_ratings"
   ]
  },
  {
   "cell_type": "code",
   "execution_count": 107,
   "metadata": {},
   "outputs": [
    {
     "data": {
      "text/plain": [
       "89238"
      ]
     },
     "execution_count": 107,
     "metadata": {},
     "output_type": "execute_result"
    }
   ],
   "source": [
    "match_tconst_list = title_tconst_in_ratings['tconst'].tolist()\n",
    "len(match_tconst_list)"
   ]
  },
  {
   "cell_type": "code",
   "execution_count": 108,
   "metadata": {
    "scrolled": true
   },
   "outputs": [
    {
     "data": {
      "text/html": [
       "<div>\n",
       "<style scoped>\n",
       "    .dataframe tbody tr th:only-of-type {\n",
       "        vertical-align: middle;\n",
       "    }\n",
       "\n",
       "    .dataframe tbody tr th {\n",
       "        vertical-align: top;\n",
       "    }\n",
       "\n",
       "    .dataframe thead th {\n",
       "        text-align: right;\n",
       "    }\n",
       "</style>\n",
       "<table border=\"1\" class=\"dataframe\">\n",
       "  <thead>\n",
       "    <tr style=\"text-align: right;\">\n",
       "      <th></th>\n",
       "      <th>tconst</th>\n",
       "      <th>primaryTitle</th>\n",
       "      <th>originalTitle</th>\n",
       "      <th>release_year</th>\n",
       "      <th>endYear</th>\n",
       "      <th>runtimeMinutes</th>\n",
       "      <th>genres</th>\n",
       "    </tr>\n",
       "  </thead>\n",
       "  <tbody>\n",
       "    <tr>\n",
       "      <td>1</td>\n",
       "      <td>tt0035803</td>\n",
       "      <td>The German Weekly Review</td>\n",
       "      <td>Die Deutsche Wochenschau</td>\n",
       "      <td>1940</td>\n",
       "      <td>1945</td>\n",
       "      <td>12</td>\n",
       "      <td>Documentary</td>\n",
       "    </tr>\n",
       "    <tr>\n",
       "      <td>3</td>\n",
       "      <td>tt0039120</td>\n",
       "      <td>Americana</td>\n",
       "      <td>Americana</td>\n",
       "      <td>1947</td>\n",
       "      <td>1949</td>\n",
       "      <td>30</td>\n",
       "      <td>Family</td>\n",
       "    </tr>\n",
       "    <tr>\n",
       "      <td>6</td>\n",
       "      <td>tt0039123</td>\n",
       "      <td>Kraft Theatre</td>\n",
       "      <td>Kraft Television Theatre</td>\n",
       "      <td>1947</td>\n",
       "      <td>1958</td>\n",
       "      <td>60</td>\n",
       "      <td>Drama</td>\n",
       "    </tr>\n",
       "    <tr>\n",
       "      <td>8</td>\n",
       "      <td>tt0039125</td>\n",
       "      <td>Public Prosecutor</td>\n",
       "      <td>Public Prosecutor</td>\n",
       "      <td>1947</td>\n",
       "      <td>1951</td>\n",
       "      <td>20</td>\n",
       "      <td>Crime</td>\n",
       "    </tr>\n",
       "    <tr>\n",
       "      <td>9</td>\n",
       "      <td>tt0040021</td>\n",
       "      <td>Actor's Studio</td>\n",
       "      <td>Actor's Studio</td>\n",
       "      <td>1948</td>\n",
       "      <td>1950</td>\n",
       "      <td>30</td>\n",
       "      <td>Drama</td>\n",
       "    </tr>\n",
       "    <tr>\n",
       "      <td>...</td>\n",
       "      <td>...</td>\n",
       "      <td>...</td>\n",
       "      <td>...</td>\n",
       "      <td>...</td>\n",
       "      <td>...</td>\n",
       "      <td>...</td>\n",
       "      <td>...</td>\n",
       "    </tr>\n",
       "    <tr>\n",
       "      <td>249556</td>\n",
       "      <td>tt9915156</td>\n",
       "      <td>Tree in the River</td>\n",
       "      <td>Tree in the River</td>\n",
       "      <td>2018</td>\n",
       "      <td>0</td>\n",
       "      <td>0</td>\n",
       "      <td>Drama</td>\n",
       "    </tr>\n",
       "    <tr>\n",
       "      <td>249561</td>\n",
       "      <td>tt9915686</td>\n",
       "      <td>The Khatra Show</td>\n",
       "      <td>Khatra Khatra Khatra</td>\n",
       "      <td>2019</td>\n",
       "      <td>0</td>\n",
       "      <td>0</td>\n",
       "      <td>Comedy</td>\n",
       "    </tr>\n",
       "    <tr>\n",
       "      <td>249563</td>\n",
       "      <td>tt9915822</td>\n",
       "      <td>Ichhapyaari Naagin</td>\n",
       "      <td>Ichhapyaari Naagin</td>\n",
       "      <td>2016</td>\n",
       "      <td>2017</td>\n",
       "      <td>20</td>\n",
       "      <td>Fantasy</td>\n",
       "    </tr>\n",
       "    <tr>\n",
       "      <td>249571</td>\n",
       "      <td>tt9916206</td>\n",
       "      <td>Nojor</td>\n",
       "      <td>Nojor</td>\n",
       "      <td>2019</td>\n",
       "      <td>0</td>\n",
       "      <td>20</td>\n",
       "      <td>Fantasy</td>\n",
       "    </tr>\n",
       "    <tr>\n",
       "      <td>249575</td>\n",
       "      <td>tt9916380</td>\n",
       "      <td>Meie aasta Aafrikas</td>\n",
       "      <td>Meie aasta Aafrikas</td>\n",
       "      <td>2019</td>\n",
       "      <td>0</td>\n",
       "      <td>43</td>\n",
       "      <td>Adventure</td>\n",
       "    </tr>\n",
       "  </tbody>\n",
       "</table>\n",
       "<p>89238 rows × 7 columns</p>\n",
       "</div>"
      ],
      "text/plain": [
       "           tconst              primaryTitle             originalTitle  \\\n",
       "1       tt0035803  The German Weekly Review  Die Deutsche Wochenschau   \n",
       "3       tt0039120                 Americana                 Americana   \n",
       "6       tt0039123             Kraft Theatre  Kraft Television Theatre   \n",
       "8       tt0039125         Public Prosecutor         Public Prosecutor   \n",
       "9       tt0040021            Actor's Studio            Actor's Studio   \n",
       "...           ...                       ...                       ...   \n",
       "249556  tt9915156         Tree in the River         Tree in the River   \n",
       "249561  tt9915686           The Khatra Show      Khatra Khatra Khatra   \n",
       "249563  tt9915822        Ichhapyaari Naagin        Ichhapyaari Naagin   \n",
       "249571  tt9916206                     Nojor                     Nojor   \n",
       "249575  tt9916380       Meie aasta Aafrikas       Meie aasta Aafrikas   \n",
       "\n",
       "        release_year  endYear  runtimeMinutes       genres  \n",
       "1               1940     1945              12  Documentary  \n",
       "3               1947     1949              30       Family  \n",
       "6               1947     1958              60        Drama  \n",
       "8               1947     1951              20        Crime  \n",
       "9               1948     1950              30        Drama  \n",
       "...              ...      ...             ...          ...  \n",
       "249556          2018        0               0        Drama  \n",
       "249561          2019        0               0       Comedy  \n",
       "249563          2016     2017              20      Fantasy  \n",
       "249571          2019        0              20      Fantasy  \n",
       "249575          2019        0              43    Adventure  \n",
       "\n",
       "[89238 rows x 7 columns]"
      ]
     },
     "execution_count": 108,
     "metadata": {},
     "output_type": "execute_result"
    }
   ],
   "source": [
    "matched_tconst_in_title = imdbtitle[imdbtitle['tconst'].isin(match_tconst_list)]\n",
    "matched_tconst_in_title"
   ]
  },
  {
   "cell_type": "code",
   "execution_count": 109,
   "metadata": {
    "scrolled": true
   },
   "outputs": [
    {
     "data": {
      "text/html": [
       "<div>\n",
       "<style scoped>\n",
       "    .dataframe tbody tr th:only-of-type {\n",
       "        vertical-align: middle;\n",
       "    }\n",
       "\n",
       "    .dataframe tbody tr th {\n",
       "        vertical-align: top;\n",
       "    }\n",
       "\n",
       "    .dataframe thead th {\n",
       "        text-align: right;\n",
       "    }\n",
       "</style>\n",
       "<table border=\"1\" class=\"dataframe\">\n",
       "  <thead>\n",
       "    <tr style=\"text-align: right;\">\n",
       "      <th></th>\n",
       "      <th>tconst</th>\n",
       "      <th>primaryTitle</th>\n",
       "      <th>originalTitle</th>\n",
       "      <th>release_year</th>\n",
       "      <th>endYear</th>\n",
       "      <th>runtimeMinutes</th>\n",
       "      <th>genres</th>\n",
       "      <th>averageRating</th>\n",
       "      <th>numVotes</th>\n",
       "    </tr>\n",
       "  </thead>\n",
       "  <tbody>\n",
       "    <tr>\n",
       "      <td>1</td>\n",
       "      <td>tt0035803</td>\n",
       "      <td>The German Weekly Review</td>\n",
       "      <td>Die Deutsche Wochenschau</td>\n",
       "      <td>1940</td>\n",
       "      <td>1945</td>\n",
       "      <td>12</td>\n",
       "      <td>Documentary</td>\n",
       "      <td>7.8</td>\n",
       "      <td>31</td>\n",
       "    </tr>\n",
       "    <tr>\n",
       "      <td>3</td>\n",
       "      <td>tt0039120</td>\n",
       "      <td>Americana</td>\n",
       "      <td>Americana</td>\n",
       "      <td>1947</td>\n",
       "      <td>1949</td>\n",
       "      <td>30</td>\n",
       "      <td>Family</td>\n",
       "      <td>3.0</td>\n",
       "      <td>8</td>\n",
       "    </tr>\n",
       "    <tr>\n",
       "      <td>6</td>\n",
       "      <td>tt0039123</td>\n",
       "      <td>Kraft Theatre</td>\n",
       "      <td>Kraft Television Theatre</td>\n",
       "      <td>1947</td>\n",
       "      <td>1958</td>\n",
       "      <td>60</td>\n",
       "      <td>Drama</td>\n",
       "      <td>8.5</td>\n",
       "      <td>128</td>\n",
       "    </tr>\n",
       "    <tr>\n",
       "      <td>8</td>\n",
       "      <td>tt0039125</td>\n",
       "      <td>Public Prosecutor</td>\n",
       "      <td>Public Prosecutor</td>\n",
       "      <td>1947</td>\n",
       "      <td>1951</td>\n",
       "      <td>20</td>\n",
       "      <td>Crime</td>\n",
       "      <td>5.9</td>\n",
       "      <td>7</td>\n",
       "    </tr>\n",
       "    <tr>\n",
       "      <td>9</td>\n",
       "      <td>tt0040021</td>\n",
       "      <td>Actor's Studio</td>\n",
       "      <td>Actor's Studio</td>\n",
       "      <td>1948</td>\n",
       "      <td>1950</td>\n",
       "      <td>30</td>\n",
       "      <td>Drama</td>\n",
       "      <td>7.3</td>\n",
       "      <td>55</td>\n",
       "    </tr>\n",
       "    <tr>\n",
       "      <td>...</td>\n",
       "      <td>...</td>\n",
       "      <td>...</td>\n",
       "      <td>...</td>\n",
       "      <td>...</td>\n",
       "      <td>...</td>\n",
       "      <td>...</td>\n",
       "      <td>...</td>\n",
       "      <td>...</td>\n",
       "      <td>...</td>\n",
       "    </tr>\n",
       "    <tr>\n",
       "      <td>249556</td>\n",
       "      <td>tt9915156</td>\n",
       "      <td>Tree in the River</td>\n",
       "      <td>Tree in the River</td>\n",
       "      <td>2018</td>\n",
       "      <td>0</td>\n",
       "      <td>0</td>\n",
       "      <td>Drama</td>\n",
       "      <td>6.0</td>\n",
       "      <td>6</td>\n",
       "    </tr>\n",
       "    <tr>\n",
       "      <td>249561</td>\n",
       "      <td>tt9915686</td>\n",
       "      <td>The Khatra Show</td>\n",
       "      <td>Khatra Khatra Khatra</td>\n",
       "      <td>2019</td>\n",
       "      <td>0</td>\n",
       "      <td>0</td>\n",
       "      <td>Comedy</td>\n",
       "      <td>7.0</td>\n",
       "      <td>152</td>\n",
       "    </tr>\n",
       "    <tr>\n",
       "      <td>249563</td>\n",
       "      <td>tt9915822</td>\n",
       "      <td>Ichhapyaari Naagin</td>\n",
       "      <td>Ichhapyaari Naagin</td>\n",
       "      <td>2016</td>\n",
       "      <td>2017</td>\n",
       "      <td>20</td>\n",
       "      <td>Fantasy</td>\n",
       "      <td>8.2</td>\n",
       "      <td>10</td>\n",
       "    </tr>\n",
       "    <tr>\n",
       "      <td>249571</td>\n",
       "      <td>tt9916206</td>\n",
       "      <td>Nojor</td>\n",
       "      <td>Nojor</td>\n",
       "      <td>2019</td>\n",
       "      <td>0</td>\n",
       "      <td>20</td>\n",
       "      <td>Fantasy</td>\n",
       "      <td>2.3</td>\n",
       "      <td>14</td>\n",
       "    </tr>\n",
       "    <tr>\n",
       "      <td>249575</td>\n",
       "      <td>tt9916380</td>\n",
       "      <td>Meie aasta Aafrikas</td>\n",
       "      <td>Meie aasta Aafrikas</td>\n",
       "      <td>2019</td>\n",
       "      <td>0</td>\n",
       "      <td>43</td>\n",
       "      <td>Adventure</td>\n",
       "      <td>9.1</td>\n",
       "      <td>101</td>\n",
       "    </tr>\n",
       "  </tbody>\n",
       "</table>\n",
       "<p>89238 rows × 9 columns</p>\n",
       "</div>"
      ],
      "text/plain": [
       "           tconst              primaryTitle             originalTitle  \\\n",
       "1       tt0035803  The German Weekly Review  Die Deutsche Wochenschau   \n",
       "3       tt0039120                 Americana                 Americana   \n",
       "6       tt0039123             Kraft Theatre  Kraft Television Theatre   \n",
       "8       tt0039125         Public Prosecutor         Public Prosecutor   \n",
       "9       tt0040021            Actor's Studio            Actor's Studio   \n",
       "...           ...                       ...                       ...   \n",
       "249556  tt9915156         Tree in the River         Tree in the River   \n",
       "249561  tt9915686           The Khatra Show      Khatra Khatra Khatra   \n",
       "249563  tt9915822        Ichhapyaari Naagin        Ichhapyaari Naagin   \n",
       "249571  tt9916206                     Nojor                     Nojor   \n",
       "249575  tt9916380       Meie aasta Aafrikas       Meie aasta Aafrikas   \n",
       "\n",
       "        release_year  endYear  runtimeMinutes       genres  averageRating  \\\n",
       "1               1940     1945              12  Documentary            7.8   \n",
       "3               1947     1949              30       Family            3.0   \n",
       "6               1947     1958              60        Drama            8.5   \n",
       "8               1947     1951              20        Crime            5.9   \n",
       "9               1948     1950              30        Drama            7.3   \n",
       "...              ...      ...             ...          ...            ...   \n",
       "249556          2018        0               0        Drama            6.0   \n",
       "249561          2019        0               0       Comedy            7.0   \n",
       "249563          2016     2017              20      Fantasy            8.2   \n",
       "249571          2019        0              20      Fantasy            2.3   \n",
       "249575          2019        0              43    Adventure            9.1   \n",
       "\n",
       "        numVotes  \n",
       "1             31  \n",
       "3              8  \n",
       "6            128  \n",
       "8              7  \n",
       "9             55  \n",
       "...          ...  \n",
       "249556         6  \n",
       "249561       152  \n",
       "249563        10  \n",
       "249571        14  \n",
       "249575       101  \n",
       "\n",
       "[89238 rows x 9 columns]"
      ]
     },
     "execution_count": 109,
     "metadata": {},
     "output_type": "execute_result"
    }
   ],
   "source": [
    "# Now we can join title_tconst_in_ratings and matched_tconst_in_title \n",
    "# On their unique indentifier, tconst\n",
    "imdb = matched_tconst_in_title.join(title_tconst_in_ratings.set_index('tconst'), on='tconst')\n",
    "imdb"
   ]
  },
  {
   "cell_type": "markdown",
   "metadata": {},
   "source": [
    "**Our final main dataframe (with additional information from IMDb)**"
   ]
  },
  {
   "cell_type": "code",
   "execution_count": 110,
   "metadata": {
    "scrolled": true
   },
   "outputs": [
    {
     "data": {
      "text/html": [
       "<div>\n",
       "<style scoped>\n",
       "    .dataframe tbody tr th:only-of-type {\n",
       "        vertical-align: middle;\n",
       "    }\n",
       "\n",
       "    .dataframe tbody tr th {\n",
       "        vertical-align: top;\n",
       "    }\n",
       "\n",
       "    .dataframe thead th {\n",
       "        text-align: right;\n",
       "    }\n",
       "</style>\n",
       "<table border=\"1\" class=\"dataframe\">\n",
       "  <thead>\n",
       "    <tr style=\"text-align: right;\">\n",
       "      <th></th>\n",
       "      <th>tconst</th>\n",
       "      <th>title</th>\n",
       "      <th>originalTitle</th>\n",
       "      <th>release_year</th>\n",
       "      <th>endYear</th>\n",
       "      <th>runtimeMinutes</th>\n",
       "      <th>genres</th>\n",
       "      <th>averageRating</th>\n",
       "      <th>numVotes</th>\n",
       "    </tr>\n",
       "  </thead>\n",
       "  <tbody>\n",
       "    <tr>\n",
       "      <td>0</td>\n",
       "      <td>tt0035803</td>\n",
       "      <td>The German Weekly Review</td>\n",
       "      <td>Die Deutsche Wochenschau</td>\n",
       "      <td>1940</td>\n",
       "      <td>1945</td>\n",
       "      <td>12</td>\n",
       "      <td>Documentary</td>\n",
       "      <td>7.8</td>\n",
       "      <td>31</td>\n",
       "    </tr>\n",
       "    <tr>\n",
       "      <td>1</td>\n",
       "      <td>tt0039120</td>\n",
       "      <td>Americana</td>\n",
       "      <td>Americana</td>\n",
       "      <td>1947</td>\n",
       "      <td>1949</td>\n",
       "      <td>30</td>\n",
       "      <td>Family</td>\n",
       "      <td>3.0</td>\n",
       "      <td>8</td>\n",
       "    </tr>\n",
       "    <tr>\n",
       "      <td>2</td>\n",
       "      <td>tt0039123</td>\n",
       "      <td>Kraft Theatre</td>\n",
       "      <td>Kraft Television Theatre</td>\n",
       "      <td>1947</td>\n",
       "      <td>1958</td>\n",
       "      <td>60</td>\n",
       "      <td>Drama</td>\n",
       "      <td>8.5</td>\n",
       "      <td>128</td>\n",
       "    </tr>\n",
       "    <tr>\n",
       "      <td>3</td>\n",
       "      <td>tt0039125</td>\n",
       "      <td>Public Prosecutor</td>\n",
       "      <td>Public Prosecutor</td>\n",
       "      <td>1947</td>\n",
       "      <td>1951</td>\n",
       "      <td>20</td>\n",
       "      <td>Crime</td>\n",
       "      <td>5.9</td>\n",
       "      <td>7</td>\n",
       "    </tr>\n",
       "    <tr>\n",
       "      <td>4</td>\n",
       "      <td>tt0040021</td>\n",
       "      <td>Actor's Studio</td>\n",
       "      <td>Actor's Studio</td>\n",
       "      <td>1948</td>\n",
       "      <td>1950</td>\n",
       "      <td>30</td>\n",
       "      <td>Drama</td>\n",
       "      <td>7.3</td>\n",
       "      <td>55</td>\n",
       "    </tr>\n",
       "    <tr>\n",
       "      <td>...</td>\n",
       "      <td>...</td>\n",
       "      <td>...</td>\n",
       "      <td>...</td>\n",
       "      <td>...</td>\n",
       "      <td>...</td>\n",
       "      <td>...</td>\n",
       "      <td>...</td>\n",
       "      <td>...</td>\n",
       "      <td>...</td>\n",
       "    </tr>\n",
       "    <tr>\n",
       "      <td>89233</td>\n",
       "      <td>tt9915156</td>\n",
       "      <td>Tree in the River</td>\n",
       "      <td>Tree in the River</td>\n",
       "      <td>2018</td>\n",
       "      <td>0</td>\n",
       "      <td>0</td>\n",
       "      <td>Drama</td>\n",
       "      <td>6.0</td>\n",
       "      <td>6</td>\n",
       "    </tr>\n",
       "    <tr>\n",
       "      <td>89234</td>\n",
       "      <td>tt9915686</td>\n",
       "      <td>The Khatra Show</td>\n",
       "      <td>Khatra Khatra Khatra</td>\n",
       "      <td>2019</td>\n",
       "      <td>0</td>\n",
       "      <td>0</td>\n",
       "      <td>Comedy</td>\n",
       "      <td>7.0</td>\n",
       "      <td>152</td>\n",
       "    </tr>\n",
       "    <tr>\n",
       "      <td>89235</td>\n",
       "      <td>tt9915822</td>\n",
       "      <td>Ichhapyaari Naagin</td>\n",
       "      <td>Ichhapyaari Naagin</td>\n",
       "      <td>2016</td>\n",
       "      <td>2017</td>\n",
       "      <td>20</td>\n",
       "      <td>Fantasy</td>\n",
       "      <td>8.2</td>\n",
       "      <td>10</td>\n",
       "    </tr>\n",
       "    <tr>\n",
       "      <td>89236</td>\n",
       "      <td>tt9916206</td>\n",
       "      <td>Nojor</td>\n",
       "      <td>Nojor</td>\n",
       "      <td>2019</td>\n",
       "      <td>0</td>\n",
       "      <td>20</td>\n",
       "      <td>Fantasy</td>\n",
       "      <td>2.3</td>\n",
       "      <td>14</td>\n",
       "    </tr>\n",
       "    <tr>\n",
       "      <td>89237</td>\n",
       "      <td>tt9916380</td>\n",
       "      <td>Meie aasta Aafrikas</td>\n",
       "      <td>Meie aasta Aafrikas</td>\n",
       "      <td>2019</td>\n",
       "      <td>0</td>\n",
       "      <td>43</td>\n",
       "      <td>Adventure</td>\n",
       "      <td>9.1</td>\n",
       "      <td>101</td>\n",
       "    </tr>\n",
       "  </tbody>\n",
       "</table>\n",
       "<p>89238 rows × 9 columns</p>\n",
       "</div>"
      ],
      "text/plain": [
       "          tconst                     title             originalTitle  \\\n",
       "0      tt0035803  The German Weekly Review  Die Deutsche Wochenschau   \n",
       "1      tt0039120                 Americana                 Americana   \n",
       "2      tt0039123             Kraft Theatre  Kraft Television Theatre   \n",
       "3      tt0039125         Public Prosecutor         Public Prosecutor   \n",
       "4      tt0040021            Actor's Studio            Actor's Studio   \n",
       "...          ...                       ...                       ...   \n",
       "89233  tt9915156         Tree in the River         Tree in the River   \n",
       "89234  tt9915686           The Khatra Show      Khatra Khatra Khatra   \n",
       "89235  tt9915822        Ichhapyaari Naagin        Ichhapyaari Naagin   \n",
       "89236  tt9916206                     Nojor                     Nojor   \n",
       "89237  tt9916380       Meie aasta Aafrikas       Meie aasta Aafrikas   \n",
       "\n",
       "       release_year  endYear  runtimeMinutes       genres  averageRating  \\\n",
       "0              1940     1945              12  Documentary            7.8   \n",
       "1              1947     1949              30       Family            3.0   \n",
       "2              1947     1958              60        Drama            8.5   \n",
       "3              1947     1951              20        Crime            5.9   \n",
       "4              1948     1950              30        Drama            7.3   \n",
       "...             ...      ...             ...          ...            ...   \n",
       "89233          2018        0               0        Drama            6.0   \n",
       "89234          2019        0               0       Comedy            7.0   \n",
       "89235          2016     2017              20      Fantasy            8.2   \n",
       "89236          2019        0              20      Fantasy            2.3   \n",
       "89237          2019        0              43    Adventure            9.1   \n",
       "\n",
       "       numVotes  \n",
       "0            31  \n",
       "1             8  \n",
       "2           128  \n",
       "3             7  \n",
       "4            55  \n",
       "...         ...  \n",
       "89233         6  \n",
       "89234       152  \n",
       "89235        10  \n",
       "89236        14  \n",
       "89237       101  \n",
       "\n",
       "[89238 rows x 9 columns]"
      ]
     },
     "execution_count": 110,
     "metadata": {},
     "output_type": "execute_result"
    }
   ],
   "source": [
    "# Rename the column we're merging on\n",
    "imdb.rename(columns={'primaryTitle':'title'}, inplace=True)\n",
    "imdb.reset_index(drop=True, inplace=True)\n",
    "imdb"
   ]
  },
  {
   "cell_type": "code",
   "execution_count": 111,
   "metadata": {},
   "outputs": [],
   "source": [
    "# Lower caps for all titles\n",
    "imdb['title'] = imdb['title'].str.lower()\n",
    "df['title'] = df['title'].str.lower()"
   ]
  },
  {
   "cell_type": "code",
   "execution_count": 112,
   "metadata": {},
   "outputs": [
    {
     "data": {
      "text/plain": [
       "89238"
      ]
     },
     "execution_count": 112,
     "metadata": {},
     "output_type": "execute_result"
    }
   ],
   "source": [
    "# List of imdb titles, lowercased\n",
    "imbd_prititles = imdb['title'].tolist()\n",
    "imbd_prititles = [x.lower() for x in imbd_prititles]\n",
    "len(imbd_prititles)"
   ]
  },
  {
   "cell_type": "code",
   "execution_count": 113,
   "metadata": {},
   "outputs": [
    {
     "data": {
      "text/plain": [
       "1968"
      ]
     },
     "execution_count": 113,
     "metadata": {},
     "output_type": "execute_result"
    }
   ],
   "source": [
    "# List of titles in df, lowercased\n",
    "netflix_titles = df['title'].tolist()\n",
    "netflix_titles = [x.lower() for x in netflix_titles]\n",
    "len(netflix_titles)"
   ]
  },
  {
   "cell_type": "code",
   "execution_count": 114,
   "metadata": {
    "scrolled": true
   },
   "outputs": [
    {
     "data": {
      "text/plain": [
       "(1818, 9)"
      ]
     },
     "execution_count": 114,
     "metadata": {},
     "output_type": "execute_result"
    }
   ],
   "source": [
    "# Compare df titles with imdb dataframe\n",
    "match = imdb[imdb['title'].isin(netflix_titles)]\n",
    "match.shape"
   ]
  },
  {
   "cell_type": "code",
   "execution_count": 115,
   "metadata": {},
   "outputs": [
    {
     "data": {
      "text/plain": [
       "(1507, 9)"
      ]
     },
     "execution_count": 115,
     "metadata": {},
     "output_type": "execute_result"
    }
   ],
   "source": [
    "# Compare imdb titles with df dataframe\n",
    "match2 = df[df['title'].isin(imbd_prititles)]\n",
    "match2.shape"
   ]
  },
  {
   "cell_type": "code",
   "execution_count": 116,
   "metadata": {
    "scrolled": true
   },
   "outputs": [
    {
     "data": {
      "text/html": [
       "<div>\n",
       "<style scoped>\n",
       "    .dataframe tbody tr th:only-of-type {\n",
       "        vertical-align: middle;\n",
       "    }\n",
       "\n",
       "    .dataframe tbody tr th {\n",
       "        vertical-align: top;\n",
       "    }\n",
       "\n",
       "    .dataframe thead th {\n",
       "        text-align: right;\n",
       "    }\n",
       "</style>\n",
       "<table border=\"1\" class=\"dataframe\">\n",
       "  <thead>\n",
       "    <tr style=\"text-align: right;\">\n",
       "      <th></th>\n",
       "      <th>show_id</th>\n",
       "      <th>title</th>\n",
       "      <th>cast</th>\n",
       "      <th>country</th>\n",
       "      <th>year_added</th>\n",
       "      <th>latest_release_year</th>\n",
       "      <th>audience_rating</th>\n",
       "      <th>seasons</th>\n",
       "      <th>main_category</th>\n",
       "      <th>tconst</th>\n",
       "      <th>originalTitle</th>\n",
       "      <th>release_year</th>\n",
       "      <th>endYear</th>\n",
       "      <th>runtimeMinutes</th>\n",
       "      <th>genres</th>\n",
       "      <th>averageRating</th>\n",
       "      <th>numVotes</th>\n",
       "    </tr>\n",
       "  </thead>\n",
       "  <tbody>\n",
       "    <tr>\n",
       "      <td>0</td>\n",
       "      <td>70234439</td>\n",
       "      <td>transformers prime</td>\n",
       "      <td>Peter Cullen, Sumalee Montano, Frank Welker, J...</td>\n",
       "      <td>United States</td>\n",
       "      <td>2018</td>\n",
       "      <td>2013</td>\n",
       "      <td>3</td>\n",
       "      <td>1</td>\n",
       "      <td>Kids' TV</td>\n",
       "      <td>tt1659175</td>\n",
       "      <td>Transformers Prime</td>\n",
       "      <td>2010.0</td>\n",
       "      <td>2013.0</td>\n",
       "      <td>30.0</td>\n",
       "      <td>Action</td>\n",
       "      <td>7.9</td>\n",
       "      <td>5130.0</td>\n",
       "    </tr>\n",
       "    <tr>\n",
       "      <td>1</td>\n",
       "      <td>80058654</td>\n",
       "      <td>transformers: robots in disguise</td>\n",
       "      <td>Will Friedle, Darren Criss, Constance Zimmer, ...</td>\n",
       "      <td>United States</td>\n",
       "      <td>2018</td>\n",
       "      <td>2016</td>\n",
       "      <td>3</td>\n",
       "      <td>1</td>\n",
       "      <td>Kids' TV</td>\n",
       "      <td>tt0231050</td>\n",
       "      <td>Toransufômâ: Kârobotto</td>\n",
       "      <td>2000.0</td>\n",
       "      <td>0.0</td>\n",
       "      <td>22.0</td>\n",
       "      <td>Action</td>\n",
       "      <td>6.7</td>\n",
       "      <td>472.0</td>\n",
       "    </tr>\n",
       "    <tr>\n",
       "      <td>2</td>\n",
       "      <td>80058654</td>\n",
       "      <td>transformers: robots in disguise</td>\n",
       "      <td>Will Friedle, Darren Criss, Constance Zimmer, ...</td>\n",
       "      <td>United States</td>\n",
       "      <td>2018</td>\n",
       "      <td>2016</td>\n",
       "      <td>3</td>\n",
       "      <td>1</td>\n",
       "      <td>Kids' TV</td>\n",
       "      <td>tt3604232</td>\n",
       "      <td>Transformers: Robots in Disguise</td>\n",
       "      <td>2014.0</td>\n",
       "      <td>2020.0</td>\n",
       "      <td>22.0</td>\n",
       "      <td>Action</td>\n",
       "      <td>6.0</td>\n",
       "      <td>799.0</td>\n",
       "    </tr>\n",
       "    <tr>\n",
       "      <td>3</td>\n",
       "      <td>80163890</td>\n",
       "      <td>apaches</td>\n",
       "      <td>Alberto Ammann, Eloy Azorín, Verónica Echegui,...</td>\n",
       "      <td>Spain</td>\n",
       "      <td>2017</td>\n",
       "      <td>2016</td>\n",
       "      <td>4</td>\n",
       "      <td>1</td>\n",
       "      <td>Crime TV Shows</td>\n",
       "      <td>tt4418844</td>\n",
       "      <td>Apaches</td>\n",
       "      <td>2015.0</td>\n",
       "      <td>2017.0</td>\n",
       "      <td>0.0</td>\n",
       "      <td>Drama</td>\n",
       "      <td>6.9</td>\n",
       "      <td>207.0</td>\n",
       "    </tr>\n",
       "    <tr>\n",
       "      <td>4</td>\n",
       "      <td>80117902</td>\n",
       "      <td>fire chasers</td>\n",
       "      <td>Unspecified</td>\n",
       "      <td>United States</td>\n",
       "      <td>2017</td>\n",
       "      <td>2017</td>\n",
       "      <td>4</td>\n",
       "      <td>1</td>\n",
       "      <td>Docuseries</td>\n",
       "      <td>tt7293754</td>\n",
       "      <td>Fire Chasers</td>\n",
       "      <td>2017.0</td>\n",
       "      <td>2017.0</td>\n",
       "      <td>0.0</td>\n",
       "      <td>Documentary</td>\n",
       "      <td>6.6</td>\n",
       "      <td>303.0</td>\n",
       "    </tr>\n",
       "    <tr>\n",
       "      <td>...</td>\n",
       "      <td>...</td>\n",
       "      <td>...</td>\n",
       "      <td>...</td>\n",
       "      <td>...</td>\n",
       "      <td>...</td>\n",
       "      <td>...</td>\n",
       "      <td>...</td>\n",
       "      <td>...</td>\n",
       "      <td>...</td>\n",
       "      <td>...</td>\n",
       "      <td>...</td>\n",
       "      <td>...</td>\n",
       "      <td>...</td>\n",
       "      <td>...</td>\n",
       "      <td>...</td>\n",
       "      <td>...</td>\n",
       "      <td>...</td>\n",
       "    </tr>\n",
       "    <tr>\n",
       "      <td>2274</td>\n",
       "      <td>70286564</td>\n",
       "      <td>maron</td>\n",
       "      <td>Marc Maron, Judd Hirsch, Josh Brener, Nora Zeh...</td>\n",
       "      <td>United States</td>\n",
       "      <td>2017</td>\n",
       "      <td>2016</td>\n",
       "      <td>4</td>\n",
       "      <td>4</td>\n",
       "      <td>TV Comedies</td>\n",
       "      <td>tt2520512</td>\n",
       "      <td>Maron</td>\n",
       "      <td>2013.0</td>\n",
       "      <td>2016.0</td>\n",
       "      <td>22.0</td>\n",
       "      <td>Comedy</td>\n",
       "      <td>7.7</td>\n",
       "      <td>4491.0</td>\n",
       "    </tr>\n",
       "    <tr>\n",
       "      <td>2275</td>\n",
       "      <td>70281022</td>\n",
       "      <td>a young doctor's notebook and other stories</td>\n",
       "      <td>Daniel Radcliffe, Jon Hamm, Adam Godley, Chris...</td>\n",
       "      <td>United Kingdom</td>\n",
       "      <td>2014</td>\n",
       "      <td>2013</td>\n",
       "      <td>4</td>\n",
       "      <td>2</td>\n",
       "      <td>British TV Shows</td>\n",
       "      <td>NaN</td>\n",
       "      <td>NaN</td>\n",
       "      <td>NaN</td>\n",
       "      <td>NaN</td>\n",
       "      <td>NaN</td>\n",
       "      <td>NaN</td>\n",
       "      <td>NaN</td>\n",
       "      <td>NaN</td>\n",
       "    </tr>\n",
       "    <tr>\n",
       "      <td>2276</td>\n",
       "      <td>70153404</td>\n",
       "      <td>friends</td>\n",
       "      <td>Jennifer Aniston, Courteney Cox, Lisa Kudrow, ...</td>\n",
       "      <td>United States</td>\n",
       "      <td>2015</td>\n",
       "      <td>2003</td>\n",
       "      <td>3</td>\n",
       "      <td>10</td>\n",
       "      <td>Classic &amp; Cult TV</td>\n",
       "      <td>tt0078615</td>\n",
       "      <td>Friends</td>\n",
       "      <td>1979.0</td>\n",
       "      <td>1979.0</td>\n",
       "      <td>60.0</td>\n",
       "      <td>Comedy</td>\n",
       "      <td>7.2</td>\n",
       "      <td>44.0</td>\n",
       "    </tr>\n",
       "    <tr>\n",
       "      <td>2277</td>\n",
       "      <td>70153404</td>\n",
       "      <td>friends</td>\n",
       "      <td>Jennifer Aniston, Courteney Cox, Lisa Kudrow, ...</td>\n",
       "      <td>United States</td>\n",
       "      <td>2015</td>\n",
       "      <td>2003</td>\n",
       "      <td>3</td>\n",
       "      <td>10</td>\n",
       "      <td>Classic &amp; Cult TV</td>\n",
       "      <td>tt0108778</td>\n",
       "      <td>Friends</td>\n",
       "      <td>1994.0</td>\n",
       "      <td>2004.0</td>\n",
       "      <td>22.0</td>\n",
       "      <td>Comedy</td>\n",
       "      <td>8.9</td>\n",
       "      <td>774183.0</td>\n",
       "    </tr>\n",
       "    <tr>\n",
       "      <td>2278</td>\n",
       "      <td>70153404</td>\n",
       "      <td>friends</td>\n",
       "      <td>Jennifer Aniston, Courteney Cox, Lisa Kudrow, ...</td>\n",
       "      <td>United States</td>\n",
       "      <td>2015</td>\n",
       "      <td>2003</td>\n",
       "      <td>3</td>\n",
       "      <td>10</td>\n",
       "      <td>Classic &amp; Cult TV</td>\n",
       "      <td>tt0315608</td>\n",
       "      <td>Friends</td>\n",
       "      <td>2002.0</td>\n",
       "      <td>0.0</td>\n",
       "      <td>0.0</td>\n",
       "      <td>Romance</td>\n",
       "      <td>7.8</td>\n",
       "      <td>174.0</td>\n",
       "    </tr>\n",
       "  </tbody>\n",
       "</table>\n",
       "<p>2279 rows × 17 columns</p>\n",
       "</div>"
      ],
      "text/plain": [
       "       show_id                                        title  \\\n",
       "0     70234439                           transformers prime   \n",
       "1     80058654             transformers: robots in disguise   \n",
       "2     80058654             transformers: robots in disguise   \n",
       "3     80163890                                      apaches   \n",
       "4     80117902                                 fire chasers   \n",
       "...        ...                                          ...   \n",
       "2274  70286564                                        maron   \n",
       "2275  70281022  a young doctor's notebook and other stories   \n",
       "2276  70153404                                      friends   \n",
       "2277  70153404                                      friends   \n",
       "2278  70153404                                      friends   \n",
       "\n",
       "                                                   cast         country  \\\n",
       "0     Peter Cullen, Sumalee Montano, Frank Welker, J...   United States   \n",
       "1     Will Friedle, Darren Criss, Constance Zimmer, ...   United States   \n",
       "2     Will Friedle, Darren Criss, Constance Zimmer, ...   United States   \n",
       "3     Alberto Ammann, Eloy Azorín, Verónica Echegui,...           Spain   \n",
       "4                                           Unspecified   United States   \n",
       "...                                                 ...             ...   \n",
       "2274  Marc Maron, Judd Hirsch, Josh Brener, Nora Zeh...   United States   \n",
       "2275  Daniel Radcliffe, Jon Hamm, Adam Godley, Chris...  United Kingdom   \n",
       "2276  Jennifer Aniston, Courteney Cox, Lisa Kudrow, ...   United States   \n",
       "2277  Jennifer Aniston, Courteney Cox, Lisa Kudrow, ...   United States   \n",
       "2278  Jennifer Aniston, Courteney Cox, Lisa Kudrow, ...   United States   \n",
       "\n",
       "      year_added  latest_release_year  audience_rating  seasons  \\\n",
       "0           2018                 2013                3        1   \n",
       "1           2018                 2016                3        1   \n",
       "2           2018                 2016                3        1   \n",
       "3           2017                 2016                4        1   \n",
       "4           2017                 2017                4        1   \n",
       "...          ...                  ...              ...      ...   \n",
       "2274        2017                 2016                4        4   \n",
       "2275        2014                 2013                4        2   \n",
       "2276        2015                 2003                3       10   \n",
       "2277        2015                 2003                3       10   \n",
       "2278        2015                 2003                3       10   \n",
       "\n",
       "          main_category     tconst                     originalTitle  \\\n",
       "0              Kids' TV  tt1659175                Transformers Prime   \n",
       "1              Kids' TV  tt0231050            Toransufômâ: Kârobotto   \n",
       "2              Kids' TV  tt3604232  Transformers: Robots in Disguise   \n",
       "3        Crime TV Shows  tt4418844                           Apaches   \n",
       "4            Docuseries  tt7293754                      Fire Chasers   \n",
       "...                 ...        ...                               ...   \n",
       "2274        TV Comedies  tt2520512                             Maron   \n",
       "2275   British TV Shows        NaN                               NaN   \n",
       "2276  Classic & Cult TV  tt0078615                           Friends   \n",
       "2277  Classic & Cult TV  tt0108778                           Friends   \n",
       "2278  Classic & Cult TV  tt0315608                           Friends   \n",
       "\n",
       "      release_year  endYear  runtimeMinutes       genres  averageRating  \\\n",
       "0           2010.0   2013.0            30.0       Action            7.9   \n",
       "1           2000.0      0.0            22.0       Action            6.7   \n",
       "2           2014.0   2020.0            22.0       Action            6.0   \n",
       "3           2015.0   2017.0             0.0        Drama            6.9   \n",
       "4           2017.0   2017.0             0.0  Documentary            6.6   \n",
       "...            ...      ...             ...          ...            ...   \n",
       "2274        2013.0   2016.0            22.0       Comedy            7.7   \n",
       "2275           NaN      NaN             NaN          NaN            NaN   \n",
       "2276        1979.0   1979.0            60.0       Comedy            7.2   \n",
       "2277        1994.0   2004.0            22.0       Comedy            8.9   \n",
       "2278        2002.0      0.0             0.0      Romance            7.8   \n",
       "\n",
       "      numVotes  \n",
       "0       5130.0  \n",
       "1        472.0  \n",
       "2        799.0  \n",
       "3        207.0  \n",
       "4        303.0  \n",
       "...        ...  \n",
       "2274    4491.0  \n",
       "2275       NaN  \n",
       "2276      44.0  \n",
       "2277  774183.0  \n",
       "2278     174.0  \n",
       "\n",
       "[2279 rows x 17 columns]"
      ]
     },
     "execution_count": 116,
     "metadata": {},
     "output_type": "execute_result"
    }
   ],
   "source": [
    "# Merge\n",
    "finaltable = pd.merge(df, match, on='title',how='left')\n",
    "finaltable"
   ]
  },
  {
   "cell_type": "code",
   "execution_count": 117,
   "metadata": {},
   "outputs": [
    {
     "data": {
      "text/plain": [
       "311"
      ]
     },
     "execution_count": 117,
     "metadata": {},
     "output_type": "execute_result"
    }
   ],
   "source": [
    "finaltable['title'].duplicated().sum()"
   ]
  },
  {
   "cell_type": "code",
   "execution_count": 118,
   "metadata": {
    "scrolled": true
   },
   "outputs": [],
   "source": [
    "# Drop duplicated rows (by saving highest rating) \n",
    "finaltable = finaltable.sort_values('numVotes').drop_duplicates('title', keep='first')"
   ]
  },
  {
   "cell_type": "code",
   "execution_count": 119,
   "metadata": {
    "scrolled": true
   },
   "outputs": [
    {
     "data": {
      "text/html": [
       "<div>\n",
       "<style scoped>\n",
       "    .dataframe tbody tr th:only-of-type {\n",
       "        vertical-align: middle;\n",
       "    }\n",
       "\n",
       "    .dataframe tbody tr th {\n",
       "        vertical-align: top;\n",
       "    }\n",
       "\n",
       "    .dataframe thead th {\n",
       "        text-align: right;\n",
       "    }\n",
       "</style>\n",
       "<table border=\"1\" class=\"dataframe\">\n",
       "  <thead>\n",
       "    <tr style=\"text-align: right;\">\n",
       "      <th></th>\n",
       "      <th>show_id</th>\n",
       "      <th>title</th>\n",
       "      <th>cast</th>\n",
       "      <th>country</th>\n",
       "      <th>year_added</th>\n",
       "      <th>latest_release_year</th>\n",
       "      <th>audience_rating</th>\n",
       "      <th>seasons</th>\n",
       "      <th>main_category</th>\n",
       "      <th>tconst</th>\n",
       "      <th>originalTitle</th>\n",
       "      <th>release_year</th>\n",
       "      <th>endYear</th>\n",
       "      <th>runtimeMinutes</th>\n",
       "      <th>genres</th>\n",
       "      <th>averageRating</th>\n",
       "      <th>numVotes</th>\n",
       "    </tr>\n",
       "  </thead>\n",
       "  <tbody>\n",
       "    <tr>\n",
       "      <td>147</td>\n",
       "      <td>81142594</td>\n",
       "      <td>tunnel 2019</td>\n",
       "      <td>Todsapol Maisuk, Johnny Hao, Morakot Liu, Pemy...</td>\n",
       "      <td>Unspecified</td>\n",
       "      <td>2019</td>\n",
       "      <td>2019</td>\n",
       "      <td>4</td>\n",
       "      <td>1</td>\n",
       "      <td>Crime TV Shows</td>\n",
       "      <td>tt12020952</td>\n",
       "      <td>Tunnel</td>\n",
       "      <td>2019.0</td>\n",
       "      <td>2020.0</td>\n",
       "      <td>30.0</td>\n",
       "      <td>Crime</td>\n",
       "      <td>8.8</td>\n",
       "      <td>5.0</td>\n",
       "    </tr>\n",
       "    <tr>\n",
       "      <td>828</td>\n",
       "      <td>80156992</td>\n",
       "      <td>breakout</td>\n",
       "      <td>Jeanette Aw, Elvin Ng, Zhou Ying, Christopher ...</td>\n",
       "      <td>Unspecified</td>\n",
       "      <td>2017</td>\n",
       "      <td>2010</td>\n",
       "      <td>3</td>\n",
       "      <td>1</td>\n",
       "      <td>International TV Shows</td>\n",
       "      <td>tt7131684</td>\n",
       "      <td>Breakout</td>\n",
       "      <td>2010.0</td>\n",
       "      <td>2011.0</td>\n",
       "      <td>45.0</td>\n",
       "      <td>Action</td>\n",
       "      <td>6.8</td>\n",
       "      <td>5.0</td>\n",
       "    </tr>\n",
       "    <tr>\n",
       "      <td>729</td>\n",
       "      <td>80157244</td>\n",
       "      <td>the dream job</td>\n",
       "      <td>Hugo Ng, Shaun Chen, Jeanette Aw, Rebecca Lim,...</td>\n",
       "      <td>Singapore</td>\n",
       "      <td>2017</td>\n",
       "      <td>2016</td>\n",
       "      <td>3</td>\n",
       "      <td>1</td>\n",
       "      <td>International TV Shows</td>\n",
       "      <td>tt7131688</td>\n",
       "      <td>The Dream Job</td>\n",
       "      <td>2016.0</td>\n",
       "      <td>2016.0</td>\n",
       "      <td>45.0</td>\n",
       "      <td>Family</td>\n",
       "      <td>5.4</td>\n",
       "      <td>5.0</td>\n",
       "    </tr>\n",
       "    <tr>\n",
       "      <td>62</td>\n",
       "      <td>80135278</td>\n",
       "      <td>the beat</td>\n",
       "      <td>Henley Hii, Yise Loo, Aric Ho, Tiffany Leong, ...</td>\n",
       "      <td>Unspecified</td>\n",
       "      <td>2017</td>\n",
       "      <td>2012</td>\n",
       "      <td>2</td>\n",
       "      <td>1</td>\n",
       "      <td>International TV Shows</td>\n",
       "      <td>tt0264961</td>\n",
       "      <td>The Beat</td>\n",
       "      <td>1993.0</td>\n",
       "      <td>0.0</td>\n",
       "      <td>60.0</td>\n",
       "      <td>Music</td>\n",
       "      <td>6.4</td>\n",
       "      <td>5.0</td>\n",
       "    </tr>\n",
       "    <tr>\n",
       "      <td>1736</td>\n",
       "      <td>70308105</td>\n",
       "      <td>grand hotel</td>\n",
       "      <td>Yon González, Amaia Salamanca, Adriana Ozores,...</td>\n",
       "      <td>Spain</td>\n",
       "      <td>2017</td>\n",
       "      <td>2013</td>\n",
       "      <td>2</td>\n",
       "      <td>3</td>\n",
       "      <td>International TV Shows</td>\n",
       "      <td>tt2805632</td>\n",
       "      <td>Grand Hotel</td>\n",
       "      <td>2014.0</td>\n",
       "      <td>0.0</td>\n",
       "      <td>0.0</td>\n",
       "      <td>Crime</td>\n",
       "      <td>7.0</td>\n",
       "      <td>5.0</td>\n",
       "    </tr>\n",
       "    <tr>\n",
       "      <td>...</td>\n",
       "      <td>...</td>\n",
       "      <td>...</td>\n",
       "      <td>...</td>\n",
       "      <td>...</td>\n",
       "      <td>...</td>\n",
       "      <td>...</td>\n",
       "      <td>...</td>\n",
       "      <td>...</td>\n",
       "      <td>...</td>\n",
       "      <td>...</td>\n",
       "      <td>...</td>\n",
       "      <td>...</td>\n",
       "      <td>...</td>\n",
       "      <td>...</td>\n",
       "      <td>...</td>\n",
       "      <td>...</td>\n",
       "      <td>...</td>\n",
       "    </tr>\n",
       "    <tr>\n",
       "      <td>2244</td>\n",
       "      <td>80050007</td>\n",
       "      <td>the mr. peabody and sherman show</td>\n",
       "      <td>Chris Parnell, Max Charles, Dieter Jansen, Da'...</td>\n",
       "      <td>United States</td>\n",
       "      <td>2017</td>\n",
       "      <td>2017</td>\n",
       "      <td>3</td>\n",
       "      <td>4</td>\n",
       "      <td>Kids' TV</td>\n",
       "      <td>NaN</td>\n",
       "      <td>NaN</td>\n",
       "      <td>NaN</td>\n",
       "      <td>NaN</td>\n",
       "      <td>NaN</td>\n",
       "      <td>NaN</td>\n",
       "      <td>NaN</td>\n",
       "      <td>NaN</td>\n",
       "    </tr>\n",
       "    <tr>\n",
       "      <td>2249</td>\n",
       "      <td>80036747</td>\n",
       "      <td>pororo - the little penguin</td>\n",
       "      <td>Unspecified</td>\n",
       "      <td>South Korea</td>\n",
       "      <td>2019</td>\n",
       "      <td>2013</td>\n",
       "      <td>1</td>\n",
       "      <td>2</td>\n",
       "      <td>Kids' TV</td>\n",
       "      <td>NaN</td>\n",
       "      <td>NaN</td>\n",
       "      <td>NaN</td>\n",
       "      <td>NaN</td>\n",
       "      <td>NaN</td>\n",
       "      <td>NaN</td>\n",
       "      <td>NaN</td>\n",
       "      <td>NaN</td>\n",
       "    </tr>\n",
       "    <tr>\n",
       "      <td>2263</td>\n",
       "      <td>80186475</td>\n",
       "      <td>pokémon the series</td>\n",
       "      <td>Sarah Natochenny, Laurie Hymes, Jessica Paquet...</td>\n",
       "      <td>Japan</td>\n",
       "      <td>2019</td>\n",
       "      <td>2019</td>\n",
       "      <td>3</td>\n",
       "      <td>2</td>\n",
       "      <td>Anime Series</td>\n",
       "      <td>NaN</td>\n",
       "      <td>NaN</td>\n",
       "      <td>NaN</td>\n",
       "      <td>NaN</td>\n",
       "      <td>NaN</td>\n",
       "      <td>NaN</td>\n",
       "      <td>NaN</td>\n",
       "      <td>NaN</td>\n",
       "    </tr>\n",
       "    <tr>\n",
       "      <td>2265</td>\n",
       "      <td>80067942</td>\n",
       "      <td>terrace house: boys &amp; girls in the city</td>\n",
       "      <td>You, Reina Triendl, Ryota Yamasato, Yoshimi To...</td>\n",
       "      <td>Japan</td>\n",
       "      <td>2016</td>\n",
       "      <td>2016</td>\n",
       "      <td>3</td>\n",
       "      <td>2</td>\n",
       "      <td>International TV Shows</td>\n",
       "      <td>NaN</td>\n",
       "      <td>NaN</td>\n",
       "      <td>NaN</td>\n",
       "      <td>NaN</td>\n",
       "      <td>NaN</td>\n",
       "      <td>NaN</td>\n",
       "      <td>NaN</td>\n",
       "      <td>NaN</td>\n",
       "    </tr>\n",
       "    <tr>\n",
       "      <td>2275</td>\n",
       "      <td>70281022</td>\n",
       "      <td>a young doctor's notebook and other stories</td>\n",
       "      <td>Daniel Radcliffe, Jon Hamm, Adam Godley, Chris...</td>\n",
       "      <td>United Kingdom</td>\n",
       "      <td>2014</td>\n",
       "      <td>2013</td>\n",
       "      <td>4</td>\n",
       "      <td>2</td>\n",
       "      <td>British TV Shows</td>\n",
       "      <td>NaN</td>\n",
       "      <td>NaN</td>\n",
       "      <td>NaN</td>\n",
       "      <td>NaN</td>\n",
       "      <td>NaN</td>\n",
       "      <td>NaN</td>\n",
       "      <td>NaN</td>\n",
       "      <td>NaN</td>\n",
       "    </tr>\n",
       "  </tbody>\n",
       "</table>\n",
       "<p>1968 rows × 17 columns</p>\n",
       "</div>"
      ],
      "text/plain": [
       "       show_id                                        title  \\\n",
       "147   81142594                                  tunnel 2019   \n",
       "828   80156992                                     breakout   \n",
       "729   80157244                                the dream job   \n",
       "62    80135278                                     the beat   \n",
       "1736  70308105                                  grand hotel   \n",
       "...        ...                                          ...   \n",
       "2244  80050007             the mr. peabody and sherman show   \n",
       "2249  80036747                  pororo - the little penguin   \n",
       "2263  80186475                           pokémon the series   \n",
       "2265  80067942      terrace house: boys & girls in the city   \n",
       "2275  70281022  a young doctor's notebook and other stories   \n",
       "\n",
       "                                                   cast         country  \\\n",
       "147   Todsapol Maisuk, Johnny Hao, Morakot Liu, Pemy...     Unspecified   \n",
       "828   Jeanette Aw, Elvin Ng, Zhou Ying, Christopher ...     Unspecified   \n",
       "729   Hugo Ng, Shaun Chen, Jeanette Aw, Rebecca Lim,...       Singapore   \n",
       "62    Henley Hii, Yise Loo, Aric Ho, Tiffany Leong, ...     Unspecified   \n",
       "1736  Yon González, Amaia Salamanca, Adriana Ozores,...           Spain   \n",
       "...                                                 ...             ...   \n",
       "2244  Chris Parnell, Max Charles, Dieter Jansen, Da'...   United States   \n",
       "2249                                        Unspecified     South Korea   \n",
       "2263  Sarah Natochenny, Laurie Hymes, Jessica Paquet...           Japan   \n",
       "2265  You, Reina Triendl, Ryota Yamasato, Yoshimi To...           Japan   \n",
       "2275  Daniel Radcliffe, Jon Hamm, Adam Godley, Chris...  United Kingdom   \n",
       "\n",
       "      year_added  latest_release_year  audience_rating  seasons  \\\n",
       "147         2019                 2019                4        1   \n",
       "828         2017                 2010                3        1   \n",
       "729         2017                 2016                3        1   \n",
       "62          2017                 2012                2        1   \n",
       "1736        2017                 2013                2        3   \n",
       "...          ...                  ...              ...      ...   \n",
       "2244        2017                 2017                3        4   \n",
       "2249        2019                 2013                1        2   \n",
       "2263        2019                 2019                3        2   \n",
       "2265        2016                 2016                3        2   \n",
       "2275        2014                 2013                4        2   \n",
       "\n",
       "               main_category      tconst  originalTitle  release_year  \\\n",
       "147           Crime TV Shows  tt12020952         Tunnel        2019.0   \n",
       "828   International TV Shows   tt7131684       Breakout        2010.0   \n",
       "729   International TV Shows   tt7131688  The Dream Job        2016.0   \n",
       "62    International TV Shows   tt0264961       The Beat        1993.0   \n",
       "1736  International TV Shows   tt2805632    Grand Hotel        2014.0   \n",
       "...                      ...         ...            ...           ...   \n",
       "2244                Kids' TV         NaN            NaN           NaN   \n",
       "2249                Kids' TV         NaN            NaN           NaN   \n",
       "2263            Anime Series         NaN            NaN           NaN   \n",
       "2265  International TV Shows         NaN            NaN           NaN   \n",
       "2275        British TV Shows         NaN            NaN           NaN   \n",
       "\n",
       "      endYear  runtimeMinutes  genres  averageRating  numVotes  \n",
       "147    2020.0            30.0   Crime            8.8       5.0  \n",
       "828    2011.0            45.0  Action            6.8       5.0  \n",
       "729    2016.0            45.0  Family            5.4       5.0  \n",
       "62        0.0            60.0   Music            6.4       5.0  \n",
       "1736      0.0             0.0   Crime            7.0       5.0  \n",
       "...       ...             ...     ...            ...       ...  \n",
       "2244      NaN             NaN     NaN            NaN       NaN  \n",
       "2249      NaN             NaN     NaN            NaN       NaN  \n",
       "2263      NaN             NaN     NaN            NaN       NaN  \n",
       "2265      NaN             NaN     NaN            NaN       NaN  \n",
       "2275      NaN             NaN     NaN            NaN       NaN  \n",
       "\n",
       "[1968 rows x 17 columns]"
      ]
     },
     "execution_count": 119,
     "metadata": {},
     "output_type": "execute_result"
    }
   ],
   "source": [
    "finaltable"
   ]
  },
  {
   "cell_type": "code",
   "execution_count": 120,
   "metadata": {},
   "outputs": [
    {
     "data": {
      "text/plain": [
       "(1968, 17)"
      ]
     },
     "execution_count": 120,
     "metadata": {},
     "output_type": "execute_result"
    }
   ],
   "source": [
    "finaltable.shape"
   ]
  },
  {
   "cell_type": "code",
   "execution_count": 121,
   "metadata": {},
   "outputs": [
    {
     "data": {
      "text/plain": [
       "show_id                  0\n",
       "title                    0\n",
       "cast                     0\n",
       "country                  0\n",
       "year_added               0\n",
       "latest_release_year      0\n",
       "audience_rating          0\n",
       "seasons                  0\n",
       "main_category            0\n",
       "tconst                 461\n",
       "originalTitle          461\n",
       "release_year           461\n",
       "endYear                461\n",
       "runtimeMinutes         461\n",
       "genres                 472\n",
       "averageRating          461\n",
       "numVotes               461\n",
       "dtype: int64"
      ]
     },
     "execution_count": 121,
     "metadata": {},
     "output_type": "execute_result"
    }
   ],
   "source": [
    "finaltable.isnull().sum()"
   ]
  },
  {
   "cell_type": "code",
   "execution_count": 122,
   "metadata": {},
   "outputs": [
    {
     "data": {
      "text/plain": [
       "(1507, 17)"
      ]
     },
     "execution_count": 122,
     "metadata": {},
     "output_type": "execute_result"
    }
   ],
   "source": [
    "finaltable = finaltable.dropna(how='any', subset=['tconst'])\n",
    "finaltable.reset_index(drop=True, inplace=True)\n",
    "finaltable.shape"
   ]
  },
  {
   "cell_type": "code",
   "execution_count": 123,
   "metadata": {},
   "outputs": [
    {
     "data": {
      "text/plain": [
       "show_id                 0\n",
       "title                   0\n",
       "cast                    0\n",
       "country                 0\n",
       "year_added              0\n",
       "latest_release_year     0\n",
       "audience_rating         0\n",
       "seasons                 0\n",
       "main_category           0\n",
       "tconst                  0\n",
       "originalTitle           0\n",
       "release_year            0\n",
       "endYear                 0\n",
       "runtimeMinutes          0\n",
       "genres                 11\n",
       "averageRating           0\n",
       "numVotes                0\n",
       "dtype: int64"
      ]
     },
     "execution_count": 123,
     "metadata": {},
     "output_type": "execute_result"
    }
   ],
   "source": [
    "finaltable.isnull().sum()"
   ]
  },
  {
   "cell_type": "code",
   "execution_count": 124,
   "metadata": {
    "scrolled": true
   },
   "outputs": [
    {
     "data": {
      "text/html": [
       "<div>\n",
       "<style scoped>\n",
       "    .dataframe tbody tr th:only-of-type {\n",
       "        vertical-align: middle;\n",
       "    }\n",
       "\n",
       "    .dataframe tbody tr th {\n",
       "        vertical-align: top;\n",
       "    }\n",
       "\n",
       "    .dataframe thead th {\n",
       "        text-align: right;\n",
       "    }\n",
       "</style>\n",
       "<table border=\"1\" class=\"dataframe\">\n",
       "  <thead>\n",
       "    <tr style=\"text-align: right;\">\n",
       "      <th></th>\n",
       "      <th>show_id</th>\n",
       "      <th>title</th>\n",
       "      <th>cast</th>\n",
       "      <th>country</th>\n",
       "      <th>year_added</th>\n",
       "      <th>latest_release_year</th>\n",
       "      <th>audience_rating</th>\n",
       "      <th>seasons</th>\n",
       "      <th>main_category</th>\n",
       "      <th>tconst</th>\n",
       "      <th>originalTitle</th>\n",
       "      <th>release_year</th>\n",
       "      <th>endYear</th>\n",
       "      <th>runtimeMinutes</th>\n",
       "      <th>genres</th>\n",
       "      <th>averageRating</th>\n",
       "      <th>numVotes</th>\n",
       "    </tr>\n",
       "  </thead>\n",
       "  <tbody>\n",
       "    <tr>\n",
       "      <td>7</td>\n",
       "      <td>80126212</td>\n",
       "      <td>happy and</td>\n",
       "      <td>Hee-Jin Lee, Hae-seong Kwon, Paul Stafford, Mi...</td>\n",
       "      <td>Unspecified</td>\n",
       "      <td>2016</td>\n",
       "      <td>2012</td>\n",
       "      <td>3</td>\n",
       "      <td>1</td>\n",
       "      <td>International TV Shows</td>\n",
       "      <td>tt6974334</td>\n",
       "      <td>Happy and</td>\n",
       "      <td>2011.0</td>\n",
       "      <td>0.0</td>\n",
       "      <td>30.0</td>\n",
       "      <td>NaN</td>\n",
       "      <td>4.6</td>\n",
       "      <td>5.0</td>\n",
       "    </tr>\n",
       "    <tr>\n",
       "      <td>17</td>\n",
       "      <td>80011206</td>\n",
       "      <td>zoo</td>\n",
       "      <td>James Wolk, Kristen Connolly, Nonso Anozie, No...</td>\n",
       "      <td>United States</td>\n",
       "      <td>2017</td>\n",
       "      <td>2017</td>\n",
       "      <td>3</td>\n",
       "      <td>3</td>\n",
       "      <td>TV Dramas</td>\n",
       "      <td>tt0373649</td>\n",
       "      <td>Zoo</td>\n",
       "      <td>1996.0</td>\n",
       "      <td>0.0</td>\n",
       "      <td>0.0</td>\n",
       "      <td>NaN</td>\n",
       "      <td>7.7</td>\n",
       "      <td>6.0</td>\n",
       "    </tr>\n",
       "    <tr>\n",
       "      <td>24</td>\n",
       "      <td>80184208</td>\n",
       "      <td>timeline</td>\n",
       "      <td>Santiwithi Phrombut, Jamorn Kijsawapak, Orrawa...</td>\n",
       "      <td>Unspecified</td>\n",
       "      <td>2018</td>\n",
       "      <td>2014</td>\n",
       "      <td>3</td>\n",
       "      <td>1</td>\n",
       "      <td>Crime TV Shows</td>\n",
       "      <td>tt9075716</td>\n",
       "      <td>Timeline</td>\n",
       "      <td>2019.0</td>\n",
       "      <td>0.0</td>\n",
       "      <td>0.0</td>\n",
       "      <td>NaN</td>\n",
       "      <td>6.7</td>\n",
       "      <td>6.0</td>\n",
       "    </tr>\n",
       "    <tr>\n",
       "      <td>73</td>\n",
       "      <td>81191473</td>\n",
       "      <td>candy online</td>\n",
       "      <td>Ruby Zhan, Suun Lin, Sunnie Wang, Dean Tang, L...</td>\n",
       "      <td>Taiwan</td>\n",
       "      <td>2019</td>\n",
       "      <td>2019</td>\n",
       "      <td>4</td>\n",
       "      <td>1</td>\n",
       "      <td>International TV Shows</td>\n",
       "      <td>tt11330500</td>\n",
       "      <td>Candy Online</td>\n",
       "      <td>2019.0</td>\n",
       "      <td>2019.0</td>\n",
       "      <td>0.0</td>\n",
       "      <td>NaN</td>\n",
       "      <td>5.5</td>\n",
       "      <td>10.0</td>\n",
       "    </tr>\n",
       "    <tr>\n",
       "      <td>85</td>\n",
       "      <td>70266023</td>\n",
       "      <td>life on location</td>\n",
       "      <td>David Attenborough</td>\n",
       "      <td>United States</td>\n",
       "      <td>2015</td>\n",
       "      <td>2009</td>\n",
       "      <td>1</td>\n",
       "      <td>1</td>\n",
       "      <td>British TV Shows</td>\n",
       "      <td>tt6959610</td>\n",
       "      <td>Life on Location</td>\n",
       "      <td>2009.0</td>\n",
       "      <td>0.0</td>\n",
       "      <td>9.0</td>\n",
       "      <td>NaN</td>\n",
       "      <td>7.5</td>\n",
       "      <td>11.0</td>\n",
       "    </tr>\n",
       "    <tr>\n",
       "      <td>87</td>\n",
       "      <td>81049578</td>\n",
       "      <td>tango</td>\n",
       "      <td>Bassel Khayyat, Daniella Rahme, Bassam Moughne...</td>\n",
       "      <td>Lebanon</td>\n",
       "      <td>2019</td>\n",
       "      <td>2018</td>\n",
       "      <td>3</td>\n",
       "      <td>1</td>\n",
       "      <td>International TV Shows</td>\n",
       "      <td>tt1769102</td>\n",
       "      <td>Tango</td>\n",
       "      <td>2010.0</td>\n",
       "      <td>0.0</td>\n",
       "      <td>90.0</td>\n",
       "      <td>NaN</td>\n",
       "      <td>6.1</td>\n",
       "      <td>11.0</td>\n",
       "    </tr>\n",
       "    <tr>\n",
       "      <td>114</td>\n",
       "      <td>80214772</td>\n",
       "      <td>bad guys: vile city</td>\n",
       "      <td>Joong-hoon Park, Jin-mo Joo, Yang Ik-june, Moo...</td>\n",
       "      <td>South Korea</td>\n",
       "      <td>2018</td>\n",
       "      <td>2018</td>\n",
       "      <td>4</td>\n",
       "      <td>1</td>\n",
       "      <td>Crime TV Shows</td>\n",
       "      <td>tt12404980</td>\n",
       "      <td>Nappeun Nyeoseokdeul 2</td>\n",
       "      <td>2017.0</td>\n",
       "      <td>0.0</td>\n",
       "      <td>0.0</td>\n",
       "      <td>NaN</td>\n",
       "      <td>8.6</td>\n",
       "      <td>15.0</td>\n",
       "    </tr>\n",
       "    <tr>\n",
       "      <td>139</td>\n",
       "      <td>81038583</td>\n",
       "      <td>strongland</td>\n",
       "      <td>Unspecified</td>\n",
       "      <td>Unspecified</td>\n",
       "      <td>2019</td>\n",
       "      <td>2018</td>\n",
       "      <td>2</td>\n",
       "      <td>1</td>\n",
       "      <td>Docuseries</td>\n",
       "      <td>tt9647970</td>\n",
       "      <td>Strongland</td>\n",
       "      <td>2018.0</td>\n",
       "      <td>0.0</td>\n",
       "      <td>0.0</td>\n",
       "      <td>NaN</td>\n",
       "      <td>7.5</td>\n",
       "      <td>18.0</td>\n",
       "    </tr>\n",
       "    <tr>\n",
       "      <td>187</td>\n",
       "      <td>80190843</td>\n",
       "      <td>first and last</td>\n",
       "      <td>Unspecified</td>\n",
       "      <td>Unspecified</td>\n",
       "      <td>2018</td>\n",
       "      <td>2018</td>\n",
       "      <td>4</td>\n",
       "      <td>1</td>\n",
       "      <td>Docuseries</td>\n",
       "      <td>tt8558784</td>\n",
       "      <td>First and Last</td>\n",
       "      <td>2020.0</td>\n",
       "      <td>0.0</td>\n",
       "      <td>45.0</td>\n",
       "      <td>NaN</td>\n",
       "      <td>5.8</td>\n",
       "      <td>23.0</td>\n",
       "    </tr>\n",
       "    <tr>\n",
       "      <td>256</td>\n",
       "      <td>80022456</td>\n",
       "      <td>cooked</td>\n",
       "      <td>Michael Pollan</td>\n",
       "      <td>United States</td>\n",
       "      <td>2016</td>\n",
       "      <td>2016</td>\n",
       "      <td>2</td>\n",
       "      <td>1</td>\n",
       "      <td>Docuseries</td>\n",
       "      <td>tt3567196</td>\n",
       "      <td>Cooked</td>\n",
       "      <td>2015.0</td>\n",
       "      <td>0.0</td>\n",
       "      <td>0.0</td>\n",
       "      <td>NaN</td>\n",
       "      <td>7.5</td>\n",
       "      <td>39.0</td>\n",
       "    </tr>\n",
       "    <tr>\n",
       "      <td>630</td>\n",
       "      <td>80090370</td>\n",
       "      <td>case closed</td>\n",
       "      <td>Minami Takayama, Alison Retzloff, Wakana Yamaz...</td>\n",
       "      <td>Japan</td>\n",
       "      <td>2019</td>\n",
       "      <td>2015</td>\n",
       "      <td>3</td>\n",
       "      <td>1</td>\n",
       "      <td>Anime Series</td>\n",
       "      <td>tt0105968</td>\n",
       "      <td>Case Closed</td>\n",
       "      <td>1993.0</td>\n",
       "      <td>1994.0</td>\n",
       "      <td>60.0</td>\n",
       "      <td>NaN</td>\n",
       "      <td>8.7</td>\n",
       "      <td>426.0</td>\n",
       "    </tr>\n",
       "  </tbody>\n",
       "</table>\n",
       "</div>"
      ],
      "text/plain": [
       "      show_id                title  \\\n",
       "7    80126212            happy and   \n",
       "17   80011206                  zoo   \n",
       "24   80184208             timeline   \n",
       "73   81191473         candy online   \n",
       "85   70266023     life on location   \n",
       "87   81049578                tango   \n",
       "114  80214772  bad guys: vile city   \n",
       "139  81038583           strongland   \n",
       "187  80190843       first and last   \n",
       "256  80022456               cooked   \n",
       "630  80090370          case closed   \n",
       "\n",
       "                                                  cast        country  \\\n",
       "7    Hee-Jin Lee, Hae-seong Kwon, Paul Stafford, Mi...    Unspecified   \n",
       "17   James Wolk, Kristen Connolly, Nonso Anozie, No...  United States   \n",
       "24   Santiwithi Phrombut, Jamorn Kijsawapak, Orrawa...    Unspecified   \n",
       "73   Ruby Zhan, Suun Lin, Sunnie Wang, Dean Tang, L...         Taiwan   \n",
       "85                                  David Attenborough  United States   \n",
       "87   Bassel Khayyat, Daniella Rahme, Bassam Moughne...        Lebanon   \n",
       "114  Joong-hoon Park, Jin-mo Joo, Yang Ik-june, Moo...    South Korea   \n",
       "139                                        Unspecified    Unspecified   \n",
       "187                                        Unspecified    Unspecified   \n",
       "256                                     Michael Pollan  United States   \n",
       "630  Minami Takayama, Alison Retzloff, Wakana Yamaz...          Japan   \n",
       "\n",
       "     year_added  latest_release_year  audience_rating  seasons  \\\n",
       "7          2016                 2012                3        1   \n",
       "17         2017                 2017                3        3   \n",
       "24         2018                 2014                3        1   \n",
       "73         2019                 2019                4        1   \n",
       "85         2015                 2009                1        1   \n",
       "87         2019                 2018                3        1   \n",
       "114        2018                 2018                4        1   \n",
       "139        2019                 2018                2        1   \n",
       "187        2018                 2018                4        1   \n",
       "256        2016                 2016                2        1   \n",
       "630        2019                 2015                3        1   \n",
       "\n",
       "              main_category      tconst           originalTitle  release_year  \\\n",
       "7    International TV Shows   tt6974334               Happy and        2011.0   \n",
       "17                TV Dramas   tt0373649                     Zoo        1996.0   \n",
       "24           Crime TV Shows   tt9075716                Timeline        2019.0   \n",
       "73   International TV Shows  tt11330500            Candy Online        2019.0   \n",
       "85         British TV Shows   tt6959610        Life on Location        2009.0   \n",
       "87   International TV Shows   tt1769102                   Tango        2010.0   \n",
       "114          Crime TV Shows  tt12404980  Nappeun Nyeoseokdeul 2        2017.0   \n",
       "139              Docuseries   tt9647970              Strongland        2018.0   \n",
       "187              Docuseries   tt8558784          First and Last        2020.0   \n",
       "256              Docuseries   tt3567196                  Cooked        2015.0   \n",
       "630            Anime Series   tt0105968             Case Closed        1993.0   \n",
       "\n",
       "     endYear  runtimeMinutes genres  averageRating  numVotes  \n",
       "7        0.0            30.0    NaN            4.6       5.0  \n",
       "17       0.0             0.0    NaN            7.7       6.0  \n",
       "24       0.0             0.0    NaN            6.7       6.0  \n",
       "73    2019.0             0.0    NaN            5.5      10.0  \n",
       "85       0.0             9.0    NaN            7.5      11.0  \n",
       "87       0.0            90.0    NaN            6.1      11.0  \n",
       "114      0.0             0.0    NaN            8.6      15.0  \n",
       "139      0.0             0.0    NaN            7.5      18.0  \n",
       "187      0.0            45.0    NaN            5.8      23.0  \n",
       "256      0.0             0.0    NaN            7.5      39.0  \n",
       "630   1994.0            60.0    NaN            8.7     426.0  "
      ]
     },
     "execution_count": 124,
     "metadata": {},
     "output_type": "execute_result"
    }
   ],
   "source": [
    "finaltable[finaltable.genres.isnull()]"
   ]
  },
  {
   "cell_type": "code",
   "execution_count": 125,
   "metadata": {},
   "outputs": [],
   "source": [
    "finaltable.at[7, 'genres'] = 'Drama'\n",
    "finaltable.at[17, 'genres'] = 'Drama'\n",
    "finaltable.at[24, 'genres'] = 'Documentary'\n",
    "finaltable.at[73, 'genres']= 'Drama'\n",
    "finaltable.at[85, 'genres'] = 'Documentary'\n",
    "finaltable.at[87, 'genres'] = 'Drama'\n",
    "finaltable.at[114, 'genres'] = 'Crime'\n",
    "finaltable.at[139, 'genres'] = 'Documentary'\n",
    "finaltable.at[187, 'genres'] = 'Documentary'\n",
    "finaltable.at[256, 'genres'] = 'Documentary'\n",
    "finaltable.at[630, 'genres'] = 'Mystery'"
   ]
  },
  {
   "cell_type": "code",
   "execution_count": 126,
   "metadata": {},
   "outputs": [
    {
     "data": {
      "text/plain": [
       "0"
      ]
     },
     "execution_count": 126,
     "metadata": {},
     "output_type": "execute_result"
    }
   ],
   "source": [
    "finaltable.genres.isnull().sum()"
   ]
  },
  {
   "cell_type": "code",
   "execution_count": 127,
   "metadata": {},
   "outputs": [
    {
     "data": {
      "text/plain": [
       "array(['Crime', 'Action', 'Family', 'Music', 'Sci-Fi', 'Comedy', 'Drama',\n",
       "       'Documentary', 'Reality-TV', 'Fantasy', 'Animation', 'Game-Show',\n",
       "       'Thriller', 'Adventure', 'Horror', 'Musical', 'Sport', 'Romance',\n",
       "       'Short', 'History', 'Mystery', 'News', 'Talk-Show', 'Biography'],\n",
       "      dtype=object)"
      ]
     },
     "execution_count": 127,
     "metadata": {},
     "output_type": "execute_result"
    }
   ],
   "source": [
    "finaltable.genres.unique()"
   ]
  },
  {
   "cell_type": "code",
   "execution_count": 128,
   "metadata": {},
   "outputs": [
    {
     "data": {
      "text/plain": [
       "show_id                  int64\n",
       "title                   object\n",
       "cast                    object\n",
       "country                 object\n",
       "year_added               int64\n",
       "latest_release_year      int64\n",
       "audience_rating          int64\n",
       "seasons                  int64\n",
       "main_category           object\n",
       "tconst                  object\n",
       "originalTitle           object\n",
       "release_year           float64\n",
       "endYear                float64\n",
       "runtimeMinutes         float64\n",
       "genres                  object\n",
       "averageRating          float64\n",
       "numVotes               float64\n",
       "dtype: object"
      ]
     },
     "execution_count": 128,
     "metadata": {},
     "output_type": "execute_result"
    }
   ],
   "source": [
    "finaltable.dtypes"
   ]
  },
  {
   "cell_type": "code",
   "execution_count": 131,
   "metadata": {},
   "outputs": [
    {
     "data": {
      "text/plain": [
       "show_id                  int64\n",
       "title                   object\n",
       "cast                    object\n",
       "country                 object\n",
       "year_added               int64\n",
       "latest_release_year      int64\n",
       "audience_rating          int64\n",
       "seasons                  int64\n",
       "main_category           object\n",
       "tconst                  object\n",
       "originalTitle           object\n",
       "release_year             int64\n",
       "endYear                  int64\n",
       "runtimeMinutes           int64\n",
       "genres                  object\n",
       "averageRating          float64\n",
       "numVotes                 int64\n",
       "dtype: object"
      ]
     },
     "execution_count": 131,
     "metadata": {},
     "output_type": "execute_result"
    }
   ],
   "source": [
    "finaltable = finaltable.astype({'release_year': 'int64', \n",
    "                                'endYear': 'int64', \n",
    "                                'runtimeMinutes': 'int64',\n",
    "                                'numVotes': 'int64'})\n",
    "finaltable.dtypes"
   ]
  },
  {
   "cell_type": "code",
   "execution_count": 132,
   "metadata": {},
   "outputs": [],
   "source": [
    "finaltable.drop(['cast','tconst', 'originalTitle', 'endYear'], axis=1, inplace=True)"
   ]
  },
  {
   "cell_type": "code",
   "execution_count": 133,
   "metadata": {},
   "outputs": [
    {
     "data": {
      "text/plain": [
       "Index(['show_id', 'title', 'country', 'year_added', 'latest_release_year',\n",
       "       'audience_rating', 'seasons', 'main_category', 'release_year',\n",
       "       'runtimeMinutes', 'genres', 'averageRating', 'numVotes'],\n",
       "      dtype='object')"
      ]
     },
     "execution_count": 133,
     "metadata": {},
     "output_type": "execute_result"
    }
   ],
   "source": [
    "finaltable.columns"
   ]
  },
  {
   "cell_type": "code",
   "execution_count": 135,
   "metadata": {},
   "outputs": [],
   "source": [
    "finaltable = finaltable[['show_id', 'title', 'country',\n",
    "                         'year_added', 'release_year', 'latest_release_year',\n",
    "                         'seasons', 'runtimeMinutes', 'genres', 'main_category',\n",
    "                         'audience_rating', 'averageRating', 'numVotes']]"
   ]
  },
  {
   "cell_type": "code",
   "execution_count": 136,
   "metadata": {},
   "outputs": [],
   "source": [
    "# Capitalize each word\n",
    "finaltable['title'] = finaltable['title'].str.title()"
   ]
  },
  {
   "cell_type": "code",
   "execution_count": 137,
   "metadata": {},
   "outputs": [
    {
     "data": {
      "text/html": [
       "<div>\n",
       "<style scoped>\n",
       "    .dataframe tbody tr th:only-of-type {\n",
       "        vertical-align: middle;\n",
       "    }\n",
       "\n",
       "    .dataframe tbody tr th {\n",
       "        vertical-align: top;\n",
       "    }\n",
       "\n",
       "    .dataframe thead th {\n",
       "        text-align: right;\n",
       "    }\n",
       "</style>\n",
       "<table border=\"1\" class=\"dataframe\">\n",
       "  <thead>\n",
       "    <tr style=\"text-align: right;\">\n",
       "      <th></th>\n",
       "      <th>show_id</th>\n",
       "      <th>title</th>\n",
       "      <th>country</th>\n",
       "      <th>year_added</th>\n",
       "      <th>release_year</th>\n",
       "      <th>latest_release_year</th>\n",
       "      <th>seasons</th>\n",
       "      <th>runtimeMinutes</th>\n",
       "      <th>genres</th>\n",
       "      <th>main_category</th>\n",
       "      <th>audience_rating</th>\n",
       "      <th>averageRating</th>\n",
       "      <th>numVotes</th>\n",
       "    </tr>\n",
       "  </thead>\n",
       "  <tbody>\n",
       "    <tr>\n",
       "      <td>6</td>\n",
       "      <td>80099753</td>\n",
       "      <td>Versailles</td>\n",
       "      <td>France</td>\n",
       "      <td>2019</td>\n",
       "      <td>2011</td>\n",
       "      <td>2018</td>\n",
       "      <td>3</td>\n",
       "      <td>0</td>\n",
       "      <td>Comedy</td>\n",
       "      <td>International TV Shows</td>\n",
       "      <td>4</td>\n",
       "      <td>1.6</td>\n",
       "      <td>5</td>\n",
       "    </tr>\n",
       "    <tr>\n",
       "      <td>295</td>\n",
       "      <td>80111273</td>\n",
       "      <td>Game Winning Hit</td>\n",
       "      <td>Taiwan</td>\n",
       "      <td>2016</td>\n",
       "      <td>2009</td>\n",
       "      <td>2009</td>\n",
       "      <td>1</td>\n",
       "      <td>45</td>\n",
       "      <td>Drama</td>\n",
       "      <td>International TV Shows</td>\n",
       "      <td>2</td>\n",
       "      <td>1.9</td>\n",
       "      <td>54</td>\n",
       "    </tr>\n",
       "    <tr>\n",
       "      <td>359</td>\n",
       "      <td>70152640</td>\n",
       "      <td>Cheers</td>\n",
       "      <td>United States</td>\n",
       "      <td>2017</td>\n",
       "      <td>2011</td>\n",
       "      <td>1992</td>\n",
       "      <td>11</td>\n",
       "      <td>0</td>\n",
       "      <td>Comedy</td>\n",
       "      <td>Classic &amp; Cult TV</td>\n",
       "      <td>2</td>\n",
       "      <td>2.1</td>\n",
       "      <td>83</td>\n",
       "    </tr>\n",
       "    <tr>\n",
       "      <td>193</td>\n",
       "      <td>80202859</td>\n",
       "      <td>The Bachelor</td>\n",
       "      <td>Unspecified</td>\n",
       "      <td>2019</td>\n",
       "      <td>2003</td>\n",
       "      <td>2009</td>\n",
       "      <td>1</td>\n",
       "      <td>60</td>\n",
       "      <td>Reality-TV</td>\n",
       "      <td>Reality TV</td>\n",
       "      <td>3</td>\n",
       "      <td>2.1</td>\n",
       "      <td>24</td>\n",
       "    </tr>\n",
       "    <tr>\n",
       "      <td>987</td>\n",
       "      <td>80239337</td>\n",
       "      <td>Ben 10</td>\n",
       "      <td>United States</td>\n",
       "      <td>2018</td>\n",
       "      <td>2016</td>\n",
       "      <td>2016</td>\n",
       "      <td>1</td>\n",
       "      <td>12</td>\n",
       "      <td>Action</td>\n",
       "      <td>Kids' TV</td>\n",
       "      <td>3</td>\n",
       "      <td>2.5</td>\n",
       "      <td>1976</td>\n",
       "    </tr>\n",
       "    <tr>\n",
       "      <td>...</td>\n",
       "      <td>...</td>\n",
       "      <td>...</td>\n",
       "      <td>...</td>\n",
       "      <td>...</td>\n",
       "      <td>...</td>\n",
       "      <td>...</td>\n",
       "      <td>...</td>\n",
       "      <td>...</td>\n",
       "      <td>...</td>\n",
       "      <td>...</td>\n",
       "      <td>...</td>\n",
       "      <td>...</td>\n",
       "      <td>...</td>\n",
       "    </tr>\n",
       "    <tr>\n",
       "      <td>68</td>\n",
       "      <td>80157488</td>\n",
       "      <td>The Truth</td>\n",
       "      <td>Unspecified</td>\n",
       "      <td>2017</td>\n",
       "      <td>2017</td>\n",
       "      <td>2008</td>\n",
       "      <td>1</td>\n",
       "      <td>25</td>\n",
       "      <td>Action</td>\n",
       "      <td>Crime TV Shows</td>\n",
       "      <td>3</td>\n",
       "      <td>9.3</td>\n",
       "      <td>9</td>\n",
       "    </tr>\n",
       "    <tr>\n",
       "      <td>1386</td>\n",
       "      <td>80990571</td>\n",
       "      <td>Blue Planet Ii</td>\n",
       "      <td>United Kingdom</td>\n",
       "      <td>2018</td>\n",
       "      <td>2017</td>\n",
       "      <td>2017</td>\n",
       "      <td>1</td>\n",
       "      <td>364</td>\n",
       "      <td>Documentary</td>\n",
       "      <td>British TV Shows</td>\n",
       "      <td>1</td>\n",
       "      <td>9.3</td>\n",
       "      <td>30047</td>\n",
       "    </tr>\n",
       "    <tr>\n",
       "      <td>41</td>\n",
       "      <td>80170720</td>\n",
       "      <td>Dandy</td>\n",
       "      <td>Mexico</td>\n",
       "      <td>2018</td>\n",
       "      <td>2018</td>\n",
       "      <td>2016</td>\n",
       "      <td>1</td>\n",
       "      <td>0</td>\n",
       "      <td>Comedy</td>\n",
       "      <td>Crime TV Shows</td>\n",
       "      <td>4</td>\n",
       "      <td>9.4</td>\n",
       "      <td>7</td>\n",
       "    </tr>\n",
       "    <tr>\n",
       "      <td>1454</td>\n",
       "      <td>80195377</td>\n",
       "      <td>Planet Earth Ii</td>\n",
       "      <td>United Kingdom</td>\n",
       "      <td>2017</td>\n",
       "      <td>2016</td>\n",
       "      <td>2016</td>\n",
       "      <td>1</td>\n",
       "      <td>298</td>\n",
       "      <td>Documentary</td>\n",
       "      <td>British TV Shows</td>\n",
       "      <td>1</td>\n",
       "      <td>9.5</td>\n",
       "      <td>90023</td>\n",
       "    </tr>\n",
       "    <tr>\n",
       "      <td>1506</td>\n",
       "      <td>70143836</td>\n",
       "      <td>Breaking Bad</td>\n",
       "      <td>United States</td>\n",
       "      <td>2013</td>\n",
       "      <td>2008</td>\n",
       "      <td>2013</td>\n",
       "      <td>5</td>\n",
       "      <td>49</td>\n",
       "      <td>Crime</td>\n",
       "      <td>Crime TV Shows</td>\n",
       "      <td>4</td>\n",
       "      <td>9.5</td>\n",
       "      <td>1373312</td>\n",
       "    </tr>\n",
       "  </tbody>\n",
       "</table>\n",
       "<p>1507 rows × 13 columns</p>\n",
       "</div>"
      ],
      "text/plain": [
       "       show_id             title         country  year_added  release_year  \\\n",
       "6     80099753        Versailles          France        2019          2011   \n",
       "295   80111273  Game Winning Hit          Taiwan        2016          2009   \n",
       "359   70152640            Cheers   United States        2017          2011   \n",
       "193   80202859      The Bachelor     Unspecified        2019          2003   \n",
       "987   80239337            Ben 10   United States        2018          2016   \n",
       "...        ...               ...             ...         ...           ...   \n",
       "68    80157488         The Truth     Unspecified        2017          2017   \n",
       "1386  80990571    Blue Planet Ii  United Kingdom        2018          2017   \n",
       "41    80170720             Dandy          Mexico        2018          2018   \n",
       "1454  80195377   Planet Earth Ii  United Kingdom        2017          2016   \n",
       "1506  70143836      Breaking Bad   United States        2013          2008   \n",
       "\n",
       "      latest_release_year  seasons  runtimeMinutes       genres  \\\n",
       "6                    2018        3               0       Comedy   \n",
       "295                  2009        1              45        Drama   \n",
       "359                  1992       11               0       Comedy   \n",
       "193                  2009        1              60   Reality-TV   \n",
       "987                  2016        1              12       Action   \n",
       "...                   ...      ...             ...          ...   \n",
       "68                   2008        1              25       Action   \n",
       "1386                 2017        1             364  Documentary   \n",
       "41                   2016        1               0       Comedy   \n",
       "1454                 2016        1             298  Documentary   \n",
       "1506                 2013        5              49        Crime   \n",
       "\n",
       "               main_category  audience_rating  averageRating  numVotes  \n",
       "6     International TV Shows                4            1.6         5  \n",
       "295   International TV Shows                2            1.9        54  \n",
       "359        Classic & Cult TV                2            2.1        83  \n",
       "193               Reality TV                3            2.1        24  \n",
       "987                 Kids' TV                3            2.5      1976  \n",
       "...                      ...              ...            ...       ...  \n",
       "68            Crime TV Shows                3            9.3         9  \n",
       "1386        British TV Shows                1            9.3     30047  \n",
       "41            Crime TV Shows                4            9.4         7  \n",
       "1454        British TV Shows                1            9.5     90023  \n",
       "1506          Crime TV Shows                4            9.5   1373312  \n",
       "\n",
       "[1507 rows x 13 columns]"
      ]
     },
     "execution_count": 137,
     "metadata": {},
     "output_type": "execute_result"
    }
   ],
   "source": [
    "# Sort by rating \n",
    "finaltable.sort_values(by=['averageRating'])"
   ]
  },
  {
   "cell_type": "code",
   "execution_count": 140,
   "metadata": {},
   "outputs": [],
   "source": [
    "#save dataframe\n",
    "finaltable.to_csv('finaltable.csv')"
   ]
  },
  {
   "cell_type": "markdown",
   "metadata": {},
   "source": [
    "***"
   ]
  },
  {
   "cell_type": "markdown",
   "metadata": {},
   "source": [
    "## Data Cleaning"
   ]
  },
  {
   "cell_type": "markdown",
   "metadata": {},
   "source": [
    "### Cleaning and Joining the Wikipedia tables into one DataFrame"
   ]
  },
  {
   "cell_type": "markdown",
   "metadata": {},
   "source": [
    "Wikipedia's 'List of Netflix original programming':\n",
    "https://en.wikipedia.org/wiki/List_of_Netflix_original_programming#External_links   \n",
    "\n",
    "\n",
    "info to scrape for closer analisis\n",
    "1. create new dataframe for only Netflix original programming and add:\n",
    "\n",
    "\n",
    "2. create new column in main dataframe:\n",
    "- production type (1 if Netflix original production, 0 if not) INT\n"
   ]
  },
  {
   "cell_type": "code",
   "execution_count": null,
   "metadata": {},
   "outputs": [],
   "source": [
    "# Make request\n",
    "url = 'https://en.wikipedia.org/wiki/List_of_Netflix_original_programming#External_links'\n",
    "response = r.get(url)\n",
    "response"
   ]
  },
  {
   "cell_type": "code",
   "execution_count": null,
   "metadata": {},
   "outputs": [],
   "source": [
    "drama_table = pd.read_html(response.text, header=0)[0]\n",
    "comedy_table = pd.read_html(response.text, header=0)[1]\n",
    "adultanimation_table = pd.read_html(response.text, header=0)[2]\n",
    "familyanimation_table = pd.read_html(response.text, header=0)[3]\n",
    "anime_table = pd.read_html(response.text, header=0)[4]\n",
    "french_table = pd.read_html(response.text, header=0)[5]\n",
    "german_table = pd.read_html(response.text, header=0)[6]\n",
    "hindi_table = pd.read_html(response.text, header=0)[7]\n",
    "italian_table = pd.read_html(response.text, header=0)[8]\n",
    "japanese_table = pd.read_html(response.text, header=0)[9]\n",
    "korean_table = pd.read_html(response.text, header=0)[10]\n",
    "mandarin_table = pd.read_html(response.text, header=0)[11]\n",
    "norwegian_table = pd.read_html(response.text, header=0)[12]\n",
    "polish_table = pd.read_html(response.text, header=0)[13]\n",
    "portuguese_table = pd.read_html(response.text, header=0)[14]\n",
    "spanish_table = pd.read_html(response.text, header=0)[15]\n",
    "turkish_table = pd.read_html(response.text, header=0)[16]\n",
    "other_table = pd.read_html(response.text, header=0)[17]\n",
    "docuseries_table = pd.read_html(response.text, header=0)[18]\n",
    "reality_table = pd.read_html(response.text, header=0)[19]\n",
    "talk_table = pd.read_html(response.text, header=0)[20]\n",
    "##coproductions_table = pd.read_html(response.text, header=0)[21]\n",
    "continuations_table = pd.read_html(response.text, header=0)[22]"
   ]
  },
  {
   "cell_type": "markdown",
   "metadata": {},
   "source": [
    "**Drama**"
   ]
  },
  {
   "cell_type": "code",
   "execution_count": null,
   "metadata": {},
   "outputs": [],
   "source": [
    "drama_table.columns"
   ]
  },
  {
   "cell_type": "markdown",
   "metadata": {},
   "source": [
    "Genre"
   ]
  },
  {
   "cell_type": "code",
   "execution_count": null,
   "metadata": {},
   "outputs": [],
   "source": [
    "# Copy the column and change the name to Subgenre \n",
    "drama_table['Subgenre'] = drama_table['Genre']"
   ]
  },
  {
   "cell_type": "code",
   "execution_count": null,
   "metadata": {},
   "outputs": [],
   "source": [
    "drama_table.columns"
   ]
  },
  {
   "cell_type": "code",
   "execution_count": null,
   "metadata": {
    "scrolled": true
   },
   "outputs": [],
   "source": [
    "drama_table['Subgenre'].to_list()"
   ]
  },
  {
   "cell_type": "code",
   "execution_count": null,
   "metadata": {},
   "outputs": [],
   "source": [
    "# Replace all the values of Genre with Drama\n",
    "drama_table['Genre'] = 'Drama'"
   ]
  },
  {
   "cell_type": "code",
   "execution_count": null,
   "metadata": {},
   "outputs": [],
   "source": [
    "drama_table['Genre'].unique()"
   ]
  },
  {
   "cell_type": "markdown",
   "metadata": {},
   "source": [
    "Premiere"
   ]
  },
  {
   "cell_type": "code",
   "execution_count": null,
   "metadata": {},
   "outputs": [],
   "source": [
    "drama_table['Premiere'].unique()"
   ]
  },
  {
   "cell_type": "code",
   "execution_count": null,
   "metadata": {},
   "outputs": [],
   "source": [
    "# Keep only year\n",
    "drama_table['Premiere'] = drama_table['Premiere'].str[-4:]"
   ]
  },
  {
   "cell_type": "code",
   "execution_count": null,
   "metadata": {},
   "outputs": [],
   "source": [
    "drama_table['Premiere'].unique()"
   ]
  },
  {
   "cell_type": "code",
   "execution_count": null,
   "metadata": {},
   "outputs": [],
   "source": [
    "# There's a wierd row\n",
    "drama_table.tail(5)"
   ]
  },
  {
   "cell_type": "code",
   "execution_count": null,
   "metadata": {},
   "outputs": [],
   "source": [
    "drama_table.drop([75], inplace=True)\n",
    "drama_table.reset_index(drop=True, inplace=True)\n",
    "drama_table.tail(5)"
   ]
  },
  {
   "cell_type": "code",
   "execution_count": null,
   "metadata": {},
   "outputs": [],
   "source": [
    "#replace the incorrect value\n",
    "drama_table['Premiere'] = np.where((drama_table.Premiere == '[42]'),2020,\n",
    "                                   drama_table.Premiere)"
   ]
  },
  {
   "cell_type": "code",
   "execution_count": null,
   "metadata": {},
   "outputs": [],
   "source": [
    "drama_table['Premiere'].unique()"
   ]
  },
  {
   "cell_type": "markdown",
   "metadata": {},
   "source": [
    "Seasons"
   ]
  },
  {
   "cell_type": "code",
   "execution_count": null,
   "metadata": {},
   "outputs": [],
   "source": [
    "drama_table['Seasons'].unique()"
   ]
  },
  {
   "cell_type": "code",
   "execution_count": null,
   "metadata": {},
   "outputs": [],
   "source": [
    "drama_table[['Seasons','Episodes']] = drama_table.Seasons.str.split(\",\",expand=True,)\n",
    "drama_table"
   ]
  },
  {
   "cell_type": "code",
   "execution_count": null,
   "metadata": {},
   "outputs": [],
   "source": [
    "drama_table['Seasons'].unique()"
   ]
  },
  {
   "cell_type": "code",
   "execution_count": null,
   "metadata": {},
   "outputs": [],
   "source": [
    "# Keep only number\n",
    "drama_table['Seasons'] = drama_table['Seasons'].str[0]"
   ]
  },
  {
   "cell_type": "code",
   "execution_count": null,
   "metadata": {},
   "outputs": [],
   "source": [
    "drama_table['Seasons'].unique()"
   ]
  },
  {
   "cell_type": "code",
   "execution_count": null,
   "metadata": {},
   "outputs": [],
   "source": [
    "# Clean Episodes\n",
    "drama_table['Episodes'].unique()"
   ]
  },
  {
   "cell_type": "code",
   "execution_count": null,
   "metadata": {},
   "outputs": [],
   "source": [
    "drama_table['Episodes'].str[:1]"
   ]
  },
  {
   "cell_type": "code",
   "execution_count": null,
   "metadata": {},
   "outputs": [],
   "source": [
    "drama_table"
   ]
  },
  {
   "cell_type": "code",
   "execution_count": null,
   "metadata": {},
   "outputs": [],
   "source": [
    "#change to seasons/volumes/parts\n",
    "#imdb.rename(columns={'primaryTitle':'title', 'startYear':'release_year'}, inplace=True)\n"
   ]
  },
  {
   "cell_type": "markdown",
   "metadata": {},
   "source": [
    "Length"
   ]
  },
  {
   "cell_type": "code",
   "execution_count": null,
   "metadata": {},
   "outputs": [],
   "source": [
    "drama_table['Length'].unique()"
   ]
  },
  {
   "cell_type": "code",
   "execution_count": null,
   "metadata": {},
   "outputs": [],
   "source": [
    "drama_table['Length'] = drama_table['Length'].str[:5]"
   ]
  },
  {
   "cell_type": "code",
   "execution_count": null,
   "metadata": {},
   "outputs": [],
   "source": [
    "drama_table['Length'].unique()"
   ]
  },
  {
   "cell_type": "code",
   "execution_count": null,
   "metadata": {},
   "outputs": [],
   "source": [
    "drama_table[drama_table['Length'] == '23 mi']"
   ]
  },
  {
   "cell_type": "code",
   "execution_count": null,
   "metadata": {},
   "outputs": [],
   "source": [
    "#replace the incorrect value\n",
    "drama_table['Length'] = np.where((drama_table.Length == '23 mi'),23,\n",
    "                                   drama_table.Length)"
   ]
  },
  {
   "cell_type": "code",
   "execution_count": null,
   "metadata": {},
   "outputs": [],
   "source": [
    "drama_table['Length'].unique()"
   ]
  },
  {
   "cell_type": "code",
   "execution_count": null,
   "metadata": {
    "scrolled": true
   },
   "outputs": [],
   "source": [
    "drama_table['Length'] = drama_table['Length'].str[:2]"
   ]
  },
  {
   "cell_type": "code",
   "execution_count": null,
   "metadata": {},
   "outputs": [],
   "source": [
    "drama_table['Length'].unique()"
   ]
  },
  {
   "cell_type": "code",
   "execution_count": null,
   "metadata": {},
   "outputs": [],
   "source": [
    "drama_table['Length'] = np.where((drama_table.Length == '4–'),4,\n",
    "                                   drama_table.Length)"
   ]
  },
  {
   "cell_type": "code",
   "execution_count": null,
   "metadata": {},
   "outputs": [],
   "source": [
    "drama_table['Length'].unique()"
   ]
  },
  {
   "cell_type": "markdown",
   "metadata": {},
   "source": [
    "Status"
   ]
  },
  {
   "cell_type": "code",
   "execution_count": null,
   "metadata": {},
   "outputs": [],
   "source": [
    "drama_table['Status'].unique()"
   ]
  },
  {
   "cell_type": "code",
   "execution_count": null,
   "metadata": {},
   "outputs": [],
   "source": [
    "drama_table['Status'] = drama_table['Status'].str[0]"
   ]
  },
  {
   "cell_type": "code",
   "execution_count": null,
   "metadata": {},
   "outputs": [],
   "source": [
    "drama_table['Status'].value_counts()"
   ]
  },
  {
   "cell_type": "code",
   "execution_count": null,
   "metadata": {},
   "outputs": [],
   "source": [
    "drama_table['Status'] = np.where((drama_table.Status == 'S'),'P',drama_table.Status)\n",
    "drama_table['Status'] = np.where((drama_table.Status == 'M'),'E',drama_table.Status)"
   ]
  },
  {
   "cell_type": "code",
   "execution_count": null,
   "metadata": {},
   "outputs": [],
   "source": [
    "drama_table['Status'].value_counts()"
   ]
  },
  {
   "cell_type": "markdown",
   "metadata": {},
   "source": [
    "**Language**"
   ]
  },
  {
   "cell_type": "code",
   "execution_count": null,
   "metadata": {},
   "outputs": [],
   "source": [
    "drama_table['Language'] = 'English'"
   ]
  },
  {
   "cell_type": "code",
   "execution_count": null,
   "metadata": {},
   "outputs": [],
   "source": [
    "drama_table"
   ]
  },
  {
   "cell_type": "markdown",
   "metadata": {},
   "source": [
    "**Comedy**"
   ]
  },
  {
   "cell_type": "code",
   "execution_count": null,
   "metadata": {
    "scrolled": true
   },
   "outputs": [],
   "source": [
    "comedy_table.columns"
   ]
  },
  {
   "cell_type": "markdown",
   "metadata": {},
   "source": [
    "Genre"
   ]
  },
  {
   "cell_type": "code",
   "execution_count": null,
   "metadata": {},
   "outputs": [],
   "source": [
    "comedy_table['Subgenre'] = comedy_table['Genre']"
   ]
  },
  {
   "cell_type": "code",
   "execution_count": null,
   "metadata": {},
   "outputs": [],
   "source": [
    "comedy_table['Genre'] = 'Comedy'"
   ]
  },
  {
   "cell_type": "markdown",
   "metadata": {},
   "source": [
    "Premiere"
   ]
  },
  {
   "cell_type": "code",
   "execution_count": null,
   "metadata": {
    "scrolled": true
   },
   "outputs": [],
   "source": [
    "comedy_table['Premiere'].unique()"
   ]
  },
  {
   "cell_type": "code",
   "execution_count": null,
   "metadata": {},
   "outputs": [],
   "source": [
    "comedy_table['Premiere'] = comedy_table['Premiere'].str[-4:]"
   ]
  },
  {
   "cell_type": "code",
   "execution_count": null,
   "metadata": {},
   "outputs": [],
   "source": [
    "comedy_table['Premiere'].value_counts()"
   ]
  },
  {
   "cell_type": "markdown",
   "metadata": {},
   "source": [
    "Seasons"
   ]
  },
  {
   "cell_type": "code",
   "execution_count": null,
   "metadata": {},
   "outputs": [],
   "source": [
    "comedy_table['Seasons'].unique()"
   ]
  },
  {
   "cell_type": "code",
   "execution_count": null,
   "metadata": {
    "scrolled": true
   },
   "outputs": [],
   "source": [
    "comedy_table[['Seasons','Episodes']] = comedy_table.Seasons.str.split(\",\",expand=True,)\n",
    "comedy_table"
   ]
  },
  {
   "cell_type": "code",
   "execution_count": null,
   "metadata": {},
   "outputs": [],
   "source": [
    "# Keep only number\n",
    "comedy_table['Seasons'] = comedy_table['Seasons'].str[:1]"
   ]
  },
  {
   "cell_type": "code",
   "execution_count": null,
   "metadata": {},
   "outputs": [],
   "source": [
    "comedy_table['Seasons'].value_counts()"
   ]
  },
  {
   "cell_type": "code",
   "execution_count": null,
   "metadata": {},
   "outputs": [],
   "source": [
    "comedy_table['Episodes'] = comedy_table['Episodes'].str[:1]"
   ]
  },
  {
   "cell_type": "code",
   "execution_count": null,
   "metadata": {},
   "outputs": [],
   "source": [
    "comedy_table"
   ]
  },
  {
   "cell_type": "markdown",
   "metadata": {},
   "source": [
    "Lenght"
   ]
  },
  {
   "cell_type": "code",
   "execution_count": null,
   "metadata": {},
   "outputs": [],
   "source": [
    "comedy_table['Length'] = comedy_table['Length'].str[:5]"
   ]
  },
  {
   "cell_type": "markdown",
   "metadata": {},
   "source": [
    "Status"
   ]
  },
  {
   "cell_type": "code",
   "execution_count": null,
   "metadata": {},
   "outputs": [],
   "source": [
    "comedy_table['Status'] = comedy_table['Status'].str[0]"
   ]
  },
  {
   "cell_type": "code",
   "execution_count": null,
   "metadata": {},
   "outputs": [],
   "source": [
    "comedy_table['Status'].unique()"
   ]
  },
  {
   "cell_type": "code",
   "execution_count": null,
   "metadata": {},
   "outputs": [],
   "source": [
    "comedy_table['Status'] = np.where((comedy_table.Status == 'M'),'E',comedy_table.Status)"
   ]
  },
  {
   "cell_type": "code",
   "execution_count": null,
   "metadata": {},
   "outputs": [],
   "source": [
    "comedy_table['Status'].unique()"
   ]
  },
  {
   "cell_type": "markdown",
   "metadata": {},
   "source": [
    "Language"
   ]
  },
  {
   "cell_type": "code",
   "execution_count": null,
   "metadata": {},
   "outputs": [],
   "source": [
    "comedy_table['Language'] = 'English'"
   ]
  },
  {
   "cell_type": "code",
   "execution_count": null,
   "metadata": {},
   "outputs": [],
   "source": [
    "comedy_table"
   ]
  },
  {
   "cell_type": "markdown",
   "metadata": {},
   "source": [
    "**Adult Animation**"
   ]
  },
  {
   "cell_type": "code",
   "execution_count": null,
   "metadata": {},
   "outputs": [],
   "source": [
    "adultanimation_table.columns"
   ]
  },
  {
   "cell_type": "markdown",
   "metadata": {},
   "source": [
    "Genre"
   ]
  },
  {
   "cell_type": "code",
   "execution_count": null,
   "metadata": {},
   "outputs": [],
   "source": [
    "adultanimation_table['Subgenre'] = adultanimation_table['Genre']"
   ]
  },
  {
   "cell_type": "code",
   "execution_count": null,
   "metadata": {},
   "outputs": [],
   "source": [
    "adultanimation_table['Subgenre']"
   ]
  },
  {
   "cell_type": "code",
   "execution_count": null,
   "metadata": {},
   "outputs": [],
   "source": [
    "adultanimation_table['Genre'] = 'Comedy'"
   ]
  },
  {
   "cell_type": "code",
   "execution_count": null,
   "metadata": {},
   "outputs": [],
   "source": [
    "adultanimation_table"
   ]
  },
  {
   "cell_type": "markdown",
   "metadata": {},
   "source": [
    "Premiere"
   ]
  },
  {
   "cell_type": "code",
   "execution_count": null,
   "metadata": {},
   "outputs": [],
   "source": [
    "adultanimation_table['Premiere'] = adultanimation_table['Premiere'].str[-4:]"
   ]
  },
  {
   "cell_type": "code",
   "execution_count": null,
   "metadata": {},
   "outputs": [],
   "source": [
    "adultanimation_table['Premiere'].unique()"
   ]
  },
  {
   "cell_type": "markdown",
   "metadata": {},
   "source": [
    "Seasons"
   ]
  },
  {
   "cell_type": "code",
   "execution_count": null,
   "metadata": {},
   "outputs": [],
   "source": [
    "adultanimation_table[['Seasons','Episodes']] = adultanimation_table.Seasons.str.split(\",\",expand=True,)\n",
    "adultanimation_table"
   ]
  },
  {
   "cell_type": "code",
   "execution_count": null,
   "metadata": {},
   "outputs": [],
   "source": [
    "adultanimation_table['Seasons'] = adultanimation_table['Seasons'].str[:1]\n",
    "adultanimation_table['Episodes'] = adultanimation_table['Episodes'].str[:1]"
   ]
  },
  {
   "cell_type": "code",
   "execution_count": null,
   "metadata": {},
   "outputs": [],
   "source": [
    "adultanimation_table"
   ]
  },
  {
   "cell_type": "markdown",
   "metadata": {},
   "source": [
    "Length"
   ]
  },
  {
   "cell_type": "code",
   "execution_count": null,
   "metadata": {},
   "outputs": [],
   "source": [
    "adultanimation_table['Length'] = adultanimation_table['Length'].str[:5]"
   ]
  },
  {
   "cell_type": "code",
   "execution_count": null,
   "metadata": {},
   "outputs": [],
   "source": [
    "adultanimation_table['Length'].unique()"
   ]
  },
  {
   "cell_type": "markdown",
   "metadata": {},
   "source": [
    "Status"
   ]
  },
  {
   "cell_type": "code",
   "execution_count": null,
   "metadata": {},
   "outputs": [],
   "source": [
    "adultanimation_table['Status'] = comedy_table['Status'].str[0]"
   ]
  },
  {
   "cell_type": "code",
   "execution_count": null,
   "metadata": {},
   "outputs": [],
   "source": [
    "adultanimation_table['Status'].unique()"
   ]
  },
  {
   "cell_type": "markdown",
   "metadata": {},
   "source": [
    "Language"
   ]
  },
  {
   "cell_type": "code",
   "execution_count": null,
   "metadata": {},
   "outputs": [],
   "source": [
    "adultanimation_table['Language'] = 'English'"
   ]
  },
  {
   "cell_type": "code",
   "execution_count": null,
   "metadata": {},
   "outputs": [],
   "source": [
    "adultanimation_table"
   ]
  },
  {
   "cell_type": "markdown",
   "metadata": {},
   "source": [
    "**Family Animation**"
   ]
  },
  {
   "cell_type": "code",
   "execution_count": null,
   "metadata": {},
   "outputs": [],
   "source": [
    "familyanimation_table.columns"
   ]
  },
  {
   "cell_type": "markdown",
   "metadata": {},
   "source": [
    "Genre"
   ]
  },
  {
   "cell_type": "code",
   "execution_count": null,
   "metadata": {},
   "outputs": [],
   "source": [
    "familyanimation_table['Genre'] = 'Family'"
   ]
  },
  {
   "cell_type": "markdown",
   "metadata": {},
   "source": [
    "Premiere"
   ]
  },
  {
   "cell_type": "code",
   "execution_count": null,
   "metadata": {},
   "outputs": [],
   "source": [
    "familyanimation_table['Premiere'] = familyanimation_table['Premiere'].str[-4:]"
   ]
  },
  {
   "cell_type": "code",
   "execution_count": null,
   "metadata": {},
   "outputs": [],
   "source": [
    "familyanimation_table['Premiere'].unique()"
   ]
  },
  {
   "cell_type": "markdown",
   "metadata": {},
   "source": [
    "Seasons"
   ]
  },
  {
   "cell_type": "code",
   "execution_count": null,
   "metadata": {},
   "outputs": [],
   "source": [
    "familyanimation_table[['Seasons','Episodes']] = familyanimation_table.Seasons.str.split(\",\",expand=True,)\n",
    "familyanimation_table"
   ]
  },
  {
   "cell_type": "code",
   "execution_count": null,
   "metadata": {},
   "outputs": [],
   "source": [
    "familyanimation_table['Seasons'] = familyanimation_table['Seasons'].str[:1]"
   ]
  },
  {
   "cell_type": "code",
   "execution_count": null,
   "metadata": {},
   "outputs": [],
   "source": [
    "familyanimation_table['Episodes'] = familyanimation_table['Episodes'].str[0:1]"
   ]
  },
  {
   "cell_type": "code",
   "execution_count": null,
   "metadata": {},
   "outputs": [],
   "source": [
    "familyanimation_table['Episodes'].unique()"
   ]
  },
  {
   "cell_type": "markdown",
   "metadata": {},
   "source": [
    "Length"
   ]
  },
  {
   "cell_type": "code",
   "execution_count": null,
   "metadata": {},
   "outputs": [],
   "source": [
    "familyanimation_table['Length'] = familyanimation_table['Length'].str[:5]"
   ]
  },
  {
   "cell_type": "code",
   "execution_count": null,
   "metadata": {},
   "outputs": [],
   "source": [
    "familyanimation_table['Length'].unique()"
   ]
  },
  {
   "cell_type": "markdown",
   "metadata": {},
   "source": [
    "Status"
   ]
  },
  {
   "cell_type": "code",
   "execution_count": null,
   "metadata": {},
   "outputs": [],
   "source": [
    "familyanimation_table['Status'] = familyanimation_table['Status'].str[0]"
   ]
  },
  {
   "cell_type": "code",
   "execution_count": null,
   "metadata": {},
   "outputs": [],
   "source": [
    "familyanimation_table['Status'].unique()"
   ]
  },
  {
   "cell_type": "markdown",
   "metadata": {},
   "source": [
    "Language"
   ]
  },
  {
   "cell_type": "code",
   "execution_count": null,
   "metadata": {},
   "outputs": [],
   "source": [
    "familyanimation_table['Language'] = 'English'"
   ]
  },
  {
   "cell_type": "code",
   "execution_count": null,
   "metadata": {},
   "outputs": [],
   "source": [
    "familyanimation_table"
   ]
  },
  {
   "cell_type": "code",
   "execution_count": null,
   "metadata": {},
   "outputs": [],
   "source": [
    "familyanimation_table.drop([85], inplace=True)\n",
    "familyanimation_table.reset_index(drop=True, inplace=True)\n",
    "familyanimation_table.tail(5)"
   ]
  },
  {
   "cell_type": "markdown",
   "metadata": {},
   "source": [
    "**Anime**"
   ]
  },
  {
   "cell_type": "code",
   "execution_count": null,
   "metadata": {},
   "outputs": [],
   "source": []
  },
  {
   "cell_type": "code",
   "execution_count": null,
   "metadata": {},
   "outputs": [],
   "source": []
  },
  {
   "cell_type": "code",
   "execution_count": null,
   "metadata": {},
   "outputs": [],
   "source": []
  },
  {
   "cell_type": "code",
   "execution_count": null,
   "metadata": {},
   "outputs": [],
   "source": []
  },
  {
   "cell_type": "code",
   "execution_count": null,
   "metadata": {},
   "outputs": [],
   "source": []
  },
  {
   "cell_type": "markdown",
   "metadata": {},
   "source": [
    "***"
   ]
  },
  {
   "cell_type": "markdown",
   "metadata": {},
   "source": [
    "### Webscraping"
   ]
  },
  {
   "cell_type": "markdown",
   "metadata": {},
   "source": [
    "**2. Scrape the website**"
   ]
  },
  {
   "cell_type": "code",
   "execution_count": null,
   "metadata": {},
   "outputs": [],
   "source": [
    "url = ''\n",
    "soup=BeautifulSoup(r.get(url).content)\n",
    "soup"
   ]
  },
  {
   "cell_type": "code",
   "execution_count": null,
   "metadata": {},
   "outputs": [],
   "source": [
    "# Parse html content\n",
    "soup = BeautifulSoup(response.text, 'html.parser')\n",
    "soup"
   ]
  },
  {
   "cell_type": "code",
   "execution_count": null,
   "metadata": {},
   "outputs": [],
   "source": [
    "#table id's\n",
    "drama = 'dramashows'\n",
    "comedy = 'comedyshows'\n",
    "adultanimation = 'animationshows'\n",
    "familyanimation = 'childrenfamilyshows'\n",
    "anime = 'animeshows'"
   ]
  },
  {
   "cell_type": "code",
   "execution_count": null,
   "metadata": {},
   "outputs": [],
   "source": [
    "drama_table = soup.find('table', attrs={'id':drama})\n",
    "comedy_table = soup.find('table', attrs={'id':comedy})\n",
    "adultanimation_table = soup.find('table', attrs={'id':adultanimation})\n",
    "familyanimation_table = soup.find('table', attrs={'id':familyanimation})\n",
    "anime_table = soup.find('table', attrs={'id':anime})"
   ]
  },
  {
   "cell_type": "code",
   "execution_count": null,
   "metadata": {},
   "outputs": [],
   "source": []
  },
  {
   "cell_type": "code",
   "execution_count": null,
   "metadata": {},
   "outputs": [],
   "source": []
  },
  {
   "cell_type": "code",
   "execution_count": null,
   "metadata": {},
   "outputs": [],
   "source": []
  },
  {
   "cell_type": "code",
   "execution_count": null,
   "metadata": {},
   "outputs": [],
   "source": []
  },
  {
   "cell_type": "code",
   "execution_count": null,
   "metadata": {},
   "outputs": [],
   "source": []
  }
 ],
 "metadata": {
  "kernelspec": {
   "display_name": "Python 3",
   "language": "python",
   "name": "python3"
  },
  "language_info": {
   "codemirror_mode": {
    "name": "ipython",
    "version": 3
   },
   "file_extension": ".py",
   "mimetype": "text/x-python",
   "name": "python",
   "nbconvert_exporter": "python",
   "pygments_lexer": "ipython3",
   "version": "3.7.4"
  }
 },
 "nbformat": 4,
 "nbformat_minor": 2
}
